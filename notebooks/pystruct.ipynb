{
 "cells": [
  {
   "cell_type": "code",
   "execution_count": 27,
   "metadata": {},
   "outputs": [],
   "source": [
    "import sys\n",
    "if '..' not in sys.path:\n",
    "    sys.path.append('..')\n",
    "import itertools\n",
    "import pandas as pd\n",
    "import numpy as np\n",
    "\n",
    "from pystruct.learners import OneSlackSSVM\n",
    "from pystruct.models import MultiLabelClf\n",
    "\n",
    "import dataset"
   ]
  },
  {
   "cell_type": "code",
   "execution_count": 7,
   "metadata": {},
   "outputs": [],
   "source": [
    "pred_df = pd.read_csv('../runs/resnet50-aug/valid.csv', index_col=0)\n",
    "pred_df = pred_df.groupby(level=0).mean()\n",
    "pred_data = pred_df.as_matrix()\n",
    "\n",
    "train_df = pd.read_csv('../data/train_v2.csv', index_col=0)\n",
    "train_data = np.zeros((len(pred_df), dataset.N_CLASSES), dtype=np.uint8)\n",
    "for i, tags in enumerate(train_df.loc[pred_df.index]['tags']):\n",
    "    for tag in tags.split():\n",
    "        train_data[i, dataset.CLASSES.index(tag)] = 1"
   ]
  },
  {
   "cell_type": "code",
   "execution_count": 8,
   "metadata": {},
   "outputs": [
    {
     "data": {
      "text/plain": [
       "((8096, 17), (8096, 17))"
      ]
     },
     "execution_count": 8,
     "metadata": {},
     "output_type": "execute_result"
    }
   ],
   "source": [
    "train_data.shape, pred_data.shape"
   ]
  },
  {
   "cell_type": "code",
   "execution_count": 28,
   "metadata": {},
   "outputs": [
    {
     "name": "stdout",
     "output_type": "stream",
     "text": [
      "Training 1-slack dual structural SVM\n",
      "iteration 0\n",
      "current loss: 0.168914\n",
      "cutting plane objective: 0.000112, primal objective 137632.000000\n",
      "iteration 1\n",
      "new constraint too weak.\n",
      "no additional constraints\n",
      "calls to inference: 24288\n",
      "final primal objective: 14199.576713 gap: 14199.576600\n"
     ]
    },
    {
     "data": {
      "text/plain": [
       "OneSlackSSVM(C=1.0, break_on_bad=False, cache_tol='auto',\n",
       "       check_constraints=False, inactive_threshold=1e-05,\n",
       "       inactive_window=50, inference_cache=0, logger=None, max_iter=10000,\n",
       "       model=MultiLabelClf(n_states: 2, inference_method: ad3), n_jobs=1,\n",
       "       negativity_constraint=None, show_loss_every=1, switch_to=None,\n",
       "       tol=0.001, verbose=1)"
      ]
     },
     "execution_count": 28,
     "metadata": {},
     "output_type": "execute_result"
    }
   ],
   "source": [
    "n_labels = dataset.N_CLASSES\n",
    "full = np.vstack([x for x in itertools.combinations(range(n_labels), 2)])\n",
    "model = MultiLabelClf(edges=full)\n",
    "learner = OneSlackSSVM(model, show_loss_every=1, verbose=1)\n",
    "learner.fit(pred_data, train_data)"
   ]
  },
  {
   "cell_type": "code",
   "execution_count": 29,
   "metadata": {},
   "outputs": [
    {
     "data": {
      "text/plain": [
       "[array([1, 1, 1, 1, 1, 1, 1, 1, 1, 1, 1, 1, 1, 1, 1, 1, 1]),\n",
       " array([1, 1, 1, 1, 1, 1, 1, 1, 1, 1, 1, 1, 1, 1, 1, 1, 1]),\n",
       " array([1, 1, 1, 1, 1, 1, 1, 1, 1, 1, 1, 1, 1, 1, 1, 1, 1]),\n",
       " array([1, 1, 1, 1, 1, 1, 1, 1, 1, 1, 1, 1, 1, 1, 1, 1, 1]),\n",
       " array([1, 1, 1, 1, 1, 1, 1, 1, 1, 1, 1, 1, 1, 1, 1, 1, 1]),\n",
       " array([1, 1, 1, 1, 1, 1, 1, 1, 1, 1, 1, 1, 1, 1, 1, 1, 1]),\n",
       " array([1, 1, 1, 1, 1, 1, 1, 1, 1, 1, 1, 1, 1, 1, 1, 1, 1]),\n",
       " array([1, 1, 1, 1, 1, 1, 1, 1, 1, 1, 1, 1, 1, 1, 1, 1, 1]),\n",
       " array([1, 1, 1, 1, 1, 1, 1, 1, 1, 1, 1, 1, 1, 1, 1, 1, 1]),\n",
       " array([1, 1, 1, 1, 1, 1, 1, 1, 1, 1, 1, 1, 1, 1, 1, 1, 1])]"
      ]
     },
     "execution_count": 29,
     "metadata": {},
     "output_type": "execute_result"
    }
   ],
   "source": [
    "learner.predict(pred_data[:10])"
   ]
  },
  {
   "cell_type": "code",
   "execution_count": 13,
   "metadata": {},
   "outputs": [
    {
     "data": {
      "text/plain": [
       "array([[1, 0, 0, 0, 0, 1, 0, 0, 0, 0, 0, 0, 1, 0, 0, 0, 1],\n",
       "       [0, 0, 0, 0, 0, 0, 0, 0, 0, 0, 0, 1, 1, 0, 0, 0, 0],\n",
       "       [1, 0, 0, 0, 0, 1, 0, 0, 0, 0, 0, 0, 1, 1, 0, 0, 0],\n",
       "       [0, 1, 0, 0, 0, 1, 0, 0, 0, 0, 0, 0, 1, 0, 0, 0, 1],\n",
       "       [1, 0, 0, 0, 0, 1, 0, 0, 0, 0, 0, 0, 1, 1, 0, 0, 0],\n",
       "       [1, 0, 0, 0, 0, 1, 0, 0, 1, 0, 0, 0, 1, 0, 0, 0, 0],\n",
       "       [0, 0, 0, 0, 0, 1, 0, 0, 0, 0, 0, 0, 1, 0, 0, 0, 0],\n",
       "       [0, 0, 0, 0, 0, 0, 1, 0, 0, 0, 0, 0, 0, 0, 0, 0, 0],\n",
       "       [0, 0, 0, 0, 0, 1, 0, 0, 0, 0, 0, 0, 1, 0, 0, 0, 0],\n",
       "       [0, 1, 0, 0, 0, 1, 0, 0, 0, 0, 0, 0, 1, 0, 0, 0, 1]], dtype=uint8)"
      ]
     },
     "execution_count": 13,
     "metadata": {},
     "output_type": "execute_result"
    }
   ],
   "source": [
    "train_data[:10]"
   ]
  },
  {
   "cell_type": "code",
   "execution_count": 14,
   "metadata": {
    "collapsed": true
   },
   "outputs": [],
   "source": [
    "from pystruct.datasets import load_scene\n",
    "scene = load_scene()"
   ]
  },
  {
   "cell_type": "code",
   "execution_count": 16,
   "metadata": {},
   "outputs": [
    {
     "name": "stdout",
     "output_type": "stream",
     "text": [
      "X_test (1196, 294)\n",
      "X_train (1211, 294)\n",
      "y_test (1196, 6)\n",
      "y_train (1211, 6)\n"
     ]
    }
   ],
   "source": [
    "for k, v in sorted(scene.items()):\n",
    "    print(k, v.shape)"
   ]
  },
  {
   "cell_type": "code",
   "execution_count": 20,
   "metadata": {},
   "outputs": [
    {
     "data": {
      "text/plain": [
       "array([[ 0.646467 ,  0.666435 ,  0.685047 , ...,  0.247298 ,  0.0140249,\n",
       "         0.0297093],\n",
       "       [ 0.770156 ,  0.767255 ,  0.761053 , ...,  0.137833 ,  0.0826722,\n",
       "         0.0363203],\n",
       "       [ 0.793984 ,  0.772096 ,  0.76182  , ...,  0.0511252,  0.112506 ,\n",
       "         0.0839236],\n",
       "       ..., \n",
       "       [ 0.85639  ,  1.       ,  1.       , ...,  0.0194639,  0.0221667,\n",
       "         0.0437381],\n",
       "       [ 0.805592 ,  0.80417  ,  0.811438 , ...,  0.346736 ,  0.231481 ,\n",
       "         0.332623 ],\n",
       "       [ 0.855064 ,  0.858896 ,  0.911177 , ...,  0.262119 ,  0.104471 ,\n",
       "         0.34728  ]])"
      ]
     },
     "execution_count": 20,
     "metadata": {},
     "output_type": "execute_result"
    }
   ],
   "source": [
    "scene['X_train']"
   ]
  },
  {
   "cell_type": "code",
   "execution_count": 21,
   "metadata": {},
   "outputs": [
    {
     "data": {
      "text/plain": [
       "array([[1, 0, 0, 0, 1, 0],\n",
       "       [1, 0, 0, 0, 0, 1],\n",
       "       [1, 0, 0, 0, 0, 0],\n",
       "       ..., \n",
       "       [0, 0, 0, 0, 0, 1],\n",
       "       [0, 0, 0, 0, 0, 1],\n",
       "       [0, 0, 0, 0, 0, 1]])"
      ]
     },
     "execution_count": 21,
     "metadata": {},
     "output_type": "execute_result"
    }
   ],
   "source": [
    "scene['y_train']"
   ]
  },
  {
   "cell_type": "code",
   "execution_count": null,
   "metadata": {
    "collapsed": true
   },
   "outputs": [],
   "source": []
  }
 ],
 "metadata": {
  "kernelspec": {
   "display_name": "Python 3",
   "language": "python",
   "name": "python3"
  },
  "language_info": {
   "codemirror_mode": {
    "name": "ipython",
    "version": 3
   },
   "file_extension": ".py",
   "mimetype": "text/x-python",
   "name": "python",
   "nbconvert_exporter": "python",
   "pygments_lexer": "ipython3",
   "version": "3.5.2"
  }
 },
 "nbformat": 4,
 "nbformat_minor": 2
}
