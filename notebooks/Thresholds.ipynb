{
 "cells": [
  {
   "cell_type": "code",
   "execution_count": 1,
   "metadata": {
    "collapsed": true
   },
   "outputs": [],
   "source": [
    "import sys\n",
    "if '..' not in sys.path:\n",
    "    sys.path.append('..')\n",
    "import pandas as pd\n",
    "from sklearn.metrics import fbeta_score\n",
    "import numpy as np\n",
    "\n",
    "import dataset"
   ]
  },
  {
   "cell_type": "code",
   "execution_count": 10,
   "metadata": {
    "collapsed": true
   },
   "outputs": [],
   "source": [
    "def f2_score(y_true, y_pred):\n",
    "    return fbeta_score(y_true, y_pred, beta=2, average='samples')"
   ]
  },
  {
   "cell_type": "code",
   "execution_count": 67,
   "metadata": {},
   "outputs": [
    {
     "data": {
      "text/html": [
       "<div>\n",
       "<style>\n",
       "    .dataframe thead tr:only-child th {\n",
       "        text-align: right;\n",
       "    }\n",
       "\n",
       "    .dataframe thead th {\n",
       "        text-align: left;\n",
       "    }\n",
       "\n",
       "    .dataframe tbody tr th {\n",
       "        vertical-align: top;\n",
       "    }\n",
       "</style>\n",
       "<table border=\"1\" class=\"dataframe\">\n",
       "  <thead>\n",
       "    <tr style=\"text-align: right;\">\n",
       "      <th></th>\n",
       "      <th>agriculture</th>\n",
       "      <th>artisinal_mine</th>\n",
       "      <th>bare_ground</th>\n",
       "      <th>blooming</th>\n",
       "      <th>blow_down</th>\n",
       "      <th>clear</th>\n",
       "      <th>cloudy</th>\n",
       "      <th>conventional_mine</th>\n",
       "      <th>cultivation</th>\n",
       "      <th>habitation</th>\n",
       "      <th>haze</th>\n",
       "      <th>partly_cloudy</th>\n",
       "      <th>primary</th>\n",
       "      <th>road</th>\n",
       "      <th>selective_logging</th>\n",
       "      <th>slash_burn</th>\n",
       "      <th>water</th>\n",
       "    </tr>\n",
       "  </thead>\n",
       "  <tbody>\n",
       "    <tr>\n",
       "      <th>train_1</th>\n",
       "      <td>0.832206</td>\n",
       "      <td>0.000445</td>\n",
       "      <td>0.004546</td>\n",
       "      <td>0.000257</td>\n",
       "      <td>0.000190</td>\n",
       "      <td>0.991775</td>\n",
       "      <td>3.623631e-07</td>\n",
       "      <td>0.000045</td>\n",
       "      <td>0.165169</td>\n",
       "      <td>0.086677</td>\n",
       "      <td>0.000172</td>\n",
       "      <td>0.006395</td>\n",
       "      <td>0.999855</td>\n",
       "      <td>0.492553</td>\n",
       "      <td>0.001076</td>\n",
       "      <td>0.002657</td>\n",
       "      <td>0.819770</td>\n",
       "    </tr>\n",
       "    <tr>\n",
       "      <th>train_1000</th>\n",
       "      <td>0.028228</td>\n",
       "      <td>0.000038</td>\n",
       "      <td>0.000195</td>\n",
       "      <td>0.000218</td>\n",
       "      <td>0.000254</td>\n",
       "      <td>0.000044</td>\n",
       "      <td>3.386253e-05</td>\n",
       "      <td>0.000014</td>\n",
       "      <td>0.007382</td>\n",
       "      <td>0.001181</td>\n",
       "      <td>0.000011</td>\n",
       "      <td>0.999485</td>\n",
       "      <td>0.999967</td>\n",
       "      <td>0.014324</td>\n",
       "      <td>0.000314</td>\n",
       "      <td>0.000432</td>\n",
       "      <td>0.039293</td>\n",
       "    </tr>\n",
       "    <tr>\n",
       "      <th>train_10002</th>\n",
       "      <td>0.993809</td>\n",
       "      <td>0.000067</td>\n",
       "      <td>0.012697</td>\n",
       "      <td>0.000022</td>\n",
       "      <td>0.000020</td>\n",
       "      <td>0.990278</td>\n",
       "      <td>1.564288e-05</td>\n",
       "      <td>0.000094</td>\n",
       "      <td>0.111505</td>\n",
       "      <td>0.114115</td>\n",
       "      <td>0.002636</td>\n",
       "      <td>0.007507</td>\n",
       "      <td>0.957796</td>\n",
       "      <td>0.965091</td>\n",
       "      <td>0.000042</td>\n",
       "      <td>0.001357</td>\n",
       "      <td>0.097161</td>\n",
       "    </tr>\n",
       "    <tr>\n",
       "      <th>train_10008</th>\n",
       "      <td>0.011744</td>\n",
       "      <td>0.996610</td>\n",
       "      <td>0.131748</td>\n",
       "      <td>0.000294</td>\n",
       "      <td>0.000009</td>\n",
       "      <td>0.982018</td>\n",
       "      <td>1.218989e-04</td>\n",
       "      <td>0.027884</td>\n",
       "      <td>0.015543</td>\n",
       "      <td>0.040410</td>\n",
       "      <td>0.005883</td>\n",
       "      <td>0.007961</td>\n",
       "      <td>0.965080</td>\n",
       "      <td>0.283321</td>\n",
       "      <td>0.000547</td>\n",
       "      <td>0.000251</td>\n",
       "      <td>0.972098</td>\n",
       "    </tr>\n",
       "    <tr>\n",
       "      <th>train_10017</th>\n",
       "      <td>0.986268</td>\n",
       "      <td>0.000118</td>\n",
       "      <td>0.020832</td>\n",
       "      <td>0.000059</td>\n",
       "      <td>0.000015</td>\n",
       "      <td>0.954083</td>\n",
       "      <td>4.547439e-06</td>\n",
       "      <td>0.001013</td>\n",
       "      <td>0.094858</td>\n",
       "      <td>0.485867</td>\n",
       "      <td>0.015214</td>\n",
       "      <td>0.025627</td>\n",
       "      <td>0.968892</td>\n",
       "      <td>0.994855</td>\n",
       "      <td>0.001385</td>\n",
       "      <td>0.001317</td>\n",
       "      <td>0.223070</td>\n",
       "    </tr>\n",
       "  </tbody>\n",
       "</table>\n",
       "</div>"
      ],
      "text/plain": [
       "             agriculture  artisinal_mine  bare_ground  blooming  blow_down  \\\n",
       "train_1         0.832206        0.000445     0.004546  0.000257   0.000190   \n",
       "train_1000      0.028228        0.000038     0.000195  0.000218   0.000254   \n",
       "train_10002     0.993809        0.000067     0.012697  0.000022   0.000020   \n",
       "train_10008     0.011744        0.996610     0.131748  0.000294   0.000009   \n",
       "train_10017     0.986268        0.000118     0.020832  0.000059   0.000015   \n",
       "\n",
       "                clear        cloudy  conventional_mine  cultivation  \\\n",
       "train_1      0.991775  3.623631e-07           0.000045     0.165169   \n",
       "train_1000   0.000044  3.386253e-05           0.000014     0.007382   \n",
       "train_10002  0.990278  1.564288e-05           0.000094     0.111505   \n",
       "train_10008  0.982018  1.218989e-04           0.027884     0.015543   \n",
       "train_10017  0.954083  4.547439e-06           0.001013     0.094858   \n",
       "\n",
       "             habitation      haze  partly_cloudy   primary      road  \\\n",
       "train_1        0.086677  0.000172       0.006395  0.999855  0.492553   \n",
       "train_1000     0.001181  0.000011       0.999485  0.999967  0.014324   \n",
       "train_10002    0.114115  0.002636       0.007507  0.957796  0.965091   \n",
       "train_10008    0.040410  0.005883       0.007961  0.965080  0.283321   \n",
       "train_10017    0.485867  0.015214       0.025627  0.968892  0.994855   \n",
       "\n",
       "             selective_logging  slash_burn     water  \n",
       "train_1               0.001076    0.002657  0.819770  \n",
       "train_1000            0.000314    0.000432  0.039293  \n",
       "train_10002           0.000042    0.001357  0.097161  \n",
       "train_10008           0.000547    0.000251  0.972098  \n",
       "train_10017           0.001385    0.001317  0.223070  "
      ]
     },
     "execution_count": 67,
     "metadata": {},
     "output_type": "execute_result"
    }
   ],
   "source": [
    "pred_df = pd.read_csv('../runs/resnet50-aug/valid.csv', index_col=0)\n",
    "pred_df = pred_df.groupby(level=0).mean()\n",
    "pred_data = pred_df.as_matrix()\n",
    "\n",
    "train_df = pd.read_csv('../data/train_v2.csv', index_col=0)\n",
    "train_data = np.zeros((len(pred_df), dataset.N_CLASSES), dtype=np.uint8)\n",
    "for i, tags in enumerate(train_df.loc[pred_df.index]['tags']):\n",
    "    for tag in tags.split():\n",
    "        train_data[i, dataset.CLASSES.index(tag)] = 1\n",
    "pred_df[:5]"
   ]
  },
  {
   "cell_type": "code",
   "execution_count": 69,
   "metadata": {},
   "outputs": [
    {
     "data": {
      "text/plain": [
       "0.9226078512627045"
      ]
     },
     "execution_count": 69,
     "metadata": {},
     "output_type": "execute_result"
    }
   ],
   "source": [
    "f2_score(train_data, pred_data > 0.2)"
   ]
  },
  {
   "cell_type": "code",
   "execution_count": 70,
   "metadata": {},
   "outputs": [
    {
     "name": "stdout",
     "output_type": "stream",
     "text": [
      "0 0.17 0.922742443144\n",
      "1 0.25 0.922780120689\n",
      "2 0.22 0.92280361198\n",
      "3 0.23 0.922865437711\n",
      "4 0.33 0.922888795242\n",
      "5 0.19 0.922948694288\n"
     ]
    },
    {
     "name": "stderr",
     "output_type": "stream",
     "text": [
      "/home/kostia/ml/kaggle-planet-2017/venv/lib/python3.5/site-packages/sklearn/metrics/classification.py:1113: UndefinedMetricWarning: F-score is ill-defined and being set to 0.0 in samples with no predicted labels.\n",
      "  'precision', 'predicted', average, warn_for)\n"
     ]
    },
    {
     "name": "stdout",
     "output_type": "stream",
     "text": [
      "6 0.09 0.923252513721\n",
      "7 0.18 0.923276575628\n",
      "8 0.21 0.923403029709\n",
      "9 0.18 0.923404160587\n",
      "10 0.23 0.92344969275\n",
      "11 0.2 0.92344969275\n",
      "12 0.25 0.923513481427\n",
      "13 0.23 0.923708107382\n",
      "14 0.1 0.923795720452\n",
      "15 0.25 0.923808413894\n",
      "16 0.17 0.924069806579\n"
     ]
    },
    {
     "data": {
      "text/plain": [
       "[0.17,\n",
       " 0.25,\n",
       " 0.22,\n",
       " 0.23,\n",
       " 0.33,\n",
       " 0.19,\n",
       " 0.09,\n",
       " 0.18,\n",
       " 0.21,\n",
       " 0.18,\n",
       " 0.23,\n",
       " 0.2,\n",
       " 0.25,\n",
       " 0.23,\n",
       " 0.1,\n",
       " 0.25,\n",
       " 0.17]"
      ]
     },
     "execution_count": 70,
     "metadata": {},
     "output_type": "execute_result"
    }
   ],
   "source": [
    "def optimise_f2_thresholds(y, p, verbose=True, resolution=100):\n",
    "    def mf(x):\n",
    "        p2 = np.zeros_like(p)\n",
    "        for i in range(17):\n",
    "            p2[:, i] = (p[:, i] > x[i]).astype(np.int)\n",
    "        score = fbeta_score(y, p2, beta=2, average='samples')\n",
    "        return score\n",
    "\n",
    "    x = [0.2] * y.shape[1]\n",
    "    for i in range(y.shape[1]):\n",
    "        best_i2 = 0\n",
    "        best_score = 0\n",
    "        for i2 in range(resolution):\n",
    "            i2 /= resolution\n",
    "            x[i] = i2\n",
    "            score = mf(x)\n",
    "            if score > best_score:\n",
    "                best_i2 = i2\n",
    "                best_score = score\n",
    "        x[i] = best_i2\n",
    "        if verbose:\n",
    "            print(i, best_i2, best_score)\n",
    "\n",
    "    return x\n",
    "\n",
    "optimise_f2_thresholds(train_data, pred_data)"
   ]
  },
  {
   "cell_type": "code",
   "execution_count": 71,
   "metadata": {},
   "outputs": [
    {
     "name": "stdout",
     "output_type": "stream",
     "text": [
      "0 0.174 0.922769841761\n",
      "1 0.254 0.922816316869\n",
      "2 0.224 0.922869593825\n",
      "3 0.218 0.922936766647\n",
      "4 0.326 0.922960124178\n",
      "5 0.19 0.923020023223\n"
     ]
    },
    {
     "name": "stderr",
     "output_type": "stream",
     "text": [
      "/home/kostia/ml/kaggle-planet-2017/venv/lib/python3.5/site-packages/sklearn/metrics/classification.py:1113: UndefinedMetricWarning: F-score is ill-defined and being set to 0.0 in samples with no predicted labels.\n",
      "  'precision', 'predicted', average, warn_for)\n"
     ]
    },
    {
     "name": "stdout",
     "output_type": "stream",
     "text": [
      "6 0.128 0.923361480165\n",
      "7 0.176 0.923385542071\n",
      "8 0.216 0.923569960113\n",
      "9 0.188 0.923596840679\n",
      "10 0.234 0.923664888205\n",
      "11 0.202 0.923676117095\n",
      "12 0.25 0.923739905772\n",
      "13 0.246 0.923940528208\n",
      "14 0.104 0.924077437002\n",
      "15 0.134 0.92410002247\n",
      "16 0.172 0.924399369658\n"
     ]
    },
    {
     "data": {
      "text/plain": [
       "[0.174,\n",
       " 0.254,\n",
       " 0.224,\n",
       " 0.218,\n",
       " 0.326,\n",
       " 0.19,\n",
       " 0.128,\n",
       " 0.176,\n",
       " 0.216,\n",
       " 0.188,\n",
       " 0.234,\n",
       " 0.202,\n",
       " 0.25,\n",
       " 0.246,\n",
       " 0.104,\n",
       " 0.134,\n",
       " 0.172]"
      ]
     },
     "execution_count": 71,
     "metadata": {},
     "output_type": "execute_result"
    }
   ],
   "source": [
    "optimise_f2_thresholds(train_data, pred_data, resolution=500)"
   ]
  },
  {
   "cell_type": "code",
   "execution_count": 74,
   "metadata": {},
   "outputs": [],
   "source": [
    "pred2_df = pd.read_csv('../runs/resnet50-aug-fold2/valid.csv', index_col=0)\n",
    "pred2_df = pred2_df.groupby(level=0).mean()\n",
    "pred2_data = pred2_df.as_matrix()\n",
    "assert pred2_df.index.equals(pred_df.index)"
   ]
  },
  {
   "cell_type": "code",
   "execution_count": 76,
   "metadata": {},
   "outputs": [
    {
     "data": {
      "text/plain": [
       "0.92745234222823647"
      ]
     },
     "execution_count": 76,
     "metadata": {},
     "output_type": "execute_result"
    }
   ],
   "source": [
    "f2_score(train_data, pred2_data > 0.2)"
   ]
  },
  {
   "cell_type": "code",
   "execution_count": 78,
   "metadata": {},
   "outputs": [
    {
     "data": {
      "text/plain": [
       "0.92503009674547054"
      ]
     },
     "execution_count": 78,
     "metadata": {},
     "output_type": "execute_result"
    }
   ],
   "source": [
    "np.mean([f2_score(train_data, pred_data > 0.2), f2_score(train_data, pred2_data > 0.2)])"
   ]
  },
  {
   "cell_type": "code",
   "execution_count": 75,
   "metadata": {},
   "outputs": [
    {
     "name": "stdout",
     "output_type": "stream",
     "text": [
      "0 0.2 0.927452342228\n",
      "1 0.11 0.927572136469\n",
      "2 0.15 0.927585958201\n",
      "3 0.19 0.927652997346\n",
      "4 0.29 0.927673410649\n",
      "5 0.29 0.92782789578\n"
     ]
    },
    {
     "name": "stderr",
     "output_type": "stream",
     "text": [
      "/home/kostia/ml/kaggle-planet-2017/venv/lib/python3.5/site-packages/sklearn/metrics/classification.py:1113: UndefinedMetricWarning: F-score is ill-defined and being set to 0.0 in samples with no predicted labels.\n",
      "  'precision', 'predicted', average, warn_for)\n"
     ]
    },
    {
     "name": "stdout",
     "output_type": "stream",
     "text": [
      "6 0.15 0.92825963928\n",
      "7 0.08 0.928301335224\n",
      "8 0.19 0.928383085237\n",
      "9 0.19 0.928400222428\n",
      "10 0.2 0.928400222428\n",
      "11 0.22 0.928458333027\n",
      "12 0.35 0.928597845902\n",
      "13 0.26 0.928890983868\n",
      "14 0.19 0.928934575222\n",
      "15 0.12 0.928967602457\n",
      "16 0.19 0.929030713267\n"
     ]
    },
    {
     "data": {
      "text/plain": [
       "[0.2,\n",
       " 0.11,\n",
       " 0.15,\n",
       " 0.19,\n",
       " 0.29,\n",
       " 0.29,\n",
       " 0.15,\n",
       " 0.08,\n",
       " 0.19,\n",
       " 0.19,\n",
       " 0.2,\n",
       " 0.22,\n",
       " 0.35,\n",
       " 0.26,\n",
       " 0.19,\n",
       " 0.12,\n",
       " 0.19]"
      ]
     },
     "execution_count": 75,
     "metadata": {},
     "output_type": "execute_result"
    }
   ],
   "source": [
    "optimise_f2_thresholds(train_data, pred2_data)"
   ]
  }
 ],
 "metadata": {
  "kernelspec": {
   "display_name": "Python 3",
   "language": "python",
   "name": "python3"
  },
  "language_info": {
   "codemirror_mode": {
    "name": "ipython",
    "version": 3
   },
   "file_extension": ".py",
   "mimetype": "text/x-python",
   "name": "python",
   "nbconvert_exporter": "python",
   "pygments_lexer": "ipython3",
   "version": "3.5.2"
  }
 },
 "nbformat": 4,
 "nbformat_minor": 2
}
