{
 "cells": [
  {
   "cell_type": "code",
   "execution_count": 14,
   "metadata": {
    "collapsed": true
   },
   "outputs": [],
   "source": [
    "import sys\n",
    "import pandas as pd\n",
    "import numpy as np\n",
    "from matplotlib import pyplot as plt\n",
    "from sklearn.model_selection import KFold\n",
    "from scipy.stats import ttest_1samp\n",
    "%matplotlib inline\n",
    "\n",
    "if '..' not in sys.path:\n",
    "    sys.path.append('..')\n",
    "import make_bayes_submission\n",
    "from make_submission import sigmoid, logit"
   ]
  },
  {
   "cell_type": "code",
   "execution_count": 15,
   "metadata": {},
   "outputs": [
    {
     "data": {
      "text/html": [
       "<div>\n",
       "<style>\n",
       "    .dataframe thead tr:only-child th {\n",
       "        text-align: right;\n",
       "    }\n",
       "\n",
       "    .dataframe thead th {\n",
       "        text-align: left;\n",
       "    }\n",
       "\n",
       "    .dataframe tbody tr th {\n",
       "        vertical-align: top;\n",
       "    }\n",
       "</style>\n",
       "<table border=\"1\" class=\"dataframe\">\n",
       "  <thead>\n",
       "    <tr style=\"text-align: right;\">\n",
       "      <th></th>\n",
       "      <th>agriculture</th>\n",
       "      <th>artisinal_mine</th>\n",
       "      <th>bare_ground</th>\n",
       "      <th>blooming</th>\n",
       "      <th>blow_down</th>\n",
       "      <th>clear</th>\n",
       "      <th>cloudy</th>\n",
       "      <th>conventional_mine</th>\n",
       "      <th>cultivation</th>\n",
       "      <th>habitation</th>\n",
       "      <th>haze</th>\n",
       "      <th>partly_cloudy</th>\n",
       "      <th>primary</th>\n",
       "      <th>road</th>\n",
       "      <th>selective_logging</th>\n",
       "      <th>slash_burn</th>\n",
       "      <th>water</th>\n",
       "    </tr>\n",
       "    <tr>\n",
       "      <th>b'image_name'</th>\n",
       "      <th></th>\n",
       "      <th></th>\n",
       "      <th></th>\n",
       "      <th></th>\n",
       "      <th></th>\n",
       "      <th></th>\n",
       "      <th></th>\n",
       "      <th></th>\n",
       "      <th></th>\n",
       "      <th></th>\n",
       "      <th></th>\n",
       "      <th></th>\n",
       "      <th></th>\n",
       "      <th></th>\n",
       "      <th></th>\n",
       "      <th></th>\n",
       "      <th></th>\n",
       "    </tr>\n",
       "  </thead>\n",
       "  <tbody>\n",
       "    <tr>\n",
       "      <th>train_0</th>\n",
       "      <td>0.004018</td>\n",
       "      <td>0.002505</td>\n",
       "      <td>0.002335</td>\n",
       "      <td>0.002023</td>\n",
       "      <td>0.001570</td>\n",
       "      <td>0.564935</td>\n",
       "      <td>0.004454</td>\n",
       "      <td>0.001158</td>\n",
       "      <td>0.002751</td>\n",
       "      <td>0.002372</td>\n",
       "      <td>0.683979</td>\n",
       "      <td>0.002067</td>\n",
       "      <td>0.997527</td>\n",
       "      <td>0.002525</td>\n",
       "      <td>0.001848</td>\n",
       "      <td>0.001840</td>\n",
       "      <td>0.003917</td>\n",
       "    </tr>\n",
       "    <tr>\n",
       "      <th>train_1</th>\n",
       "      <td>0.817122</td>\n",
       "      <td>0.003267</td>\n",
       "      <td>0.016906</td>\n",
       "      <td>0.001994</td>\n",
       "      <td>0.001630</td>\n",
       "      <td>0.997239</td>\n",
       "      <td>0.003767</td>\n",
       "      <td>0.001254</td>\n",
       "      <td>0.460328</td>\n",
       "      <td>0.032931</td>\n",
       "      <td>0.002022</td>\n",
       "      <td>0.002043</td>\n",
       "      <td>0.997559</td>\n",
       "      <td>0.525844</td>\n",
       "      <td>0.003418</td>\n",
       "      <td>0.016891</td>\n",
       "      <td>0.826382</td>\n",
       "    </tr>\n",
       "    <tr>\n",
       "      <th>train_2</th>\n",
       "      <td>0.003122</td>\n",
       "      <td>0.002086</td>\n",
       "      <td>0.002283</td>\n",
       "      <td>0.001856</td>\n",
       "      <td>0.001547</td>\n",
       "      <td>0.997508</td>\n",
       "      <td>0.004618</td>\n",
       "      <td>0.001149</td>\n",
       "      <td>0.002176</td>\n",
       "      <td>0.002374</td>\n",
       "      <td>0.001877</td>\n",
       "      <td>0.001882</td>\n",
       "      <td>0.997805</td>\n",
       "      <td>0.002592</td>\n",
       "      <td>0.001828</td>\n",
       "      <td>0.001718</td>\n",
       "      <td>0.003053</td>\n",
       "    </tr>\n",
       "  </tbody>\n",
       "</table>\n",
       "</div>"
      ],
      "text/plain": [
       "               agriculture  artisinal_mine  bare_ground  blooming  blow_down  \\\n",
       "b'image_name'                                                                  \n",
       "train_0           0.004018        0.002505     0.002335  0.002023   0.001570   \n",
       "train_1           0.817122        0.003267     0.016906  0.001994   0.001630   \n",
       "train_2           0.003122        0.002086     0.002283  0.001856   0.001547   \n",
       "\n",
       "                  clear    cloudy  conventional_mine  cultivation  habitation  \\\n",
       "b'image_name'                                                                   \n",
       "train_0        0.564935  0.004454           0.001158     0.002751    0.002372   \n",
       "train_1        0.997239  0.003767           0.001254     0.460328    0.032931   \n",
       "train_2        0.997508  0.004618           0.001149     0.002176    0.002374   \n",
       "\n",
       "                   haze  partly_cloudy   primary      road  selective_logging  \\\n",
       "b'image_name'                                                                   \n",
       "train_0        0.683979       0.002067  0.997527  0.002525           0.001848   \n",
       "train_1        0.002022       0.002043  0.997559  0.525844           0.003418   \n",
       "train_2        0.001877       0.001882  0.997805  0.002592           0.001828   \n",
       "\n",
       "               slash_burn     water  \n",
       "b'image_name'                        \n",
       "train_0          0.001840  0.003917  \n",
       "train_1          0.016891  0.826382  \n",
       "train_2          0.001718  0.003053  "
      ]
     },
     "execution_count": 15,
     "metadata": {},
     "output_type": "execute_result"
    }
   ],
   "source": [
    "valid_pred = pd.read_hdf('../../_data/20170718-234554-b5-albu-eval.h5')\n",
    "valid_pred[:3]"
   ]
  },
  {
   "cell_type": "code",
   "execution_count": 3,
   "metadata": {},
   "outputs": [
    {
     "data": {
      "text/html": [
       "<div>\n",
       "<style>\n",
       "    .dataframe thead tr:only-child th {\n",
       "        text-align: right;\n",
       "    }\n",
       "\n",
       "    .dataframe thead th {\n",
       "        text-align: left;\n",
       "    }\n",
       "\n",
       "    .dataframe tbody tr th {\n",
       "        vertical-align: top;\n",
       "    }\n",
       "</style>\n",
       "<table border=\"1\" class=\"dataframe\">\n",
       "  <thead>\n",
       "    <tr style=\"text-align: right;\">\n",
       "      <th></th>\n",
       "      <th>agriculture</th>\n",
       "      <th>artisinal_mine</th>\n",
       "      <th>bare_ground</th>\n",
       "      <th>blooming</th>\n",
       "      <th>blow_down</th>\n",
       "      <th>clear</th>\n",
       "      <th>cloudy</th>\n",
       "      <th>conventional_mine</th>\n",
       "      <th>cultivation</th>\n",
       "      <th>habitation</th>\n",
       "      <th>haze</th>\n",
       "      <th>partly_cloudy</th>\n",
       "      <th>primary</th>\n",
       "      <th>road</th>\n",
       "      <th>selective_logging</th>\n",
       "      <th>slash_burn</th>\n",
       "      <th>water</th>\n",
       "    </tr>\n",
       "    <tr>\n",
       "      <th>image_name</th>\n",
       "      <th></th>\n",
       "      <th></th>\n",
       "      <th></th>\n",
       "      <th></th>\n",
       "      <th></th>\n",
       "      <th></th>\n",
       "      <th></th>\n",
       "      <th></th>\n",
       "      <th></th>\n",
       "      <th></th>\n",
       "      <th></th>\n",
       "      <th></th>\n",
       "      <th></th>\n",
       "      <th></th>\n",
       "      <th></th>\n",
       "      <th></th>\n",
       "      <th></th>\n",
       "    </tr>\n",
       "  </thead>\n",
       "  <tbody>\n",
       "    <tr>\n",
       "      <th>train_0</th>\n",
       "      <td>0</td>\n",
       "      <td>0</td>\n",
       "      <td>0</td>\n",
       "      <td>0</td>\n",
       "      <td>0</td>\n",
       "      <td>0</td>\n",
       "      <td>0</td>\n",
       "      <td>0</td>\n",
       "      <td>0</td>\n",
       "      <td>0</td>\n",
       "      <td>1</td>\n",
       "      <td>0</td>\n",
       "      <td>1</td>\n",
       "      <td>0</td>\n",
       "      <td>0</td>\n",
       "      <td>0</td>\n",
       "      <td>0</td>\n",
       "    </tr>\n",
       "    <tr>\n",
       "      <th>train_1</th>\n",
       "      <td>1</td>\n",
       "      <td>0</td>\n",
       "      <td>0</td>\n",
       "      <td>0</td>\n",
       "      <td>0</td>\n",
       "      <td>1</td>\n",
       "      <td>0</td>\n",
       "      <td>0</td>\n",
       "      <td>0</td>\n",
       "      <td>0</td>\n",
       "      <td>0</td>\n",
       "      <td>0</td>\n",
       "      <td>1</td>\n",
       "      <td>0</td>\n",
       "      <td>0</td>\n",
       "      <td>0</td>\n",
       "      <td>1</td>\n",
       "    </tr>\n",
       "    <tr>\n",
       "      <th>train_2</th>\n",
       "      <td>0</td>\n",
       "      <td>0</td>\n",
       "      <td>0</td>\n",
       "      <td>0</td>\n",
       "      <td>0</td>\n",
       "      <td>1</td>\n",
       "      <td>0</td>\n",
       "      <td>0</td>\n",
       "      <td>0</td>\n",
       "      <td>0</td>\n",
       "      <td>0</td>\n",
       "      <td>0</td>\n",
       "      <td>1</td>\n",
       "      <td>0</td>\n",
       "      <td>0</td>\n",
       "      <td>0</td>\n",
       "      <td>0</td>\n",
       "    </tr>\n",
       "  </tbody>\n",
       "</table>\n",
       "</div>"
      ],
      "text/plain": [
       "            agriculture  artisinal_mine  bare_ground  blooming  blow_down  \\\n",
       "image_name                                                                  \n",
       "train_0               0               0            0         0          0   \n",
       "train_1               1               0            0         0          0   \n",
       "train_2               0               0            0         0          0   \n",
       "\n",
       "            clear  cloudy  conventional_mine  cultivation  habitation  haze  \\\n",
       "image_name                                                                    \n",
       "train_0         0       0                  0            0           0     1   \n",
       "train_1         1       0                  0            0           0     0   \n",
       "train_2         1       0                  0            0           0     0   \n",
       "\n",
       "            partly_cloudy  primary  road  selective_logging  slash_burn  water  \n",
       "image_name                                                                      \n",
       "train_0                 0        1     0                  0           0      0  \n",
       "train_1                 0        1     0                  0           0      1  \n",
       "train_2                 0        1     0                  0           0      0  "
      ]
     },
     "execution_count": 3,
     "metadata": {},
     "output_type": "execute_result"
    }
   ],
   "source": [
    "train_flat = pd.read_csv('../../_data/train_flat.csv', index_col=0)\n",
    "train_flat[:3]"
   ]
  },
  {
   "cell_type": "code",
   "execution_count": 4,
   "metadata": {
    "collapsed": true
   },
   "outputs": [],
   "source": [
    "def f2_score(y_true, y_pred, eps=1e-7) -> float:\n",
    "    # same as fbeta_score(y_true, y_pred, beta=2, average='samples')\n",
    "    # but faster\n",
    "    if isinstance(y_true, pd.DataFrame):\n",
    "        y_true = y_true.as_matrix()\n",
    "    if isinstance(y_pred, pd.DataFrame):\n",
    "        y_pred = y_pred.as_matrix()\n",
    "    tp = (y_true * y_pred).sum(axis=1)\n",
    "    r = tp / y_true.sum(axis=1)\n",
    "    p = tp / (y_pred.sum(axis=1) + eps)\n",
    "    beta2 = 4\n",
    "    f2 = (1 + beta2) * p * r / (beta2 * p + r + eps)\n",
    "    return f2.mean()"
   ]
  },
  {
   "cell_type": "code",
   "execution_count": 57,
   "metadata": {},
   "outputs": [
    {
     "data": {
      "text/plain": [
       "0.93359126053359631"
      ]
     },
     "execution_count": 57,
     "metadata": {},
     "output_type": "execute_result"
    }
   ],
   "source": [
    "threshold = 0.23\n",
    "original_score = f2_score(train_flat, valid_pred > threshold)\n",
    "original_score"
   ]
  },
  {
   "cell_type": "code",
   "execution_count": 56,
   "metadata": {},
   "outputs": [
    {
     "name": "stdout",
     "output_type": "stream",
     "text": [
      "0.2066 0.0000158\n",
      "0.2086 0.0000110\n",
      "0.2106 0.0000459\n",
      "0.2126 0.0000618\n",
      "0.2146 0.0001070\n",
      "0.2167 0.0000879\n",
      "0.2187 0.0000329\n",
      "0.2207 0.0000595\n",
      "0.2227 0.0000742\n",
      "0.2247 0.0000740\n",
      "0.2268 0.0000963\n",
      "0.2288 0.0001427\n",
      "0.2308 0.0001310\n",
      "0.2328 0.0001640\n",
      "0.2348 0.0001745\n",
      "0.2369 0.0001697\n",
      "0.2389 0.0001105\n",
      "0.2409 0.0001061\n",
      "0.2429 0.0001321\n",
      "0.2449 0.0001292\n",
      "0.2470 0.0000623\n",
      "0.2490 0.0000502\n",
      "0.2510 0.0000416\n",
      "0.2530 0.0000022\n"
     ]
    }
   ],
   "source": [
    "for th in np.linspace(0.15, 0.35, 100):\n",
    "    score = f2_score(train_flat.as_matrix(), (valid_pred > th).as_matrix())\n",
    "    if score > original_score:\n",
    "        print('{:.4f} {:.7f}'.format(th, score - original_score))"
   ]
  },
  {
   "cell_type": "code",
   "execution_count": 25,
   "metadata": {},
   "outputs": [
    {
     "name": "stdout",
     "output_type": "stream",
     "text": [
      "Mean delta +0.00003\n",
      "T-test: Ttest_1sampResult(statistic=4.0514643543311033, pvalue=5.4844563729809448e-05)\n"
     ]
    },
    {
     "data": {
      "image/png": "[encoded data removed]",
      "text/plain": [
       "<matplotlib.figure.Figure at 0x11c5347b8>"
      ]
     },
     "metadata": {},
     "output_type": "display_data"
    }
   ],
   "source": [
    "deltas = []\n",
    "for _ in range(100):\n",
    "    for train_ids, valid_ids in KFold(n_splits=10, shuffle=True).split(valid_pred.index):\n",
    "        hack = valid_pred.iloc[valid_ids].copy()\n",
    "        hack[hack['cloudy'] > .7] *= .7\n",
    "        delta = (f2_score(train_flat.iloc[valid_ids], hack > threshold) -\n",
    "                 f2_score(train_flat.iloc[valid_ids], valid_pred.iloc[valid_ids] > threshold))\n",
    "        deltas.append(delta)\n",
    "        # print('{:+.5f}'.format(delta))\n",
    "plt.figure(figsize=(8, 4))\n",
    "plt.hist(deltas, bins=50);\n",
    "print('Mean delta {:+.5f}'.format(np.mean(deltas)))\n",
    "print('T-test: {}'.format(ttest_1samp(deltas, 0)))"
   ]
  },
  {
   "cell_type": "code",
   "execution_count": 28,
   "metadata": {},
   "outputs": [
    {
     "data": {
      "image/png": "[encoded data removed]",
      "text/plain": [
       "<matplotlib.figure.Figure at 0x11cac8208>"
      ]
     },
     "metadata": {},
     "output_type": "display_data"
    }
   ],
   "source": [
    "plt.hist(hack.as_matrix().sum(axis=1), bins=30);"
   ]
  },
  {
   "cell_type": "code",
   "execution_count": 29,
   "metadata": {
    "collapsed": true
   },
   "outputs": [],
   "source": [
    "bayes_valid = make_bayes_submission.get_df_prediction(valid_pred)"
   ]
  },
  {
   "cell_type": "code",
   "execution_count": 30,
   "metadata": {},
   "outputs": [
    {
     "name": "stdout",
     "output_type": "stream",
     "text": [
      "0.933601, 0.000010\n"
     ]
    }
   ],
   "source": [
    "new_score = f2_score(train_flat, bayes_valid)\n",
    "print('{:.6f}, {:.6f}'.format(new_score, new_score - original_score))"
   ]
  },
  {
   "cell_type": "code",
   "execution_count": 33,
   "metadata": {},
   "outputs": [
    {
     "name": "stdout",
     "output_type": "stream",
     "text": [
      "alpha=-0.02, score=0.933596, delta=0.000005\n",
      "alpha=-0.03, score=0.933625, delta=0.000034\n",
      "alpha=-0.05, score=0.933664, delta=0.000072\n"
     ]
    }
   ],
   "source": [
    "for alpha in [-0.02, -0.03, -0.05]:\n",
    "    new_score = f2_score(\n",
    "        train_flat,\n",
    "        make_bayes_submission.get_df_prediction(valid_pred * (1 + alpha)))\n",
    "    print('alpha={:.2f}, score={:.6f}, delta={:.6f}'.format(alpha, new_score, new_score - original_score))"
   ]
  },
  {
   "cell_type": "code",
   "execution_count": 35,
   "metadata": {},
   "outputs": [
    {
     "name": "stdout",
     "output_type": "stream",
     "text": [
      "delta=-0.05, score=0.933657, delta=0.000066\n",
      "delta=-0.10, score=0.933619, delta=0.000027\n",
      "delta=0.05, score=0.933533, delta=-0.000058\n"
     ]
    }
   ],
   "source": [
    "for delta in [-0.05, -0.10, 0.05]:\n",
    "    new_score = f2_score(\n",
    "        train_flat,\n",
    "        make_bayes_submission.get_df_prediction(sigmoid(logit(valid_pred) + delta)))\n",
    "    print('delta={:.2f}, score={:.6f}, delta={:.6f}'.format(delta, new_score, new_score - original_score))"
   ]
  },
  {
   "cell_type": "code",
   "execution_count": 63,
   "metadata": {
    "collapsed": true
   },
   "outputs": [],
   "source": [
    "for i in range(1000):\n",
    "    if not (\n",
    "        make_bayes_submission.get_item_prediction(valid_pred.iloc[i], min_p=0.03, max_p=0.5).astype(np.bool) ==\n",
    "        np.array(valid_pred.iloc[i] > threshold)).all():\n",
    "        break"
   ]
  },
  {
   "cell_type": "code",
   "execution_count": 65,
   "metadata": {},
   "outputs": [
    {
     "data": {
      "text/plain": [
       "agriculture          0.921352\n",
       "artisinal_mine       0.001565\n",
       "bare_ground          0.019235\n",
       "blooming             0.001881\n",
       "blow_down            0.001724\n",
       "clear                0.997640\n",
       "cloudy               0.001383\n",
       "conventional_mine    0.001516\n",
       "cultivation          0.250852\n",
       "habitation           0.879692\n",
       "haze                 0.002004\n",
       "partly_cloudy        0.001761\n",
       "primary              0.996084\n",
       "road                 0.912322\n",
       "selective_logging    0.004949\n",
       "slash_burn           0.002174\n",
       "water                0.209797\n",
       "Name: train_4, dtype: float64"
      ]
     },
     "execution_count": 65,
     "metadata": {},
     "output_type": "execute_result"
    }
   ],
   "source": [
    "item = valid_pred.iloc[i]\n",
    "item"
   ]
  },
  {
   "cell_type": "code",
   "execution_count": 68,
   "metadata": {},
   "outputs": [
    {
     "data": {
      "text/plain": [
       "array([ True, False, False, False, False,  True, False, False,  True,\n",
       "        True, False, False,  True,  True, False, False,  True], dtype=bool)"
      ]
     },
     "execution_count": 68,
     "metadata": {},
     "output_type": "execute_result"
    }
   ],
   "source": [
    "np.array(item > threshold)"
   ]
  },
  {
   "cell_type": "code",
   "execution_count": 69,
   "metadata": {},
   "outputs": [
    {
     "data": {
      "text/plain": [
       "array([ True, False, False, False, False,  True, False, False,  True,\n",
       "        True, False, False,  True,  True, False, False, False], dtype=bool)"
      ]
     },
     "execution_count": 69,
     "metadata": {},
     "output_type": "execute_result"
    }
   ],
   "source": [
    "make_bayes_submission.get_item_prediction(item, min_p=0.03, max_p=0.5).astype(np.bool)"
   ]
  },
  {
   "cell_type": "code",
   "execution_count": 36,
   "metadata": {},
   "outputs": [
    {
     "name": "stdout",
     "output_type": "stream",
     "text": [
      "0.933267, 0.000057\n"
     ]
    }
   ],
   "source": [
    "new_score = f2_score(train_flat, bayes_valid)\n",
    "print('{:.6f}, {:.6f}'.format(new_score, new_score - original_score))"
   ]
  },
  {
   "cell_type": "code",
   "execution_count": 37,
   "metadata": {},
   "outputs": [
    {
     "name": "stdout",
     "output_type": "stream",
     "text": [
      "0.933244, 0.000035\n"
     ]
    }
   ],
   "source": [
    "new_score = f2_score(train_flat, make_bayes_submission.get_df_prediction(valid_pred, min_p=0.02, max_p=0.7))\n",
    "print('{:.6f}, {:.6f}'.format(new_score, new_score - original_score))"
   ]
  },
  {
   "cell_type": "code",
   "execution_count": 45,
   "metadata": {},
   "outputs": [
    {
     "name": "stdout",
     "output_type": "stream",
     "text": [
      "0.933270, 0.000061\n"
     ]
    }
   ],
   "source": [
    "new_score = f2_score(train_flat, make_bayes_submission.get_df_prediction(valid_pred, min_p=0.03, max_p=0.5))\n",
    "print('{:.6f}, {:.6f}'.format(new_score, new_score - original_score))"
   ]
  },
  {
   "cell_type": "code",
   "execution_count": 32,
   "metadata": {},
   "outputs": [
    {
     "name": "stdout",
     "output_type": "stream",
     "text": [
      "Mean delta +0.000057\n",
      "T-test: Ttest_1sampResult(statistic=6.1884754633871157, pvalue=8.8523569279878356e-10)\n"
     ]
    },
    {
     "data": {
      "image/png": "[encoded data removed]",
      "text/plain": [
       "<matplotlib.figure.Figure at 0x110137d68>"
      ]
     },
     "metadata": {},
     "output_type": "display_data"
    }
   ],
   "source": [
    "deltas = []\n",
    "for _ in range(100):\n",
    "    for train_ids, valid_ids in KFold(n_splits=10, shuffle=True).split(valid_pred.index):\n",
    "        bayes = make_bayes_submission.get_df_prediction(valid_pred.iloc[valid_ids])\n",
    "        delta = (f2_score(train_flat.iloc[valid_ids], bayes) -\n",
    "                 f2_score(train_flat.iloc[valid_ids], valid_pred.iloc[valid_ids] > threshold))\n",
    "        deltas.append(delta)\n",
    "plt.figure(figsize=(8, 4))\n",
    "plt.hist(deltas, bins=50);\n",
    "print('Mean delta {:+.6f}'.format(np.mean(deltas)))\n",
    "print('T-test: {}'.format(ttest_1samp(deltas, 0)))"
   ]
  },
  {
   "cell_type": "code",
   "execution_count": 34,
   "metadata": {},
   "outputs": [
    {
     "name": "stdout",
     "output_type": "stream",
     "text": [
      "Mean delta +0.000112\n",
      "T-test: Ttest_1sampResult(statistic=3.3712499186743745, pvalue=0.0010683301814363732)\n"
     ]
    },
    {
     "data": {
      "image/png": "[encoded data removed]",
      "text/plain": [
       "<matplotlib.figure.Figure at 0x10be50940>"
      ]
     },
     "metadata": {},
     "output_type": "display_data"
    }
   ],
   "source": [
    "deltas = []\n",
    "for _ in range(10):\n",
    "    for train_ids, valid_ids in KFold(n_splits=10, shuffle=True).split(valid_pred.index):\n",
    "        hack = valid_pred.iloc[valid_ids].copy()\n",
    "        hack[hack['cloudy'] > .7] *= .7\n",
    "        bayes = make_bayes_submission.get_df_prediction(hack)\n",
    "        delta = (f2_score(train_flat.iloc[valid_ids], bayes) -\n",
    "                 f2_score(train_flat.iloc[valid_ids], valid_pred.iloc[valid_ids] > threshold))\n",
    "        deltas.append(delta)\n",
    "plt.figure(figsize=(8, 4))\n",
    "plt.hist(deltas, bins=50);\n",
    "print('Mean delta {:+.6f}'.format(np.mean(deltas)))\n",
    "print('T-test: {}'.format(ttest_1samp(deltas, 0)))"
   ]
  },
  {
   "cell_type": "code",
   "execution_count": 6,
   "metadata": {
    "collapsed": true
   },
   "outputs": [],
   "source": [
    "bayes_shifted = make_bayes_submission.get_df_prediction(sigmoid(logit(valid_pred) + 0.1))"
   ]
  },
  {
   "cell_type": "code",
   "execution_count": 10,
   "metadata": {},
   "outputs": [
    {
     "name": "stdout",
     "output_type": "stream",
     "text": [
      "Mean delta +0.000154\n",
      "T-test: Ttest_1sampResult(statistic=28.651988829842661, pvalue=2.8791999077179275e-132)\n"
     ]
    },
    {
     "data": {
      "image/png": "[encoded data removed]",
      "text/plain": [
       "<matplotlib.figure.Figure at 0x11c899748>"
      ]
     },
     "metadata": {},
     "output_type": "display_data"
    }
   ],
   "source": [
    "deltas = []\n",
    "for _ in range(100):\n",
    "    for train_ids, valid_ids in KFold(n_splits=10, shuffle=True).split(valid_pred.index):\n",
    "        delta = (f2_score(train_flat.iloc[valid_ids], bayes_shifted.iloc[valid_ids]) -\n",
    "                 f2_score(train_flat.iloc[valid_ids], valid_pred.iloc[valid_ids] > threshold))\n",
    "        deltas.append(delta)\n",
    "plt.figure(figsize=(8, 4))\n",
    "plt.hist(deltas, bins=50);\n",
    "print('Mean delta {:+.6f}'.format(np.mean(deltas)))\n",
    "print('T-test: {}'.format(ttest_1samp(deltas, 0)))"
   ]
  },
  {
   "cell_type": "code",
   "execution_count": 69,
   "metadata": {
    "collapsed": true
   },
   "outputs": [],
   "source": [
    "hack = valid_pred.copy()\n",
    "#hack[hack['cloudy'] > .7] *= .7\n",
    "bayes_shifted_hack = make_bayes_submission.get_df_prediction(sigmoid(logit(hack) - 0.05))        "
   ]
  },
  {
   "cell_type": "code",
   "execution_count": 68,
   "metadata": {},
   "outputs": [
    {
     "name": "stdout",
     "output_type": "stream",
     "text": [
      "Mean delta +0.000058\n",
      "T-test: Ttest_1sampResult(statistic=8.3901947871382649, pvalue=1.6416239430711714e-16)\n"
     ]
    },
    {
     "data": {
      "image/png": "[encoded data removed]",
      "text/plain": [
       "<matplotlib.figure.Figure at 0x11c8dfef0>"
      ]
     },
     "metadata": {},
     "output_type": "display_data"
    }
   ],
   "source": [
    "deltas = []\n",
    "for _ in range(100):\n",
    "    for train_ids, valid_ids in KFold(n_splits=10, shuffle=True).split(valid_pred.index):\n",
    "        delta = (f2_score(train_flat.iloc[valid_ids], bayes_shifted_hack.iloc[valid_ids]) -\n",
    "                 f2_score(train_flat.iloc[valid_ids], valid_pred.iloc[valid_ids] > threshold))\n",
    "        deltas.append(delta)\n",
    "plt.figure(figsize=(8, 4))\n",
    "plt.hist(deltas, bins=50);\n",
    "print('Mean delta {:+.6f}'.format(np.mean(deltas)))\n",
    "print('T-test: {}'.format(ttest_1samp(deltas, 0)))"
   ]
  },
  {
   "cell_type": "code",
   "execution_count": 59,
   "metadata": {},
   "outputs": [
    {
     "data": {
      "text/html": [
       "<div>\n",
       "<style>\n",
       "    .dataframe thead tr:only-child th {\n",
       "        text-align: right;\n",
       "    }\n",
       "\n",
       "    .dataframe thead th {\n",
       "        text-align: left;\n",
       "    }\n",
       "\n",
       "    .dataframe tbody tr th {\n",
       "        vertical-align: top;\n",
       "    }\n",
       "</style>\n",
       "<table border=\"1\" class=\"dataframe\">\n",
       "  <thead>\n",
       "    <tr style=\"text-align: right;\">\n",
       "      <th></th>\n",
       "      <th>agriculture</th>\n",
       "      <th>artisinal_mine</th>\n",
       "      <th>bare_ground</th>\n",
       "      <th>blooming</th>\n",
       "      <th>blow_down</th>\n",
       "      <th>clear</th>\n",
       "      <th>cloudy</th>\n",
       "      <th>conventional_mine</th>\n",
       "      <th>cultivation</th>\n",
       "      <th>habitation</th>\n",
       "      <th>haze</th>\n",
       "      <th>partly_cloudy</th>\n",
       "      <th>primary</th>\n",
       "      <th>road</th>\n",
       "      <th>selective_logging</th>\n",
       "      <th>slash_burn</th>\n",
       "      <th>water</th>\n",
       "    </tr>\n",
       "    <tr>\n",
       "      <th>b'image_name'</th>\n",
       "      <th></th>\n",
       "      <th></th>\n",
       "      <th></th>\n",
       "      <th></th>\n",
       "      <th></th>\n",
       "      <th></th>\n",
       "      <th></th>\n",
       "      <th></th>\n",
       "      <th></th>\n",
       "      <th></th>\n",
       "      <th></th>\n",
       "      <th></th>\n",
       "      <th></th>\n",
       "      <th></th>\n",
       "      <th></th>\n",
       "      <th></th>\n",
       "      <th></th>\n",
       "    </tr>\n",
       "  </thead>\n",
       "  <tbody>\n",
       "    <tr>\n",
       "      <th>test_0</th>\n",
       "      <td>0.004113</td>\n",
       "      <td>0.002012</td>\n",
       "      <td>0.002408</td>\n",
       "      <td>0.023581</td>\n",
       "      <td>0.001611</td>\n",
       "      <td>0.995923</td>\n",
       "      <td>0.004199</td>\n",
       "      <td>0.001131</td>\n",
       "      <td>0.002835</td>\n",
       "      <td>0.002479</td>\n",
       "      <td>0.007182</td>\n",
       "      <td>0.001789</td>\n",
       "      <td>0.997718</td>\n",
       "      <td>0.002671</td>\n",
       "      <td>0.002386</td>\n",
       "      <td>0.001717</td>\n",
       "      <td>0.003171</td>\n",
       "    </tr>\n",
       "    <tr>\n",
       "      <th>test_1</th>\n",
       "      <td>0.016897</td>\n",
       "      <td>0.002029</td>\n",
       "      <td>0.002591</td>\n",
       "      <td>0.019749</td>\n",
       "      <td>0.031641</td>\n",
       "      <td>0.997341</td>\n",
       "      <td>0.004212</td>\n",
       "      <td>0.001136</td>\n",
       "      <td>0.012829</td>\n",
       "      <td>0.002681</td>\n",
       "      <td>0.001939</td>\n",
       "      <td>0.001869</td>\n",
       "      <td>0.997683</td>\n",
       "      <td>0.002925</td>\n",
       "      <td>0.008051</td>\n",
       "      <td>0.001788</td>\n",
       "      <td>0.003476</td>\n",
       "    </tr>\n",
       "    <tr>\n",
       "      <th>test_2</th>\n",
       "      <td>0.008854</td>\n",
       "      <td>0.002017</td>\n",
       "      <td>0.002369</td>\n",
       "      <td>0.001858</td>\n",
       "      <td>0.001609</td>\n",
       "      <td>0.003500</td>\n",
       "      <td>0.004229</td>\n",
       "      <td>0.001139</td>\n",
       "      <td>0.003444</td>\n",
       "      <td>0.002375</td>\n",
       "      <td>0.001906</td>\n",
       "      <td>0.995849</td>\n",
       "      <td>0.997714</td>\n",
       "      <td>0.003574</td>\n",
       "      <td>0.001877</td>\n",
       "      <td>0.001748</td>\n",
       "      <td>0.013157</td>\n",
       "    </tr>\n",
       "  </tbody>\n",
       "</table>\n",
       "</div>"
      ],
      "text/plain": [
       "               agriculture  artisinal_mine  bare_ground  blooming  blow_down  \\\n",
       "b'image_name'                                                                  \n",
       "test_0            0.004113        0.002012     0.002408  0.023581   0.001611   \n",
       "test_1            0.016897        0.002029     0.002591  0.019749   0.031641   \n",
       "test_2            0.008854        0.002017     0.002369  0.001858   0.001609   \n",
       "\n",
       "                  clear    cloudy  conventional_mine  cultivation  habitation  \\\n",
       "b'image_name'                                                                   \n",
       "test_0         0.995923  0.004199           0.001131     0.002835    0.002479   \n",
       "test_1         0.997341  0.004212           0.001136     0.012829    0.002681   \n",
       "test_2         0.003500  0.004229           0.001139     0.003444    0.002375   \n",
       "\n",
       "                   haze  partly_cloudy   primary      road  selective_logging  \\\n",
       "b'image_name'                                                                   \n",
       "test_0         0.007182       0.001789  0.997718  0.002671           0.002386   \n",
       "test_1         0.001939       0.001869  0.997683  0.002925           0.008051   \n",
       "test_2         0.001906       0.995849  0.997714  0.003574           0.001877   \n",
       "\n",
       "               slash_burn     water  \n",
       "b'image_name'                        \n",
       "test_0           0.001717  0.003171  \n",
       "test_1           0.001788  0.003476  \n",
       "test_2           0.001748  0.013157  "
      ]
     },
     "execution_count": 59,
     "metadata": {},
     "output_type": "execute_result"
    }
   ],
   "source": [
    "test_pred = pd.read_hdf('../../_data/20170718-234554-b5-albu-test.h5')\n",
    "test_pred[:3]"
   ]
  },
  {
   "cell_type": "code",
   "execution_count": 60,
   "metadata": {
    "collapsed": true
   },
   "outputs": [],
   "source": [
    "test_hack = test_pred.copy()\n",
    "#test_hack[test_hack['cloudy'] > .7] *= .7\n",
    "bayes_shifted_test_hack = make_bayes_submission.get_df_prediction(sigmoid(logit(test_hack) - 0.05))        "
   ]
  },
  {
   "cell_type": "code",
   "execution_count": 61,
   "metadata": {},
   "outputs": [
    {
     "data": {
      "text/html": [
       "<div>\n",
       "<style>\n",
       "    .dataframe thead tr:only-child th {\n",
       "        text-align: right;\n",
       "    }\n",
       "\n",
       "    .dataframe thead th {\n",
       "        text-align: left;\n",
       "    }\n",
       "\n",
       "    .dataframe tbody tr th {\n",
       "        vertical-align: top;\n",
       "    }\n",
       "</style>\n",
       "<table border=\"1\" class=\"dataframe\">\n",
       "  <thead>\n",
       "    <tr style=\"text-align: right;\">\n",
       "      <th></th>\n",
       "      <th>agriculture</th>\n",
       "      <th>artisinal_mine</th>\n",
       "      <th>bare_ground</th>\n",
       "      <th>blooming</th>\n",
       "      <th>blow_down</th>\n",
       "      <th>clear</th>\n",
       "      <th>cloudy</th>\n",
       "      <th>conventional_mine</th>\n",
       "      <th>cultivation</th>\n",
       "      <th>habitation</th>\n",
       "      <th>haze</th>\n",
       "      <th>partly_cloudy</th>\n",
       "      <th>primary</th>\n",
       "      <th>road</th>\n",
       "      <th>selective_logging</th>\n",
       "      <th>slash_burn</th>\n",
       "      <th>water</th>\n",
       "    </tr>\n",
       "    <tr>\n",
       "      <th>b'image_name'</th>\n",
       "      <th></th>\n",
       "      <th></th>\n",
       "      <th></th>\n",
       "      <th></th>\n",
       "      <th></th>\n",
       "      <th></th>\n",
       "      <th></th>\n",
       "      <th></th>\n",
       "      <th></th>\n",
       "      <th></th>\n",
       "      <th></th>\n",
       "      <th></th>\n",
       "      <th></th>\n",
       "      <th></th>\n",
       "      <th></th>\n",
       "      <th></th>\n",
       "      <th></th>\n",
       "    </tr>\n",
       "  </thead>\n",
       "  <tbody>\n",
       "    <tr>\n",
       "      <th>test_0</th>\n",
       "      <td>0.0</td>\n",
       "      <td>0.0</td>\n",
       "      <td>0.0</td>\n",
       "      <td>0.0</td>\n",
       "      <td>0.0</td>\n",
       "      <td>1.0</td>\n",
       "      <td>0.0</td>\n",
       "      <td>0.0</td>\n",
       "      <td>0.0</td>\n",
       "      <td>0.0</td>\n",
       "      <td>0.0</td>\n",
       "      <td>0.0</td>\n",
       "      <td>1.0</td>\n",
       "      <td>0.0</td>\n",
       "      <td>0.0</td>\n",
       "      <td>0.0</td>\n",
       "      <td>0.0</td>\n",
       "    </tr>\n",
       "    <tr>\n",
       "      <th>test_1</th>\n",
       "      <td>0.0</td>\n",
       "      <td>0.0</td>\n",
       "      <td>0.0</td>\n",
       "      <td>0.0</td>\n",
       "      <td>0.0</td>\n",
       "      <td>1.0</td>\n",
       "      <td>0.0</td>\n",
       "      <td>0.0</td>\n",
       "      <td>0.0</td>\n",
       "      <td>0.0</td>\n",
       "      <td>0.0</td>\n",
       "      <td>0.0</td>\n",
       "      <td>1.0</td>\n",
       "      <td>0.0</td>\n",
       "      <td>0.0</td>\n",
       "      <td>0.0</td>\n",
       "      <td>0.0</td>\n",
       "    </tr>\n",
       "    <tr>\n",
       "      <th>test_2</th>\n",
       "      <td>0.0</td>\n",
       "      <td>0.0</td>\n",
       "      <td>0.0</td>\n",
       "      <td>0.0</td>\n",
       "      <td>0.0</td>\n",
       "      <td>0.0</td>\n",
       "      <td>0.0</td>\n",
       "      <td>0.0</td>\n",
       "      <td>0.0</td>\n",
       "      <td>0.0</td>\n",
       "      <td>0.0</td>\n",
       "      <td>1.0</td>\n",
       "      <td>1.0</td>\n",
       "      <td>0.0</td>\n",
       "      <td>0.0</td>\n",
       "      <td>0.0</td>\n",
       "      <td>0.0</td>\n",
       "    </tr>\n",
       "  </tbody>\n",
       "</table>\n",
       "</div>"
      ],
      "text/plain": [
       "               agriculture  artisinal_mine  bare_ground  blooming  blow_down  \\\n",
       "b'image_name'                                                                  \n",
       "test_0                 0.0             0.0          0.0       0.0        0.0   \n",
       "test_1                 0.0             0.0          0.0       0.0        0.0   \n",
       "test_2                 0.0             0.0          0.0       0.0        0.0   \n",
       "\n",
       "               clear  cloudy  conventional_mine  cultivation  habitation  \\\n",
       "b'image_name'                                                              \n",
       "test_0           1.0     0.0                0.0          0.0         0.0   \n",
       "test_1           1.0     0.0                0.0          0.0         0.0   \n",
       "test_2           0.0     0.0                0.0          0.0         0.0   \n",
       "\n",
       "               haze  partly_cloudy  primary  road  selective_logging  \\\n",
       "b'image_name'                                                          \n",
       "test_0          0.0            0.0      1.0   0.0                0.0   \n",
       "test_1          0.0            0.0      1.0   0.0                0.0   \n",
       "test_2          0.0            1.0      1.0   0.0                0.0   \n",
       "\n",
       "               slash_burn  water  \n",
       "b'image_name'                     \n",
       "test_0                0.0    0.0  \n",
       "test_1                0.0    0.0  \n",
       "test_2                0.0    0.0  "
      ]
     },
     "execution_count": 61,
     "metadata": {},
     "output_type": "execute_result"
    }
   ],
   "source": [
    "bayes_shifted_test_hack[:3]"
   ]
  },
  {
   "cell_type": "code",
   "execution_count": 62,
   "metadata": {},
   "outputs": [],
   "source": [
    "out_df = pd.DataFrame([\n",
    "    {'tags': ' '.join(c for c in bayes_shifted_test_hack.columns if row[c])\n",
    "     } for image_name, row in bayes_shifted_test_hack.iterrows()],\n",
    "    index=bayes_shifted_test_hack.index)"
   ]
  },
  {
   "cell_type": "code",
   "execution_count": 63,
   "metadata": {},
   "outputs": [
    {
     "data": {
      "text/plain": [
       "0.93365726053359632"
      ]
     },
     "execution_count": 63,
     "metadata": {},
     "output_type": "execute_result"
    }
   ],
   "source": [
    "original_score + 0.000066"
   ]
  },
  {
   "cell_type": "code",
   "execution_count": 64,
   "metadata": {},
   "outputs": [
    {
     "data": {
      "text/html": [
       "<div>\n",
       "<style>\n",
       "    .dataframe thead tr:only-child th {\n",
       "        text-align: right;\n",
       "    }\n",
       "\n",
       "    .dataframe thead th {\n",
       "        text-align: left;\n",
       "    }\n",
       "\n",
       "    .dataframe tbody tr th {\n",
       "        vertical-align: top;\n",
       "    }\n",
       "</style>\n",
       "<table border=\"1\" class=\"dataframe\">\n",
       "  <thead>\n",
       "    <tr style=\"text-align: right;\">\n",
       "      <th></th>\n",
       "      <th>tags</th>\n",
       "    </tr>\n",
       "    <tr>\n",
       "      <th>b'image_name'</th>\n",
       "      <th></th>\n",
       "    </tr>\n",
       "  </thead>\n",
       "  <tbody>\n",
       "    <tr>\n",
       "      <th>test_0</th>\n",
       "      <td>clear primary</td>\n",
       "    </tr>\n",
       "    <tr>\n",
       "      <th>test_1</th>\n",
       "      <td>clear primary</td>\n",
       "    </tr>\n",
       "    <tr>\n",
       "      <th>test_2</th>\n",
       "      <td>partly_cloudy primary</td>\n",
       "    </tr>\n",
       "    <tr>\n",
       "      <th>test_3</th>\n",
       "      <td>agriculture clear cultivation primary</td>\n",
       "    </tr>\n",
       "    <tr>\n",
       "      <th>test_4</th>\n",
       "      <td>cloudy partly_cloudy primary</td>\n",
       "    </tr>\n",
       "    <tr>\n",
       "      <th>test_5</th>\n",
       "      <td>clear primary</td>\n",
       "    </tr>\n",
       "    <tr>\n",
       "      <th>test_6</th>\n",
       "      <td>agriculture clear cultivation habitation partl...</td>\n",
       "    </tr>\n",
       "    <tr>\n",
       "      <th>test_7</th>\n",
       "      <td>agriculture clear habitation primary road</td>\n",
       "    </tr>\n",
       "    <tr>\n",
       "      <th>test_8</th>\n",
       "      <td>clear primary</td>\n",
       "    </tr>\n",
       "    <tr>\n",
       "      <th>test_9</th>\n",
       "      <td>agriculture clear cultivation haze primary</td>\n",
       "    </tr>\n",
       "  </tbody>\n",
       "</table>\n",
       "</div>"
      ],
      "text/plain": [
       "                                                            tags\n",
       "b'image_name'                                                   \n",
       "test_0                                             clear primary\n",
       "test_1                                             clear primary\n",
       "test_2                                     partly_cloudy primary\n",
       "test_3                     agriculture clear cultivation primary\n",
       "test_4                              cloudy partly_cloudy primary\n",
       "test_5                                             clear primary\n",
       "test_6         agriculture clear cultivation habitation partl...\n",
       "test_7                 agriculture clear habitation primary road\n",
       "test_8                                             clear primary\n",
       "test_9                agriculture clear cultivation haze primary"
      ]
     },
     "execution_count": 64,
     "metadata": {},
     "output_type": "execute_result"
    }
   ],
   "source": [
    "out_df[:10]"
   ]
  },
  {
   "cell_type": "code",
   "execution_count": 65,
   "metadata": {},
   "outputs": [],
   "source": [
    "out_df.to_csv('../../20170718-234554-b5-albu-bayesminus005-test.csv', index_label='image_name')"
   ]
  },
  {
   "cell_type": "code",
   "execution_count": 66,
   "metadata": {},
   "outputs": [
    {
     "name": "stdout",
     "output_type": "stream",
     "text": [
      "image_name,tags\r\n",
      "test_0,clear primary\r\n",
      "test_1,clear primary\r\n",
      "test_2,partly_cloudy primary\r\n",
      "test_3,agriculture clear cultivation primary\r\n",
      "test_4,cloudy partly_cloudy primary\r\n",
      "test_5,clear primary\r\n",
      "test_6,agriculture clear cultivation habitation partly_cloudy primary water\r\n",
      "test_7,agriculture clear habitation primary road\r\n",
      "test_8,clear primary\r\n"
     ]
    }
   ],
   "source": [
    "! head ../../20170718-234554-b5-albu-bayesminus005-test.csv"
   ]
  }
 ],
 "metadata": {
  "kernelspec": {
   "display_name": "Python 3",
   "language": "python",
   "name": "python3"
  },
  "language_info": {
   "codemirror_mode": {
    "name": "ipython",
    "version": 3
   },
   "file_extension": ".py",
   "mimetype": "text/x-python",
   "name": "python",
   "nbconvert_exporter": "python",
   "pygments_lexer": "ipython3",
   "version": "3.5.1"
  }
 },
 "nbformat": 4,
 "nbformat_minor": 2
}
