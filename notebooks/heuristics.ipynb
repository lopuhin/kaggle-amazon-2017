{
 "cells": [
  {
   "cell_type": "code",
   "execution_count": 1,
   "metadata": {
    "collapsed": true
   },
   "outputs": [],
   "source": [
    "import sys\n",
    "import pandas as pd\n",
    "import numpy as np\n",
    "from matplotlib import pyplot as plt\n",
    "from sklearn.model_selection import KFold\n",
    "from scipy.stats import ttest_1samp\n",
    "%matplotlib inline\n",
    "\n",
    "if '..' not in sys.path:\n",
    "    sys.path.append('..')\n",
    "import make_bayes_submission\n",
    "from make_submission import sigmoid, logit"
   ]
  },
  {
   "cell_type": "code",
   "execution_count": 2,
   "metadata": {},
   "outputs": [
    {
     "data": {
      "text/html": [
       "<div>\n",
       "<style>\n",
       "    .dataframe thead tr:only-child th {\n",
       "        text-align: right;\n",
       "    }\n",
       "\n",
       "    .dataframe thead th {\n",
       "        text-align: left;\n",
       "    }\n",
       "\n",
       "    .dataframe tbody tr th {\n",
       "        vertical-align: top;\n",
       "    }\n",
       "</style>\n",
       "<table border=\"1\" class=\"dataframe\">\n",
       "  <thead>\n",
       "    <tr style=\"text-align: right;\">\n",
       "      <th></th>\n",
       "      <th>agriculture</th>\n",
       "      <th>artisinal_mine</th>\n",
       "      <th>bare_ground</th>\n",
       "      <th>blooming</th>\n",
       "      <th>blow_down</th>\n",
       "      <th>clear</th>\n",
       "      <th>cloudy</th>\n",
       "      <th>conventional_mine</th>\n",
       "      <th>cultivation</th>\n",
       "      <th>habitation</th>\n",
       "      <th>haze</th>\n",
       "      <th>partly_cloudy</th>\n",
       "      <th>primary</th>\n",
       "      <th>road</th>\n",
       "      <th>selective_logging</th>\n",
       "      <th>slash_burn</th>\n",
       "      <th>water</th>\n",
       "    </tr>\n",
       "    <tr>\n",
       "      <th>image_name</th>\n",
       "      <th></th>\n",
       "      <th></th>\n",
       "      <th></th>\n",
       "      <th></th>\n",
       "      <th></th>\n",
       "      <th></th>\n",
       "      <th></th>\n",
       "      <th></th>\n",
       "      <th></th>\n",
       "      <th></th>\n",
       "      <th></th>\n",
       "      <th></th>\n",
       "      <th></th>\n",
       "      <th></th>\n",
       "      <th></th>\n",
       "      <th></th>\n",
       "      <th></th>\n",
       "    </tr>\n",
       "  </thead>\n",
       "  <tbody>\n",
       "    <tr>\n",
       "      <th>train_0</th>\n",
       "      <td>0</td>\n",
       "      <td>0</td>\n",
       "      <td>0</td>\n",
       "      <td>0</td>\n",
       "      <td>0</td>\n",
       "      <td>0</td>\n",
       "      <td>0</td>\n",
       "      <td>0</td>\n",
       "      <td>0</td>\n",
       "      <td>0</td>\n",
       "      <td>1</td>\n",
       "      <td>0</td>\n",
       "      <td>1</td>\n",
       "      <td>0</td>\n",
       "      <td>0</td>\n",
       "      <td>0</td>\n",
       "      <td>0</td>\n",
       "    </tr>\n",
       "    <tr>\n",
       "      <th>train_1</th>\n",
       "      <td>1</td>\n",
       "      <td>0</td>\n",
       "      <td>0</td>\n",
       "      <td>0</td>\n",
       "      <td>0</td>\n",
       "      <td>1</td>\n",
       "      <td>0</td>\n",
       "      <td>0</td>\n",
       "      <td>0</td>\n",
       "      <td>0</td>\n",
       "      <td>0</td>\n",
       "      <td>0</td>\n",
       "      <td>1</td>\n",
       "      <td>0</td>\n",
       "      <td>0</td>\n",
       "      <td>0</td>\n",
       "      <td>1</td>\n",
       "    </tr>\n",
       "    <tr>\n",
       "      <th>train_2</th>\n",
       "      <td>0</td>\n",
       "      <td>0</td>\n",
       "      <td>0</td>\n",
       "      <td>0</td>\n",
       "      <td>0</td>\n",
       "      <td>1</td>\n",
       "      <td>0</td>\n",
       "      <td>0</td>\n",
       "      <td>0</td>\n",
       "      <td>0</td>\n",
       "      <td>0</td>\n",
       "      <td>0</td>\n",
       "      <td>1</td>\n",
       "      <td>0</td>\n",
       "      <td>0</td>\n",
       "      <td>0</td>\n",
       "      <td>0</td>\n",
       "    </tr>\n",
       "  </tbody>\n",
       "</table>\n",
       "</div>"
      ],
      "text/plain": [
       "            agriculture  artisinal_mine  bare_ground  blooming  blow_down  \\\n",
       "image_name                                                                  \n",
       "train_0               0               0            0         0          0   \n",
       "train_1               1               0            0         0          0   \n",
       "train_2               0               0            0         0          0   \n",
       "\n",
       "            clear  cloudy  conventional_mine  cultivation  habitation  haze  \\\n",
       "image_name                                                                    \n",
       "train_0         0       0                  0            0           0     1   \n",
       "train_1         1       0                  0            0           0     0   \n",
       "train_2         1       0                  0            0           0     0   \n",
       "\n",
       "            partly_cloudy  primary  road  selective_logging  slash_burn  water  \n",
       "image_name                                                                      \n",
       "train_0                 0        1     0                  0           0      0  \n",
       "train_1                 0        1     0                  0           0      1  \n",
       "train_2                 0        1     0                  0           0      0  "
      ]
     },
     "execution_count": 2,
     "metadata": {},
     "output_type": "execute_result"
    }
   ],
   "source": [
    "train_flat = pd.read_csv('../../_data/train_flat.csv', index_col=0)\n",
    "train_flat[:3]"
   ]
  },
  {
   "cell_type": "code",
   "execution_count": 156,
   "metadata": {},
   "outputs": [
    {
     "data": {
      "text/html": [
       "<div>\n",
       "<style>\n",
       "    .dataframe thead tr:only-child th {\n",
       "        text-align: right;\n",
       "    }\n",
       "\n",
       "    .dataframe thead th {\n",
       "        text-align: left;\n",
       "    }\n",
       "\n",
       "    .dataframe tbody tr th {\n",
       "        vertical-align: top;\n",
       "    }\n",
       "</style>\n",
       "<table border=\"1\" class=\"dataframe\">\n",
       "  <thead>\n",
       "    <tr style=\"text-align: right;\">\n",
       "      <th></th>\n",
       "      <th>tags</th>\n",
       "    </tr>\n",
       "    <tr>\n",
       "      <th>image_name</th>\n",
       "      <th></th>\n",
       "    </tr>\n",
       "  </thead>\n",
       "  <tbody>\n",
       "    <tr>\n",
       "      <th>test_0</th>\n",
       "      <td>primary clear agriculture road water</td>\n",
       "    </tr>\n",
       "    <tr>\n",
       "      <th>test_1</th>\n",
       "      <td>primary clear agriculture road water</td>\n",
       "    </tr>\n",
       "    <tr>\n",
       "      <th>test_2</th>\n",
       "      <td>primary clear agriculture road water</td>\n",
       "    </tr>\n",
       "  </tbody>\n",
       "</table>\n",
       "</div>"
      ],
      "text/plain": [
       "                                            tags\n",
       "image_name                                      \n",
       "test_0      primary clear agriculture road water\n",
       "test_1      primary clear agriculture road water\n",
       "test_2      primary clear agriculture road water"
      ]
     },
     "execution_count": 156,
     "metadata": {},
     "output_type": "execute_result"
    }
   ],
   "source": [
    "sample_submission = pd.read_csv('../../_data/sample_submission_v2.csv', index_col=0)\n",
    "sample_submission[:3]"
   ]
  },
  {
   "cell_type": "code",
   "execution_count": 3,
   "metadata": {},
   "outputs": [
    {
     "data": {
      "text/html": [
       "<div>\n",
       "<style>\n",
       "    .dataframe thead tr:only-child th {\n",
       "        text-align: right;\n",
       "    }\n",
       "\n",
       "    .dataframe thead th {\n",
       "        text-align: left;\n",
       "    }\n",
       "\n",
       "    .dataframe tbody tr th {\n",
       "        vertical-align: top;\n",
       "    }\n",
       "</style>\n",
       "<table border=\"1\" class=\"dataframe\">\n",
       "  <thead>\n",
       "    <tr style=\"text-align: right;\">\n",
       "      <th></th>\n",
       "      <th>agriculture</th>\n",
       "      <th>artisinal_mine</th>\n",
       "      <th>bare_ground</th>\n",
       "      <th>blooming</th>\n",
       "      <th>blow_down</th>\n",
       "      <th>clear</th>\n",
       "      <th>cloudy</th>\n",
       "      <th>conventional_mine</th>\n",
       "      <th>cultivation</th>\n",
       "      <th>habitation</th>\n",
       "      <th>haze</th>\n",
       "      <th>partly_cloudy</th>\n",
       "      <th>primary</th>\n",
       "      <th>road</th>\n",
       "      <th>selective_logging</th>\n",
       "      <th>slash_burn</th>\n",
       "      <th>water</th>\n",
       "    </tr>\n",
       "    <tr>\n",
       "      <th>image_name</th>\n",
       "      <th></th>\n",
       "      <th></th>\n",
       "      <th></th>\n",
       "      <th></th>\n",
       "      <th></th>\n",
       "      <th></th>\n",
       "      <th></th>\n",
       "      <th></th>\n",
       "      <th></th>\n",
       "      <th></th>\n",
       "      <th></th>\n",
       "      <th></th>\n",
       "      <th></th>\n",
       "      <th></th>\n",
       "      <th></th>\n",
       "      <th></th>\n",
       "      <th></th>\n",
       "    </tr>\n",
       "  </thead>\n",
       "  <tbody>\n",
       "    <tr>\n",
       "      <th>train_0</th>\n",
       "      <td>0.003930</td>\n",
       "      <td>0.004211</td>\n",
       "      <td>0.002263</td>\n",
       "      <td>0.001794</td>\n",
       "      <td>0.002070</td>\n",
       "      <td>0.591027</td>\n",
       "      <td>0.006670</td>\n",
       "      <td>0.001795</td>\n",
       "      <td>0.002431</td>\n",
       "      <td>0.002176</td>\n",
       "      <td>0.683836</td>\n",
       "      <td>0.002359</td>\n",
       "      <td>0.997151</td>\n",
       "      <td>0.002328</td>\n",
       "      <td>0.002150</td>\n",
       "      <td>0.001753</td>\n",
       "      <td>0.003885</td>\n",
       "    </tr>\n",
       "    <tr>\n",
       "      <th>train_1</th>\n",
       "      <td>0.818843</td>\n",
       "      <td>0.005387</td>\n",
       "      <td>0.014422</td>\n",
       "      <td>0.001886</td>\n",
       "      <td>0.001836</td>\n",
       "      <td>0.997251</td>\n",
       "      <td>0.003316</td>\n",
       "      <td>0.002329</td>\n",
       "      <td>0.455737</td>\n",
       "      <td>0.028945</td>\n",
       "      <td>0.002248</td>\n",
       "      <td>0.002191</td>\n",
       "      <td>0.997231</td>\n",
       "      <td>0.500173</td>\n",
       "      <td>0.004191</td>\n",
       "      <td>0.016922</td>\n",
       "      <td>0.818798</td>\n",
       "    </tr>\n",
       "    <tr>\n",
       "      <th>train_2</th>\n",
       "      <td>0.003150</td>\n",
       "      <td>0.003586</td>\n",
       "      <td>0.002302</td>\n",
       "      <td>0.001734</td>\n",
       "      <td>0.001651</td>\n",
       "      <td>0.997664</td>\n",
       "      <td>0.004536</td>\n",
       "      <td>0.001653</td>\n",
       "      <td>0.001856</td>\n",
       "      <td>0.002268</td>\n",
       "      <td>0.001843</td>\n",
       "      <td>0.002075</td>\n",
       "      <td>0.997267</td>\n",
       "      <td>0.002243</td>\n",
       "      <td>0.002193</td>\n",
       "      <td>0.002039</td>\n",
       "      <td>0.002790</td>\n",
       "    </tr>\n",
       "  </tbody>\n",
       "</table>\n",
       "</div>"
      ],
      "text/plain": [
       "            agriculture  artisinal_mine  bare_ground  blooming  blow_down  \\\n",
       "image_name                                                                  \n",
       "train_0        0.003930        0.004211     0.002263  0.001794   0.002070   \n",
       "train_1        0.818843        0.005387     0.014422  0.001886   0.001836   \n",
       "train_2        0.003150        0.003586     0.002302  0.001734   0.001651   \n",
       "\n",
       "               clear    cloudy  conventional_mine  cultivation  habitation  \\\n",
       "image_name                                                                   \n",
       "train_0     0.591027  0.006670           0.001795     0.002431    0.002176   \n",
       "train_1     0.997251  0.003316           0.002329     0.455737    0.028945   \n",
       "train_2     0.997664  0.004536           0.001653     0.001856    0.002268   \n",
       "\n",
       "                haze  partly_cloudy   primary      road  selective_logging  \\\n",
       "image_name                                                                   \n",
       "train_0     0.683836       0.002359  0.997151  0.002328           0.002150   \n",
       "train_1     0.002248       0.002191  0.997231  0.500173           0.004191   \n",
       "train_2     0.001843       0.002075  0.997267  0.002243           0.002193   \n",
       "\n",
       "            slash_burn     water  \n",
       "image_name                        \n",
       "train_0       0.001753  0.003885  \n",
       "train_1       0.016922  0.818798  \n",
       "train_2       0.002039  0.002790  "
      ]
     },
     "execution_count": 3,
     "metadata": {},
     "output_type": "execute_result"
    }
   ],
   "source": [
    "valid_pred = pd.read_hdf('../../_data/20170720-005737-b6-albu-0.93359-eval.h5').loc[train_flat.index]\n",
    "valid_pred = valid_pred.loc[train_flat.index]\n",
    "valid_pred[:3]"
   ]
  },
  {
   "cell_type": "code",
   "execution_count": 55,
   "metadata": {},
   "outputs": [
    {
     "data": {
      "text/html": [
       "<div>\n",
       "<style>\n",
       "    .dataframe thead tr:only-child th {\n",
       "        text-align: right;\n",
       "    }\n",
       "\n",
       "    .dataframe thead th {\n",
       "        text-align: left;\n",
       "    }\n",
       "\n",
       "    .dataframe tbody tr th {\n",
       "        vertical-align: top;\n",
       "    }\n",
       "</style>\n",
       "<table border=\"1\" class=\"dataframe\">\n",
       "  <thead>\n",
       "    <tr style=\"text-align: right;\">\n",
       "      <th></th>\n",
       "      <th>agriculture</th>\n",
       "      <th>artisinal_mine</th>\n",
       "      <th>bare_ground</th>\n",
       "      <th>blooming</th>\n",
       "      <th>blow_down</th>\n",
       "      <th>clear</th>\n",
       "      <th>cloudy</th>\n",
       "      <th>conventional_mine</th>\n",
       "      <th>cultivation</th>\n",
       "      <th>habitation</th>\n",
       "      <th>haze</th>\n",
       "      <th>partly_cloudy</th>\n",
       "      <th>primary</th>\n",
       "      <th>road</th>\n",
       "      <th>selective_logging</th>\n",
       "      <th>slash_burn</th>\n",
       "      <th>water</th>\n",
       "    </tr>\n",
       "    <tr>\n",
       "      <th>image_name</th>\n",
       "      <th></th>\n",
       "      <th></th>\n",
       "      <th></th>\n",
       "      <th></th>\n",
       "      <th></th>\n",
       "      <th></th>\n",
       "      <th></th>\n",
       "      <th></th>\n",
       "      <th></th>\n",
       "      <th></th>\n",
       "      <th></th>\n",
       "      <th></th>\n",
       "      <th></th>\n",
       "      <th></th>\n",
       "      <th></th>\n",
       "      <th></th>\n",
       "      <th></th>\n",
       "    </tr>\n",
       "  </thead>\n",
       "  <tbody>\n",
       "    <tr>\n",
       "      <th>train_0</th>\n",
       "      <td>0.004018</td>\n",
       "      <td>0.002505</td>\n",
       "      <td>0.002335</td>\n",
       "      <td>0.002023</td>\n",
       "      <td>0.001570</td>\n",
       "      <td>0.564935</td>\n",
       "      <td>0.004454</td>\n",
       "      <td>0.001158</td>\n",
       "      <td>0.002751</td>\n",
       "      <td>0.002372</td>\n",
       "      <td>0.683979</td>\n",
       "      <td>0.002067</td>\n",
       "      <td>0.997527</td>\n",
       "      <td>0.002525</td>\n",
       "      <td>0.001848</td>\n",
       "      <td>0.001840</td>\n",
       "      <td>0.003917</td>\n",
       "    </tr>\n",
       "    <tr>\n",
       "      <th>train_1</th>\n",
       "      <td>0.817122</td>\n",
       "      <td>0.003267</td>\n",
       "      <td>0.016906</td>\n",
       "      <td>0.001994</td>\n",
       "      <td>0.001630</td>\n",
       "      <td>0.997239</td>\n",
       "      <td>0.003767</td>\n",
       "      <td>0.001254</td>\n",
       "      <td>0.460328</td>\n",
       "      <td>0.032931</td>\n",
       "      <td>0.002022</td>\n",
       "      <td>0.002043</td>\n",
       "      <td>0.997559</td>\n",
       "      <td>0.525844</td>\n",
       "      <td>0.003418</td>\n",
       "      <td>0.016891</td>\n",
       "      <td>0.826382</td>\n",
       "    </tr>\n",
       "    <tr>\n",
       "      <th>train_2</th>\n",
       "      <td>0.003122</td>\n",
       "      <td>0.002086</td>\n",
       "      <td>0.002283</td>\n",
       "      <td>0.001856</td>\n",
       "      <td>0.001547</td>\n",
       "      <td>0.997508</td>\n",
       "      <td>0.004618</td>\n",
       "      <td>0.001149</td>\n",
       "      <td>0.002176</td>\n",
       "      <td>0.002374</td>\n",
       "      <td>0.001877</td>\n",
       "      <td>0.001882</td>\n",
       "      <td>0.997805</td>\n",
       "      <td>0.002592</td>\n",
       "      <td>0.001828</td>\n",
       "      <td>0.001718</td>\n",
       "      <td>0.003053</td>\n",
       "    </tr>\n",
       "  </tbody>\n",
       "</table>\n",
       "</div>"
      ],
      "text/plain": [
       "            agriculture  artisinal_mine  bare_ground  blooming  blow_down  \\\n",
       "image_name                                                                  \n",
       "train_0        0.004018        0.002505     0.002335  0.002023   0.001570   \n",
       "train_1        0.817122        0.003267     0.016906  0.001994   0.001630   \n",
       "train_2        0.003122        0.002086     0.002283  0.001856   0.001547   \n",
       "\n",
       "               clear    cloudy  conventional_mine  cultivation  habitation  \\\n",
       "image_name                                                                   \n",
       "train_0     0.564935  0.004454           0.001158     0.002751    0.002372   \n",
       "train_1     0.997239  0.003767           0.001254     0.460328    0.032931   \n",
       "train_2     0.997508  0.004618           0.001149     0.002176    0.002374   \n",
       "\n",
       "                haze  partly_cloudy   primary      road  selective_logging  \\\n",
       "image_name                                                                   \n",
       "train_0     0.683979       0.002067  0.997527  0.002525           0.001848   \n",
       "train_1     0.002022       0.002043  0.997559  0.525844           0.003418   \n",
       "train_2     0.001877       0.001882  0.997805  0.002592           0.001828   \n",
       "\n",
       "            slash_burn     water  \n",
       "image_name                        \n",
       "train_0       0.001840  0.003917  \n",
       "train_1       0.016891  0.826382  \n",
       "train_2       0.001718  0.003053  "
      ]
     },
     "execution_count": 55,
     "metadata": {},
     "output_type": "execute_result"
    }
   ],
   "source": [
    "valid_pred_2 = pd.read_hdf('../../_data/20170718-234554-b5-albu-eval.h5').loc[train_flat.index]\n",
    "valid_pred_2 = valid_pred_2.loc[train_flat.index]\n",
    "valid_pred_2[:3]"
   ]
  },
  {
   "cell_type": "code",
   "execution_count": 54,
   "metadata": {},
   "outputs": [
    {
     "data": {
      "text/html": [
       "<div>\n",
       "<style>\n",
       "    .dataframe thead tr:only-child th {\n",
       "        text-align: right;\n",
       "    }\n",
       "\n",
       "    .dataframe thead th {\n",
       "        text-align: left;\n",
       "    }\n",
       "\n",
       "    .dataframe tbody tr th {\n",
       "        vertical-align: top;\n",
       "    }\n",
       "</style>\n",
       "<table border=\"1\" class=\"dataframe\">\n",
       "  <thead>\n",
       "    <tr style=\"text-align: right;\">\n",
       "      <th></th>\n",
       "      <th>agriculture</th>\n",
       "      <th>artisinal_mine</th>\n",
       "      <th>bare_ground</th>\n",
       "      <th>blooming</th>\n",
       "      <th>blow_down</th>\n",
       "      <th>clear</th>\n",
       "      <th>cloudy</th>\n",
       "      <th>conventional_mine</th>\n",
       "      <th>cultivation</th>\n",
       "      <th>habitation</th>\n",
       "      <th>haze</th>\n",
       "      <th>partly_cloudy</th>\n",
       "      <th>primary</th>\n",
       "      <th>road</th>\n",
       "      <th>selective_logging</th>\n",
       "      <th>slash_burn</th>\n",
       "      <th>water</th>\n",
       "    </tr>\n",
       "    <tr>\n",
       "      <th>image_name</th>\n",
       "      <th></th>\n",
       "      <th></th>\n",
       "      <th></th>\n",
       "      <th></th>\n",
       "      <th></th>\n",
       "      <th></th>\n",
       "      <th></th>\n",
       "      <th></th>\n",
       "      <th></th>\n",
       "      <th></th>\n",
       "      <th></th>\n",
       "      <th></th>\n",
       "      <th></th>\n",
       "      <th></th>\n",
       "      <th></th>\n",
       "      <th></th>\n",
       "      <th></th>\n",
       "    </tr>\n",
       "  </thead>\n",
       "  <tbody>\n",
       "    <tr>\n",
       "      <th>train_0</th>\n",
       "      <td>0.003113</td>\n",
       "      <td>0.000162</td>\n",
       "      <td>0.000521</td>\n",
       "      <td>0.000485</td>\n",
       "      <td>0.000340</td>\n",
       "      <td>0.420503</td>\n",
       "      <td>0.000231</td>\n",
       "      <td>0.000091</td>\n",
       "      <td>0.001288</td>\n",
       "      <td>0.001112</td>\n",
       "      <td>0.579858</td>\n",
       "      <td>0.000343</td>\n",
       "      <td>0.999621</td>\n",
       "      <td>0.001048</td>\n",
       "      <td>0.000420</td>\n",
       "      <td>0.000146</td>\n",
       "      <td>0.002709</td>\n",
       "    </tr>\n",
       "    <tr>\n",
       "      <th>train_1</th>\n",
       "      <td>0.789577</td>\n",
       "      <td>0.000953</td>\n",
       "      <td>0.019854</td>\n",
       "      <td>0.000415</td>\n",
       "      <td>0.000505</td>\n",
       "      <td>0.998904</td>\n",
       "      <td>0.000171</td>\n",
       "      <td>0.000254</td>\n",
       "      <td>0.298429</td>\n",
       "      <td>0.033271</td>\n",
       "      <td>0.000574</td>\n",
       "      <td>0.000375</td>\n",
       "      <td>0.999673</td>\n",
       "      <td>0.354220</td>\n",
       "      <td>0.002517</td>\n",
       "      <td>0.028999</td>\n",
       "      <td>0.770127</td>\n",
       "    </tr>\n",
       "    <tr>\n",
       "      <th>train_2</th>\n",
       "      <td>0.002829</td>\n",
       "      <td>0.000195</td>\n",
       "      <td>0.000495</td>\n",
       "      <td>0.000262</td>\n",
       "      <td>0.000376</td>\n",
       "      <td>0.999148</td>\n",
       "      <td>0.000208</td>\n",
       "      <td>0.000224</td>\n",
       "      <td>0.000850</td>\n",
       "      <td>0.001200</td>\n",
       "      <td>0.000485</td>\n",
       "      <td>0.000307</td>\n",
       "      <td>0.999714</td>\n",
       "      <td>0.000747</td>\n",
       "      <td>0.000391</td>\n",
       "      <td>0.000179</td>\n",
       "      <td>0.001632</td>\n",
       "    </tr>\n",
       "  </tbody>\n",
       "</table>\n",
       "</div>"
      ],
      "text/plain": [
       "            agriculture  artisinal_mine  bare_ground  blooming  blow_down  \\\n",
       "image_name                                                                  \n",
       "train_0        0.003113        0.000162     0.000521  0.000485   0.000340   \n",
       "train_1        0.789577        0.000953     0.019854  0.000415   0.000505   \n",
       "train_2        0.002829        0.000195     0.000495  0.000262   0.000376   \n",
       "\n",
       "               clear    cloudy  conventional_mine  cultivation  habitation  \\\n",
       "image_name                                                                   \n",
       "train_0     0.420503  0.000231           0.000091     0.001288    0.001112   \n",
       "train_1     0.998904  0.000171           0.000254     0.298429    0.033271   \n",
       "train_2     0.999148  0.000208           0.000224     0.000850    0.001200   \n",
       "\n",
       "                haze  partly_cloudy   primary      road  selective_logging  \\\n",
       "image_name                                                                   \n",
       "train_0     0.579858       0.000343  0.999621  0.001048           0.000420   \n",
       "train_1     0.000574       0.000375  0.999673  0.354220           0.002517   \n",
       "train_2     0.000485       0.000307  0.999714  0.000747           0.000391   \n",
       "\n",
       "            slash_burn     water  \n",
       "image_name                        \n",
       "train_0       0.000146  0.002709  \n",
       "train_1       0.028999  0.770127  \n",
       "train_2       0.000179  0.001632  "
      ]
     },
     "execution_count": 54,
     "metadata": {},
     "output_type": "execute_result"
    }
   ],
   "source": [
    "valid_pred_3 = pd.read_hdf('../../_data/train_mean2_01_09_0.933540_uncalibrated.h5').loc[train_flat.index]\n",
    "valid_pred_3 = valid_pred_3.loc[train_flat.index]\n",
    "valid_pred_3[:3]"
   ]
  },
  {
   "cell_type": "code",
   "execution_count": 65,
   "metadata": {},
   "outputs": [
    {
     "data": {
      "text/html": [
       "<div>\n",
       "<style>\n",
       "    .dataframe thead tr:only-child th {\n",
       "        text-align: right;\n",
       "    }\n",
       "\n",
       "    .dataframe thead th {\n",
       "        text-align: left;\n",
       "    }\n",
       "\n",
       "    .dataframe tbody tr th {\n",
       "        vertical-align: top;\n",
       "    }\n",
       "</style>\n",
       "<table border=\"1\" class=\"dataframe\">\n",
       "  <thead>\n",
       "    <tr style=\"text-align: right;\">\n",
       "      <th></th>\n",
       "      <th>agriculture</th>\n",
       "      <th>artisinal_mine</th>\n",
       "      <th>bare_ground</th>\n",
       "      <th>blooming</th>\n",
       "      <th>blow_down</th>\n",
       "      <th>clear</th>\n",
       "      <th>cloudy</th>\n",
       "      <th>conventional_mine</th>\n",
       "      <th>cultivation</th>\n",
       "      <th>habitation</th>\n",
       "      <th>haze</th>\n",
       "      <th>partly_cloudy</th>\n",
       "      <th>primary</th>\n",
       "      <th>road</th>\n",
       "      <th>selective_logging</th>\n",
       "      <th>slash_burn</th>\n",
       "      <th>water</th>\n",
       "    </tr>\n",
       "    <tr>\n",
       "      <th>image_name</th>\n",
       "      <th></th>\n",
       "      <th></th>\n",
       "      <th></th>\n",
       "      <th></th>\n",
       "      <th></th>\n",
       "      <th></th>\n",
       "      <th></th>\n",
       "      <th></th>\n",
       "      <th></th>\n",
       "      <th></th>\n",
       "      <th></th>\n",
       "      <th></th>\n",
       "      <th></th>\n",
       "      <th></th>\n",
       "      <th></th>\n",
       "      <th></th>\n",
       "      <th></th>\n",
       "    </tr>\n",
       "  </thead>\n",
       "  <tbody>\n",
       "    <tr>\n",
       "      <th>train_0</th>\n",
       "      <td>0.001607</td>\n",
       "      <td>0.000020</td>\n",
       "      <td>0.000129</td>\n",
       "      <td>0.000260</td>\n",
       "      <td>0.000047</td>\n",
       "      <td>0.783056</td>\n",
       "      <td>0.000066</td>\n",
       "      <td>0.000019</td>\n",
       "      <td>0.001060</td>\n",
       "      <td>0.000264</td>\n",
       "      <td>0.845964</td>\n",
       "      <td>0.000842</td>\n",
       "      <td>0.999914</td>\n",
       "      <td>0.000517</td>\n",
       "      <td>0.000069</td>\n",
       "      <td>0.000055</td>\n",
       "      <td>0.002081</td>\n",
       "    </tr>\n",
       "    <tr>\n",
       "      <th>train_1</th>\n",
       "      <td>0.906032</td>\n",
       "      <td>0.001333</td>\n",
       "      <td>0.006105</td>\n",
       "      <td>0.000215</td>\n",
       "      <td>0.000233</td>\n",
       "      <td>0.999280</td>\n",
       "      <td>0.000011</td>\n",
       "      <td>0.000175</td>\n",
       "      <td>0.736821</td>\n",
       "      <td>0.021277</td>\n",
       "      <td>0.000135</td>\n",
       "      <td>0.000616</td>\n",
       "      <td>0.999910</td>\n",
       "      <td>0.762156</td>\n",
       "      <td>0.001573</td>\n",
       "      <td>0.006703</td>\n",
       "      <td>0.904305</td>\n",
       "    </tr>\n",
       "    <tr>\n",
       "      <th>train_2</th>\n",
       "      <td>0.000343</td>\n",
       "      <td>0.000002</td>\n",
       "      <td>0.000013</td>\n",
       "      <td>0.000081</td>\n",
       "      <td>0.000016</td>\n",
       "      <td>0.999854</td>\n",
       "      <td>0.000006</td>\n",
       "      <td>0.000002</td>\n",
       "      <td>0.000162</td>\n",
       "      <td>0.000038</td>\n",
       "      <td>0.000035</td>\n",
       "      <td>0.000094</td>\n",
       "      <td>0.999987</td>\n",
       "      <td>0.000087</td>\n",
       "      <td>0.000012</td>\n",
       "      <td>0.000004</td>\n",
       "      <td>0.000215</td>\n",
       "    </tr>\n",
       "  </tbody>\n",
       "</table>\n",
       "</div>"
      ],
      "text/plain": [
       "            agriculture  artisinal_mine  bare_ground  blooming  blow_down  \\\n",
       "image_name                                                                  \n",
       "train_0        0.001607        0.000020     0.000129  0.000260   0.000047   \n",
       "train_1        0.906032        0.001333     0.006105  0.000215   0.000233   \n",
       "train_2        0.000343        0.000002     0.000013  0.000081   0.000016   \n",
       "\n",
       "               clear    cloudy  conventional_mine  cultivation  habitation  \\\n",
       "image_name                                                                   \n",
       "train_0     0.783056  0.000066           0.000019     0.001060    0.000264   \n",
       "train_1     0.999280  0.000011           0.000175     0.736821    0.021277   \n",
       "train_2     0.999854  0.000006           0.000002     0.000162    0.000038   \n",
       "\n",
       "                haze  partly_cloudy   primary      road  selective_logging  \\\n",
       "image_name                                                                   \n",
       "train_0     0.845964       0.000842  0.999914  0.000517           0.000069   \n",
       "train_1     0.000135       0.000616  0.999910  0.762156           0.001573   \n",
       "train_2     0.000035       0.000094  0.999987  0.000087           0.000012   \n",
       "\n",
       "            slash_burn     water  \n",
       "image_name                        \n",
       "train_0       0.000055  0.002081  \n",
       "train_1       0.006703  0.904305  \n",
       "train_2       0.000004  0.000215  "
      ]
     },
     "execution_count": 65,
     "metadata": {},
     "output_type": "execute_result"
    }
   ],
   "source": [
    "valid_pred_4 = pd.read_hdf('../../_data/20170720-230454-b6-0.93359-eval.h5').loc[train_flat.index]\n",
    "valid_pred_4 = valid_pred_4.loc[train_flat.index]\n",
    "valid_pred_4[:3]"
   ]
  },
  {
   "cell_type": "code",
   "execution_count": 83,
   "metadata": {},
   "outputs": [
    {
     "data": {
      "text/html": [
       "<div>\n",
       "<style>\n",
       "    .dataframe thead tr:only-child th {\n",
       "        text-align: right;\n",
       "    }\n",
       "\n",
       "    .dataframe thead th {\n",
       "        text-align: left;\n",
       "    }\n",
       "\n",
       "    .dataframe tbody tr th {\n",
       "        vertical-align: top;\n",
       "    }\n",
       "</style>\n",
       "<table border=\"1\" class=\"dataframe\">\n",
       "  <thead>\n",
       "    <tr style=\"text-align: right;\">\n",
       "      <th></th>\n",
       "      <th>agriculture</th>\n",
       "      <th>artisinal_mine</th>\n",
       "      <th>bare_ground</th>\n",
       "      <th>blooming</th>\n",
       "      <th>blow_down</th>\n",
       "      <th>clear</th>\n",
       "      <th>cloudy</th>\n",
       "      <th>conventional_mine</th>\n",
       "      <th>cultivation</th>\n",
       "      <th>habitation</th>\n",
       "      <th>haze</th>\n",
       "      <th>partly_cloudy</th>\n",
       "      <th>primary</th>\n",
       "      <th>road</th>\n",
       "      <th>selective_logging</th>\n",
       "      <th>slash_burn</th>\n",
       "      <th>water</th>\n",
       "    </tr>\n",
       "    <tr>\n",
       "      <th>image_name</th>\n",
       "      <th></th>\n",
       "      <th></th>\n",
       "      <th></th>\n",
       "      <th></th>\n",
       "      <th></th>\n",
       "      <th></th>\n",
       "      <th></th>\n",
       "      <th></th>\n",
       "      <th></th>\n",
       "      <th></th>\n",
       "      <th></th>\n",
       "      <th></th>\n",
       "      <th></th>\n",
       "      <th></th>\n",
       "      <th></th>\n",
       "      <th></th>\n",
       "      <th></th>\n",
       "    </tr>\n",
       "  </thead>\n",
       "  <tbody>\n",
       "    <tr>\n",
       "      <th>train_0</th>\n",
       "      <td>0.005478</td>\n",
       "      <td>0.007004</td>\n",
       "      <td>0.003685</td>\n",
       "      <td>0.002817</td>\n",
       "      <td>0.003418</td>\n",
       "      <td>0.463008</td>\n",
       "      <td>0.011074</td>\n",
       "      <td>0.002979</td>\n",
       "      <td>0.003345</td>\n",
       "      <td>0.003450</td>\n",
       "      <td>0.575751</td>\n",
       "      <td>0.003370</td>\n",
       "      <td>0.995309</td>\n",
       "      <td>0.003536</td>\n",
       "      <td>0.003538</td>\n",
       "      <td>0.002884</td>\n",
       "      <td>0.005087</td>\n",
       "    </tr>\n",
       "    <tr>\n",
       "      <th>train_1</th>\n",
       "      <td>0.760717</td>\n",
       "      <td>0.008090</td>\n",
       "      <td>0.019966</td>\n",
       "      <td>0.003001</td>\n",
       "      <td>0.002905</td>\n",
       "      <td>0.995899</td>\n",
       "      <td>0.005518</td>\n",
       "      <td>0.003765</td>\n",
       "      <td>0.268348</td>\n",
       "      <td>0.034056</td>\n",
       "      <td>0.003656</td>\n",
       "      <td>0.003242</td>\n",
       "      <td>0.995445</td>\n",
       "      <td>0.325517</td>\n",
       "      <td>0.005937</td>\n",
       "      <td>0.023736</td>\n",
       "      <td>0.761794</td>\n",
       "    </tr>\n",
       "    <tr>\n",
       "      <th>train_2</th>\n",
       "      <td>0.005020</td>\n",
       "      <td>0.005975</td>\n",
       "      <td>0.003828</td>\n",
       "      <td>0.002836</td>\n",
       "      <td>0.002740</td>\n",
       "      <td>0.996203</td>\n",
       "      <td>0.007556</td>\n",
       "      <td>0.002753</td>\n",
       "      <td>0.002985</td>\n",
       "      <td>0.003755</td>\n",
       "      <td>0.003048</td>\n",
       "      <td>0.003396</td>\n",
       "      <td>0.995453</td>\n",
       "      <td>0.003681</td>\n",
       "      <td>0.003647</td>\n",
       "      <td>0.003395</td>\n",
       "      <td>0.004506</td>\n",
       "    </tr>\n",
       "  </tbody>\n",
       "</table>\n",
       "</div>"
      ],
      "text/plain": [
       "            agriculture  artisinal_mine  bare_ground  blooming  blow_down  \\\n",
       "image_name                                                                  \n",
       "train_0        0.005478        0.007004     0.003685  0.002817   0.003418   \n",
       "train_1        0.760717        0.008090     0.019966  0.003001   0.002905   \n",
       "train_2        0.005020        0.005975     0.003828  0.002836   0.002740   \n",
       "\n",
       "               clear    cloudy  conventional_mine  cultivation  habitation  \\\n",
       "image_name                                                                   \n",
       "train_0     0.463008  0.011074           0.002979     0.003345    0.003450   \n",
       "train_1     0.995899  0.005518           0.003765     0.268348    0.034056   \n",
       "train_2     0.996203  0.007556           0.002753     0.002985    0.003755   \n",
       "\n",
       "                haze  partly_cloudy   primary      road  selective_logging  \\\n",
       "image_name                                                                   \n",
       "train_0     0.575751       0.003370  0.995309  0.003536           0.003538   \n",
       "train_1     0.003656       0.003242  0.995445  0.325517           0.005937   \n",
       "train_2     0.003048       0.003396  0.995453  0.003681           0.003647   \n",
       "\n",
       "            slash_burn     water  \n",
       "image_name                        \n",
       "train_0       0.002884  0.005087  \n",
       "train_1       0.023736  0.761794  \n",
       "train_2       0.003395  0.004506  "
      ]
     },
     "execution_count": 83,
     "metadata": {},
     "output_type": "execute_result"
    }
   ],
   "source": [
    "valid_pred_5 = pd.read_hdf('../../_data/train_mean3_0.933338_uncalibrated.h5').loc[train_flat.index]\n",
    "valid_pred_5 = valid_pred_5.loc[train_flat.index]\n",
    "valid_pred_5[:3]"
   ]
  },
  {
   "cell_type": "code",
   "execution_count": 158,
   "metadata": {},
   "outputs": [
    {
     "data": {
      "text/html": [
       "<div>\n",
       "<style>\n",
       "    .dataframe thead tr:only-child th {\n",
       "        text-align: right;\n",
       "    }\n",
       "\n",
       "    .dataframe thead th {\n",
       "        text-align: left;\n",
       "    }\n",
       "\n",
       "    .dataframe tbody tr th {\n",
       "        vertical-align: top;\n",
       "    }\n",
       "</style>\n",
       "<table border=\"1\" class=\"dataframe\">\n",
       "  <thead>\n",
       "    <tr style=\"text-align: right;\">\n",
       "      <th></th>\n",
       "      <th>agriculture</th>\n",
       "      <th>artisinal_mine</th>\n",
       "      <th>bare_ground</th>\n",
       "      <th>blooming</th>\n",
       "      <th>blow_down</th>\n",
       "      <th>clear</th>\n",
       "      <th>cloudy</th>\n",
       "      <th>conventional_mine</th>\n",
       "      <th>cultivation</th>\n",
       "      <th>habitation</th>\n",
       "      <th>haze</th>\n",
       "      <th>partly_cloudy</th>\n",
       "      <th>primary</th>\n",
       "      <th>road</th>\n",
       "      <th>selective_logging</th>\n",
       "      <th>slash_burn</th>\n",
       "      <th>water</th>\n",
       "    </tr>\n",
       "    <tr>\n",
       "      <th>image_name</th>\n",
       "      <th></th>\n",
       "      <th></th>\n",
       "      <th></th>\n",
       "      <th></th>\n",
       "      <th></th>\n",
       "      <th></th>\n",
       "      <th></th>\n",
       "      <th></th>\n",
       "      <th></th>\n",
       "      <th></th>\n",
       "      <th></th>\n",
       "      <th></th>\n",
       "      <th></th>\n",
       "      <th></th>\n",
       "      <th></th>\n",
       "      <th></th>\n",
       "      <th></th>\n",
       "    </tr>\n",
       "  </thead>\n",
       "  <tbody>\n",
       "    <tr>\n",
       "      <th>train_0</th>\n",
       "      <td>0.002963</td>\n",
       "      <td>0.001474</td>\n",
       "      <td>0.000997</td>\n",
       "      <td>0.000863</td>\n",
       "      <td>0.000838</td>\n",
       "      <td>0.572981</td>\n",
       "      <td>0.002333</td>\n",
       "      <td>0.000639</td>\n",
       "      <td>0.001613</td>\n",
       "      <td>0.001248</td>\n",
       "      <td>0.687477</td>\n",
       "      <td>0.001129</td>\n",
       "      <td>0.998874</td>\n",
       "      <td>0.001342</td>\n",
       "      <td>0.000903</td>\n",
       "      <td>0.000655</td>\n",
       "      <td>0.002938</td>\n",
       "    </tr>\n",
       "    <tr>\n",
       "      <th>train_1</th>\n",
       "      <td>0.832720</td>\n",
       "      <td>0.002540</td>\n",
       "      <td>0.014506</td>\n",
       "      <td>0.000850</td>\n",
       "      <td>0.000874</td>\n",
       "      <td>0.998447</td>\n",
       "      <td>0.001177</td>\n",
       "      <td>0.000931</td>\n",
       "      <td>0.468102</td>\n",
       "      <td>0.028495</td>\n",
       "      <td>0.001016</td>\n",
       "      <td>0.001049</td>\n",
       "      <td>0.998922</td>\n",
       "      <td>0.512371</td>\n",
       "      <td>0.002825</td>\n",
       "      <td>0.019032</td>\n",
       "      <td>0.823038</td>\n",
       "    </tr>\n",
       "    <tr>\n",
       "      <th>train_2</th>\n",
       "      <td>0.002260</td>\n",
       "      <td>0.001274</td>\n",
       "      <td>0.000968</td>\n",
       "      <td>0.000703</td>\n",
       "      <td>0.000705</td>\n",
       "      <td>0.998847</td>\n",
       "      <td>0.001597</td>\n",
       "      <td>0.000641</td>\n",
       "      <td>0.000994</td>\n",
       "      <td>0.001245</td>\n",
       "      <td>0.000816</td>\n",
       "      <td>0.000836</td>\n",
       "      <td>0.998971</td>\n",
       "      <td>0.001067</td>\n",
       "      <td>0.000890</td>\n",
       "      <td>0.000752</td>\n",
       "      <td>0.001634</td>\n",
       "    </tr>\n",
       "  </tbody>\n",
       "</table>\n",
       "</div>"
      ],
      "text/plain": [
       "            agriculture  artisinal_mine  bare_ground  blooming  blow_down  \\\n",
       "image_name                                                                  \n",
       "train_0        0.002963        0.001474     0.000997  0.000863   0.000838   \n",
       "train_1        0.832720        0.002540     0.014506  0.000850   0.000874   \n",
       "train_2        0.002260        0.001274     0.000968  0.000703   0.000705   \n",
       "\n",
       "               clear    cloudy  conventional_mine  cultivation  habitation  \\\n",
       "image_name                                                                   \n",
       "train_0     0.572981  0.002333           0.000639     0.001613    0.001248   \n",
       "train_1     0.998447  0.001177           0.000931     0.468102    0.028495   \n",
       "train_2     0.998847  0.001597           0.000641     0.000994    0.001245   \n",
       "\n",
       "                haze  partly_cloudy   primary      road  selective_logging  \\\n",
       "image_name                                                                   \n",
       "train_0     0.687477       0.001129  0.998874  0.001342           0.000903   \n",
       "train_1     0.001016       0.001049  0.998922  0.512371           0.002825   \n",
       "train_2     0.000816       0.000836  0.998971  0.001067           0.000890   \n",
       "\n",
       "            slash_burn     water  \n",
       "image_name                        \n",
       "train_0       0.000655  0.002938  \n",
       "train_1       0.019032  0.823038  \n",
       "train_2       0.000752  0.001634  "
      ]
     },
     "execution_count": 158,
     "metadata": {},
     "output_type": "execute_result"
    }
   ],
   "source": [
    "valid_pred_6 = pd.read_hdf('../../_data/20170720-232049-b7-albu-0.93374-eval.h5').loc[train_flat.index]\n",
    "valid_pred_6 = valid_pred_6.loc[train_flat.index]\n",
    "test_pred_6 = pd.read_hdf('../../_data/20170720-232049-b7-albu-0.93374-test.h5').loc[sample_submission.index]\n",
    "valid_pred_6[:3]"
   ]
  },
  {
   "cell_type": "code",
   "execution_count": 160,
   "metadata": {},
   "outputs": [
    {
     "data": {
      "text/html": [
       "<div>\n",
       "<style>\n",
       "    .dataframe thead tr:only-child th {\n",
       "        text-align: right;\n",
       "    }\n",
       "\n",
       "    .dataframe thead th {\n",
       "        text-align: left;\n",
       "    }\n",
       "\n",
       "    .dataframe tbody tr th {\n",
       "        vertical-align: top;\n",
       "    }\n",
       "</style>\n",
       "<table border=\"1\" class=\"dataframe\">\n",
       "  <thead>\n",
       "    <tr style=\"text-align: right;\">\n",
       "      <th></th>\n",
       "      <th>agriculture</th>\n",
       "      <th>artisinal_mine</th>\n",
       "      <th>bare_ground</th>\n",
       "      <th>blooming</th>\n",
       "      <th>blow_down</th>\n",
       "      <th>clear</th>\n",
       "      <th>cloudy</th>\n",
       "      <th>conventional_mine</th>\n",
       "      <th>cultivation</th>\n",
       "      <th>habitation</th>\n",
       "      <th>haze</th>\n",
       "      <th>partly_cloudy</th>\n",
       "      <th>primary</th>\n",
       "      <th>road</th>\n",
       "      <th>selective_logging</th>\n",
       "      <th>slash_burn</th>\n",
       "      <th>water</th>\n",
       "    </tr>\n",
       "    <tr>\n",
       "      <th>image_name</th>\n",
       "      <th></th>\n",
       "      <th></th>\n",
       "      <th></th>\n",
       "      <th></th>\n",
       "      <th></th>\n",
       "      <th></th>\n",
       "      <th></th>\n",
       "      <th></th>\n",
       "      <th></th>\n",
       "      <th></th>\n",
       "      <th></th>\n",
       "      <th></th>\n",
       "      <th></th>\n",
       "      <th></th>\n",
       "      <th></th>\n",
       "      <th></th>\n",
       "      <th></th>\n",
       "    </tr>\n",
       "  </thead>\n",
       "  <tbody>\n",
       "    <tr>\n",
       "      <th>train_0</th>\n",
       "      <td>0.004879</td>\n",
       "      <td>0.003779</td>\n",
       "      <td>0.002665</td>\n",
       "      <td>0.002121</td>\n",
       "      <td>0.002582</td>\n",
       "      <td>0.451819</td>\n",
       "      <td>0.006361</td>\n",
       "      <td>0.002168</td>\n",
       "      <td>0.002718</td>\n",
       "      <td>0.002693</td>\n",
       "      <td>0.575163</td>\n",
       "      <td>0.002152</td>\n",
       "      <td>0.996973</td>\n",
       "      <td>0.002847</td>\n",
       "      <td>0.002302</td>\n",
       "      <td>0.002034</td>\n",
       "      <td>0.004316</td>\n",
       "    </tr>\n",
       "    <tr>\n",
       "      <th>train_1</th>\n",
       "      <td>0.784487</td>\n",
       "      <td>0.004635</td>\n",
       "      <td>0.019762</td>\n",
       "      <td>0.002113</td>\n",
       "      <td>0.002110</td>\n",
       "      <td>0.997018</td>\n",
       "      <td>0.003775</td>\n",
       "      <td>0.002555</td>\n",
       "      <td>0.277725</td>\n",
       "      <td>0.035275</td>\n",
       "      <td>0.002609</td>\n",
       "      <td>0.002202</td>\n",
       "      <td>0.997030</td>\n",
       "      <td>0.355802</td>\n",
       "      <td>0.004173</td>\n",
       "      <td>0.027381</td>\n",
       "      <td>0.770486</td>\n",
       "    </tr>\n",
       "    <tr>\n",
       "      <th>train_2</th>\n",
       "      <td>0.004401</td>\n",
       "      <td>0.003441</td>\n",
       "      <td>0.002696</td>\n",
       "      <td>0.002003</td>\n",
       "      <td>0.002313</td>\n",
       "      <td>0.997293</td>\n",
       "      <td>0.005412</td>\n",
       "      <td>0.002142</td>\n",
       "      <td>0.002374</td>\n",
       "      <td>0.002891</td>\n",
       "      <td>0.002398</td>\n",
       "      <td>0.002150</td>\n",
       "      <td>0.997139</td>\n",
       "      <td>0.002629</td>\n",
       "      <td>0.002225</td>\n",
       "      <td>0.002380</td>\n",
       "      <td>0.003495</td>\n",
       "    </tr>\n",
       "  </tbody>\n",
       "</table>\n",
       "</div>"
      ],
      "text/plain": [
       "            agriculture  artisinal_mine  bare_ground  blooming  blow_down  \\\n",
       "image_name                                                                  \n",
       "train_0        0.004879        0.003779     0.002665  0.002121   0.002582   \n",
       "train_1        0.784487        0.004635     0.019762  0.002113   0.002110   \n",
       "train_2        0.004401        0.003441     0.002696  0.002003   0.002313   \n",
       "\n",
       "               clear    cloudy  conventional_mine  cultivation  habitation  \\\n",
       "image_name                                                                   \n",
       "train_0     0.451819  0.006361           0.002168     0.002718    0.002693   \n",
       "train_1     0.997018  0.003775           0.002555     0.277725    0.035275   \n",
       "train_2     0.997293  0.005412           0.002142     0.002374    0.002891   \n",
       "\n",
       "                haze  partly_cloudy   primary      road  selective_logging  \\\n",
       "image_name                                                                   \n",
       "train_0     0.575163       0.002152  0.996973  0.002847           0.002302   \n",
       "train_1     0.002609       0.002202  0.997030  0.355802           0.004173   \n",
       "train_2     0.002398       0.002150  0.997139  0.002629           0.002225   \n",
       "\n",
       "            slash_burn     water  \n",
       "image_name                        \n",
       "train_0       0.002034  0.004316  \n",
       "train_1       0.027381  0.770486  \n",
       "train_2       0.002380  0.003495  "
      ]
     },
     "execution_count": 160,
     "metadata": {},
     "output_type": "execute_result"
    }
   ],
   "source": [
    "valid_pred_7 = pd.read_hdf('../../_data/train_mean3_0.933493_uncalibrated.h5').loc[train_flat.index]\n",
    "valid_pred_7 = valid_pred_7.loc[train_flat.index]\n",
    "test_pred_7 = pd.read_hdf('../../_data/test_mean3_0.933493_uncalibrated.h5').loc[sample_submission.index]\n",
    "valid_pred_7[:3]"
   ]
  },
  {
   "cell_type": "code",
   "execution_count": 4,
   "metadata": {
    "collapsed": true
   },
   "outputs": [],
   "source": [
    "def f2_score(y_true, y_pred, eps=1e-7) -> float:\n",
    "    # same as fbeta_score(y_true, y_pred, beta=2, average='samples')\n",
    "    # but faster\n",
    "    if isinstance(y_true, pd.DataFrame):\n",
    "        y_true = y_true.as_matrix()\n",
    "    if isinstance(y_pred, pd.DataFrame):\n",
    "        y_pred = y_pred.as_matrix()\n",
    "    tp = (y_true * y_pred).sum(axis=1)\n",
    "    r = tp / y_true.sum(axis=1)\n",
    "    p = tp / (y_pred.sum(axis=1) + eps)\n",
    "    beta2 = 4\n",
    "    f2 = (1 + beta2) * p * r / (beta2 * p + r + eps)\n",
    "    return f2.mean()"
   ]
  },
  {
   "cell_type": "code",
   "execution_count": 5,
   "metadata": {},
   "outputs": [
    {
     "data": {
      "text/plain": [
       "0.93359010922228391"
      ]
     },
     "execution_count": 5,
     "metadata": {},
     "output_type": "execute_result"
    }
   ],
   "source": [
    "threshold = 0.2\n",
    "original_score = f2_score(train_flat, valid_pred > threshold)\n",
    "original_score"
   ]
  },
  {
   "cell_type": "code",
   "execution_count": 60,
   "metadata": {},
   "outputs": [
    {
     "data": {
      "text/plain": [
       "0.93354022237067436"
      ]
     },
     "execution_count": 60,
     "metadata": {},
     "output_type": "execute_result"
    }
   ],
   "source": [
    "f2_score(train_flat, valid_pred_3 > 0.2)"
   ]
  },
  {
   "cell_type": "code",
   "execution_count": 66,
   "metadata": {},
   "outputs": [
    {
     "data": {
      "text/plain": [
       "0.93359446493753029"
      ]
     },
     "execution_count": 66,
     "metadata": {},
     "output_type": "execute_result"
    }
   ],
   "source": [
    "f2_score(train_flat, valid_pred_4 > 0.2)"
   ]
  },
  {
   "cell_type": "code",
   "execution_count": 140,
   "metadata": {},
   "outputs": [
    {
     "data": {
      "text/plain": [
       "0.93360830126324112"
      ]
     },
     "execution_count": 140,
     "metadata": {},
     "output_type": "execute_result"
    }
   ],
   "source": [
    "f2_score(train_flat, (0.5 * valid_pred_4 + 0.5 * valid_pred_3) > 0.2)"
   ]
  },
  {
   "cell_type": "code",
   "execution_count": 85,
   "metadata": {},
   "outputs": [
    {
     "data": {
      "text/plain": [
       "0.93333823002426741"
      ]
     },
     "execution_count": 85,
     "metadata": {},
     "output_type": "execute_result"
    }
   ],
   "source": [
    "f2_score(train_flat, valid_pred_5 > 0.2)"
   ]
  },
  {
   "cell_type": "code",
   "execution_count": 139,
   "metadata": {},
   "outputs": [
    {
     "data": {
      "text/plain": [
       "0.93360806943640218"
      ]
     },
     "execution_count": 139,
     "metadata": {},
     "output_type": "execute_result"
    }
   ],
   "source": [
    "f2_score(train_flat, (0.5 * valid_pred_4 + 0.5 * valid_pred_5) > 0.2)"
   ]
  },
  {
   "cell_type": "code",
   "execution_count": 93,
   "metadata": {},
   "outputs": [
    {
     "data": {
      "text/plain": [
       "0.93373588709201194"
      ]
     },
     "execution_count": 93,
     "metadata": {},
     "output_type": "execute_result"
    }
   ],
   "source": [
    "f2_score(train_flat, valid_pred_6 > 0.2)"
   ]
  },
  {
   "cell_type": "code",
   "execution_count": 134,
   "metadata": {},
   "outputs": [
    {
     "data": {
      "text/plain": [
       "0.93379706280631225"
      ]
     },
     "execution_count": 134,
     "metadata": {},
     "output_type": "execute_result"
    }
   ],
   "source": [
    "f2_score(train_flat, sigmoid(logit(valid_pred_6) - 0.2) > 0.2)"
   ]
  },
  {
   "cell_type": "code",
   "execution_count": 138,
   "metadata": {},
   "outputs": [
    {
     "data": {
      "text/plain": [
       "0.9334928304822665"
      ]
     },
     "execution_count": 138,
     "metadata": {},
     "output_type": "execute_result"
    }
   ],
   "source": [
    "f2_score(train_flat, valid_pred_7 > 0.2)"
   ]
  },
  {
   "cell_type": "code",
   "execution_count": 142,
   "metadata": {},
   "outputs": [
    {
     "data": {
      "text/plain": [
       "0.93360818030809334"
      ]
     },
     "execution_count": 142,
     "metadata": {},
     "output_type": "execute_result"
    }
   ],
   "source": [
    "f2_score(train_flat, 0.5 * (valid_pred_6 + valid_pred_7) > 0.2)"
   ]
  },
  {
   "cell_type": "code",
   "execution_count": 100,
   "metadata": {},
   "outputs": [
    {
     "name": "stdout",
     "output_type": "stream",
     "text": [
      "0.1921 0.0001493\n",
      "0.2026 0.0001419\n",
      "0.2132 0.0001353\n",
      "0.2237 0.0001653\n",
      "0.2342 0.0002110\n",
      "0.2447 0.0001804\n",
      "0.2553 0.0002543\n",
      "0.2658 0.0002270\n",
      "0.2763 0.0001657\n",
      "0.2868 0.0000794\n",
      "0.3079 0.0000220\n",
      "0.3184 0.0000141\n"
     ]
    }
   ],
   "source": [
    "for th in np.linspace(0.15, 0.35, 20):\n",
    "    score = f2_score(train_flat, valid_pred_6 > th)\n",
    "    if score > original_score:\n",
    "        print('{:.4f} {:.7f}'.format(th, score - original_score))"
   ]
  },
  {
   "cell_type": "code",
   "execution_count": 95,
   "metadata": {},
   "outputs": [
    {
     "name": "stdout",
     "output_type": "stream",
     "text": [
      "0.1921 0.0000093\n",
      "0.2132 0.0000581\n",
      "0.2342 0.0000146\n",
      "0.2447 0.0000436\n",
      "0.2553 0.0000147\n",
      "0.2658 0.0000716\n",
      "0.2763 0.0000965\n",
      "0.2868 0.0001058\n",
      "0.2974 0.0000973\n",
      "0.3079 0.0000670\n",
      "0.3184 0.0001016\n",
      "0.3289 0.0000919\n",
      "0.3395 0.0000696\n"
     ]
    }
   ],
   "source": [
    "for th in np.linspace(0.15, 0.35, 20):\n",
    "    score = f2_score(train_flat, valid_pred > th)\n",
    "    if score > original_score:\n",
    "        print('{:.4f} {:.7f}'.format(th, score - original_score))"
   ]
  },
  {
   "cell_type": "code",
   "execution_count": 96,
   "metadata": {},
   "outputs": [
    {
     "name": "stdout",
     "output_type": "stream",
     "text": [
      "best th 0.261, valid delta +0.000058\n",
      "best th 0.261, valid delta -0.000480\n",
      "best th 0.261, valid delta -0.000577\n",
      "best th 0.261, valid delta +0.000488\n",
      "best th 0.261, valid delta +0.000194\n",
      "best th 0.257, valid delta +0.000053\n",
      "best th 0.261, valid delta +0.000098\n",
      "best th 0.261, valid delta +0.000329\n",
      "best th 0.237, valid delta +0.000097\n",
      "best th 0.257, valid delta +0.000360\n",
      "Mean delta +0.00006, mean threshold 0.258\n",
      "T-test: Ttest_1sampResult(statistic=0.56927505634513376, pvalue=0.58309585849237022)\n"
     ]
    },
    {
     "data": {
      "image/png": "[encoded data removed]",
      "text/plain": [
       "<matplotlib.figure.Figure at 0x7fc1513af2b0>"
      ]
     },
     "metadata": {},
     "output_type": "display_data"
    }
   ],
   "source": [
    "deltas = []\n",
    "thresholds = []\n",
    "for train_ids, valid_ids in KFold(n_splits=10, shuffle=True).split(valid_pred_6.index):\n",
    "    best_score = 0\n",
    "    best_th = 0.2\n",
    "    for th in np.linspace(0.15, 0.35, 100):\n",
    "        score = f2_score(train_flat.iloc[train_ids], valid_pred_6.iloc[train_ids] > th)\n",
    "        if score > best_score:\n",
    "            best_score = score\n",
    "            best_th = th\n",
    "    delta = (f2_score(train_flat.iloc[valid_ids], valid_pred_6.iloc[valid_ids] > best_th) -\n",
    "             f2_score(train_flat.iloc[valid_ids], valid_pred_6.iloc[valid_ids] > 0.2))\n",
    "    deltas.append(delta)\n",
    "    thresholds.append(best_th)\n",
    "    print('best th {:.3f}, valid delta {:+.6f}'.format(best_th, delta))\n",
    "    # print('{:+.5f}'.format(delta))\n",
    "plt.figure(figsize=(8, 4))\n",
    "plt.hist(deltas, bins=50);\n",
    "print('Mean delta {:+.5f}, mean threshold {:.3f}'.format(np.mean(deltas), np.mean(thresholds)))\n",
    "print('T-test: {}'.format(ttest_1samp(deltas, 0)))"
   ]
  },
  {
   "cell_type": "code",
   "execution_count": 171,
   "metadata": {
    "collapsed": true
   },
   "outputs": [],
   "source": [
    "def check_weather(valid, a, b, threshold=0.2):\n",
    "    deltas = []\n",
    "    scores = []\n",
    "    for _ in range(100):\n",
    "        for train_ids, valid_ids in KFold(n_splits=10, shuffle=True).split(valid.index):\n",
    "            hack = valid.iloc[valid_ids].copy()\n",
    "            hack[hack['cloudy'] > a] *= b\n",
    "            f2_score(train_flat.iloc[valid_ids], hack > threshold)\n",
    "            delta = (score - f2_score(train_flat.iloc[valid_ids], valid.iloc[valid_ids] > threshold))\n",
    "            deltas.append(delta)\n",
    "            scores.append(score)\n",
    "            # print('{:+.5f}'.format(delta))\n",
    "    plt.figure(figsize=(8, 4))\n",
    "    plt.hist(deltas, bins=50);\n",
    "    print('Mean delta {:+.6f}, mean score {:.6f}'.format(np.mean(deltas), np.mean(scores)))\n",
    "    print('T-test: {}'.format(ttest_1samp(deltas, 0)))"
   ]
  },
  {
   "cell_type": "code",
   "execution_count": 172,
   "metadata": {},
   "outputs": [
    {
     "name": "stdout",
     "output_type": "stream",
     "text": [
      "Mean delta -0.000284, mean score 0.933364\n",
      "T-test: Ttest_1sampResult(statistic=-5.2084247499210914, pvalue=2.3124802512023378e-07)\n"
     ]
    },
    {
     "data": {
      "image/png": "[encoded data removed]",
      "text/plain": [
       "<matplotlib.figure.Figure at 0x7fc14bc4fb70>"
      ]
     },
     "metadata": {},
     "output_type": "display_data"
    }
   ],
   "source": [
    "check_weather(0.7 * valid_pred_6 + 0.3 * valid_pred_7, 0.8, 0.8)"
   ]
  },
  {
   "cell_type": "code",
   "execution_count": 46,
   "metadata": {},
   "outputs": [
    {
     "name": "stdout",
     "output_type": "stream",
     "text": [
      "0.933658, 0.000068\n"
     ]
    }
   ],
   "source": [
    "base_score = f2_score(train_flat, valid_pred > threshold)\n",
    "bayes_valid = make_bayes_submission.get_df_prediction(valid_pred, add_hacks=False)\n",
    "new_score = f2_score(train_flat, bayes_valid)\n",
    "print('{:.6f}, {:.6f}'.format(new_score, new_score - base_score))\n",
    "# 0.933706, 0.000116 hacks\n",
    "# 0.933658, 0.000068 no hacks"
   ]
  },
  {
   "cell_type": "code",
   "execution_count": 40,
   "metadata": {},
   "outputs": [
    {
     "name": "stdout",
     "output_type": "stream",
     "text": [
      "0.933677, 0.000140\n"
     ]
    }
   ],
   "source": [
    "(train_ids, valid_ids), _ = KFold(n_splits=2, shuffle=True, random_state=42).split(train_flat.index)\n",
    "base_score = f2_score(train_flat.iloc[train_ids], valid_pred.iloc[train_ids] > threshold)\n",
    "bayes_valid = make_bayes_submission.get_df_prediction(\n",
    "    valid_pred.iloc[train_ids], add_hacks=True)\n",
    "new_score = f2_score(train_flat.iloc[train_ids], bayes_valid)\n",
    "print('{:.6f}, {:.6f}'.format(new_score, new_score - base_score))\n",
    "# train\n",
    "# 0.933590, 0.000054 base\n",
    "# 0.933624, 0.000087 cloudy + x *= 0.9\n",
    "# 0.933666, 0.000130 cloudy + x *= 0.9 | multiweather *= 0.9\n",
    "# 0.933666, 0.000140 cloudy + x *= 0.9 | multiweather *= 0.9 | cloudy + primary *= 0.87\n",
    "# valid\n",
    "# 0.933725, 0.000081 base\n",
    "# 0.933735, 0.000091 cloudy + x *= 0.9 | multiweather *= 0.9 | cloudy + primary *= 0.87"
   ]
  },
  {
   "cell_type": "code",
   "execution_count": 43,
   "metadata": {},
   "outputs": [
    {
     "name": "stdout",
     "output_type": "stream",
     "text": [
      "0.933735, 0.000091\n"
     ]
    }
   ],
   "source": [
    "base_score = f2_score(train_flat.iloc[valid_ids], valid_pred.iloc[valid_ids] > threshold)\n",
    "bayes_valid = make_bayes_submission.get_df_prediction(\n",
    "    valid_pred.iloc[valid_ids], add_hacks=True)\n",
    "new_score = f2_score(train_flat.iloc[valid_ids], bayes_valid)\n",
    "print('{:.6f}, {:.6f}'.format(new_score, new_score - base_score))"
   ]
  },
  {
   "cell_type": "code",
   "execution_count": 55,
   "metadata": {},
   "outputs": [
    {
     "name": "stdout",
     "output_type": "stream",
     "text": [
      "alpha=0.05, score=0.933632, delta=0.000042\n",
      "alpha=0.10, score=0.933638, delta=0.000048\n",
      "alpha=0.15, score=0.933538, delta=-0.000052\n"
     ]
    }
   ],
   "source": [
    "for alpha in [0.05, 0.1, 0.15]:\n",
    "    new_score = f2_score(\n",
    "        train_flat,\n",
    "        make_bayes_submission.get_df_prediction(valid_pred * (1 + alpha)))\n",
    "    print('alpha={:.2f}, score={:.6f}, delta={:.6f}'.format(alpha, new_score, new_score - original_score))"
   ]
  },
  {
   "cell_type": "code",
   "execution_count": 35,
   "metadata": {},
   "outputs": [
    {
     "name": "stdout",
     "output_type": "stream",
     "text": [
      "delta=-0.05, score=0.933657, delta=0.000066\n",
      "delta=-0.10, score=0.933619, delta=0.000027\n",
      "delta=0.05, score=0.933533, delta=-0.000058\n"
     ]
    }
   ],
   "source": [
    "for delta in [-0.03, -0.01, 0.01, 0.03]:\n",
    "    new_score = f2_score(\n",
    "        train_flat,\n",
    "        make_bayes_submission.get_df_prediction(sigmoid(logit(valid_pred) + delta)))\n",
    "    print('delta={:.2f}, score={:.6f}, delta={:.6f}'.format(delta, new_score, new_score - original_score))"
   ]
  },
  {
   "cell_type": "code",
   "execution_count": 45,
   "metadata": {},
   "outputs": [
    {
     "name": "stdout",
     "output_type": "stream",
     "text": [
      "0.933270, 0.000061\n"
     ]
    }
   ],
   "source": [
    "new_score = f2_score(train_flat, make_bayes_submission.get_df_prediction(valid_pred, min_p=0.03, max_p=0.5))\n",
    "print('{:.6f}, {:.6f}'.format(new_score, new_score - original_score))"
   ]
  },
  {
   "cell_type": "code",
   "execution_count": 122,
   "metadata": {
    "collapsed": true
   },
   "outputs": [],
   "source": [
    "def check_bayes(valid, add_hacks):\n",
    "    bayes = make_bayes_submission.get_df_prediction(valid, add_hacks=add_hacks)\n",
    "    deltas = []\n",
    "    scores = []\n",
    "    for _ in range(100):\n",
    "        for train_ids, valid_ids in KFold(n_splits=10, shuffle=True).split(valid.index):\n",
    "            score = f2_score(train_flat.iloc[valid_ids], bayes.iloc[valid_ids])\n",
    "            scores.append(score)\n",
    "            delta = (score - f2_score(train_flat.iloc[valid_ids], valid.iloc[valid_ids] > 0.2))\n",
    "            deltas.append(delta)\n",
    "    plt.figure(figsize=(8, 4))\n",
    "    plt.hist(deltas, bins=50);\n",
    "    print('Mean delta {:+.6f}, mean score {:.6f}'.format(np.mean(deltas), np.mean(scores)))\n",
    "    print('T-test: {}'.format(ttest_1samp(deltas, 0)))"
   ]
  },
  {
   "cell_type": "code",
   "execution_count": 120,
   "metadata": {},
   "outputs": [
    {
     "name": "stdout",
     "output_type": "stream",
     "text": [
      "Mean delta +0.000068, mean score +0.933658\n",
      "T-test: Ttest_1sampResult(statistic=8.7292295446403365, pvalue=1.0604579365516302e-17)\n"
     ]
    },
    {
     "data": {
      "image/png": "[encoded data removed]",
      "text/plain": [
       "<matplotlib.figure.Figure at 0x7fc151049e10>"
      ]
     },
     "metadata": {},
     "output_type": "display_data"
    }
   ],
   "source": [
    "check_bayes(valid_pred, add_hacks=False)"
   ]
  },
  {
   "cell_type": "code",
   "execution_count": 121,
   "metadata": {},
   "outputs": [
    {
     "name": "stdout",
     "output_type": "stream",
     "text": [
      "Mean delta +0.000116, mean score +0.933706\n",
      "T-test: Ttest_1sampResult(statistic=13.677891452416464, pvalue=3.6556560861735683e-39)\n"
     ]
    },
    {
     "data": {
      "image/png": "[encoded data removed]",
      "text/plain": [
       "<matplotlib.figure.Figure at 0x7fc151678ac8>"
      ]
     },
     "metadata": {},
     "output_type": "display_data"
    }
   ],
   "source": [
    "check_bayes(valid_pred, add_hacks=True)"
   ]
  },
  {
   "cell_type": "code",
   "execution_count": 76,
   "metadata": {},
   "outputs": [
    {
     "name": "stdout",
     "output_type": "stream",
     "text": [
      "Mean delta +0.000142\n",
      "T-test: Ttest_1sampResult(statistic=13.281556082660087, pvalue=3.4413562151125698e-37)\n"
     ]
    },
    {
     "data": {
      "image/png": "[encoded data removed]",
      "text/plain": [
       "<matplotlib.figure.Figure at 0x7fc1501e99e8>"
      ]
     },
     "metadata": {},
     "output_type": "display_data"
    }
   ],
   "source": [
    "check_bayes(valid_pred_2, add_hacks=False)"
   ]
  },
  {
   "cell_type": "code",
   "execution_count": 77,
   "metadata": {},
   "outputs": [
    {
     "name": "stdout",
     "output_type": "stream",
     "text": [
      "Mean delta +0.000147\n",
      "T-test: Ttest_1sampResult(statistic=12.342327469420757, pvalue=1.1259740752972426e-32)\n"
     ]
    },
    {
     "data": {
      "image/png": "[encoded data removed]",
      "text/plain": [
       "<matplotlib.figure.Figure at 0x7fc151678550>"
      ]
     },
     "metadata": {},
     "output_type": "display_data"
    }
   ],
   "source": [
    "check_bayes(valid_pred_2, add_hacks=True)"
   ]
  },
  {
   "cell_type": "code",
   "execution_count": 78,
   "metadata": {},
   "outputs": [
    {
     "name": "stdout",
     "output_type": "stream",
     "text": [
      "Mean delta -0.000244\n",
      "T-test: Ttest_1sampResult(statistic=-16.28179586542425, pvalue=4.822686489150312e-53)\n"
     ]
    },
    {
     "data": {
      "image/png": "[encoded data removed]",
      "text/plain": [
       "<matplotlib.figure.Figure at 0x7fc14a107668>"
      ]
     },
     "metadata": {},
     "output_type": "display_data"
    }
   ],
   "source": [
    "check_bayes(valid_pred_3, add_hacks=False)"
   ]
  },
  {
   "cell_type": "code",
   "execution_count": 79,
   "metadata": {},
   "outputs": [
    {
     "name": "stdout",
     "output_type": "stream",
     "text": [
      "Mean delta -0.000374\n",
      "T-test: Ttest_1sampResult(statistic=-20.243030252549111, pvalue=1.2731965408793187e-76)\n"
     ]
    },
    {
     "data": {
      "image/png": "[encoded data removed]",
      "text/plain": [
       "<matplotlib.figure.Figure at 0x7fc149640198>"
      ]
     },
     "metadata": {},
     "output_type": "display_data"
    }
   ],
   "source": [
    "check_bayes(valid_pred_3, add_hacks=True)"
   ]
  },
  {
   "cell_type": "code",
   "execution_count": 80,
   "metadata": {},
   "outputs": [
    {
     "name": "stdout",
     "output_type": "stream",
     "text": [
      "Mean delta +0.000086\n",
      "T-test: Ttest_1sampResult(statistic=18.103065197617955, pvalue=1.4418766348971896e-63)\n"
     ]
    },
    {
     "data": {
      "image/png": "[encoded data removed]",
      "text/plain": [
       "<matplotlib.figure.Figure at 0x7fc150fecd30>"
      ]
     },
     "metadata": {},
     "output_type": "display_data"
    }
   ],
   "source": [
    "check_bayes(valid_pred_4, add_hacks=False)"
   ]
  },
  {
   "cell_type": "code",
   "execution_count": 81,
   "metadata": {},
   "outputs": [
    {
     "name": "stdout",
     "output_type": "stream",
     "text": [
      "Mean delta +0.000086\n",
      "T-test: Ttest_1sampResult(statistic=15.995696171463731, pvalue=1.9049774633665546e-51)\n"
     ]
    },
    {
     "data": {
      "image/png": "[encoded data removed]",
      "text/plain": [
       "<matplotlib.figure.Figure at 0x7fc14a947c50>"
      ]
     },
     "metadata": {},
     "output_type": "display_data"
    }
   ],
   "source": [
    "check_bayes(valid_pred_4, add_hacks=True)"
   ]
  },
  {
   "cell_type": "code",
   "execution_count": 87,
   "metadata": {},
   "outputs": [
    {
     "name": "stdout",
     "output_type": "stream",
     "text": [
      "Mean delta -0.000169\n",
      "T-test: Ttest_1sampResult(statistic=-11.404233465654524, pvalue=2.0870985113729547e-28)\n"
     ]
    },
    {
     "data": {
      "image/png": "[encoded data removed]",
      "text/plain": [
       "<matplotlib.figure.Figure at 0x7fc14a28a518>"
      ]
     },
     "metadata": {},
     "output_type": "display_data"
    }
   ],
   "source": [
    "check_bayes(valid_pred_5, add_hacks=False)"
   ]
  },
  {
   "cell_type": "code",
   "execution_count": 88,
   "metadata": {},
   "outputs": [
    {
     "name": "stdout",
     "output_type": "stream",
     "text": [
      "Mean delta -0.000227\n",
      "T-test: Ttest_1sampResult(statistic=-13.181063259038456, pvalue=1.0736259120384286e-36)\n"
     ]
    },
    {
     "data": {
      "image/png": "[encoded data removed]",
      "text/plain": [
       "<matplotlib.figure.Figure at 0x7fc15122f8d0>"
      ]
     },
     "metadata": {},
     "output_type": "display_data"
    }
   ],
   "source": [
    "check_bayes(valid_pred_5, add_hacks=True)"
   ]
  },
  {
   "cell_type": "code",
   "execution_count": 90,
   "metadata": {},
   "outputs": [
    {
     "name": "stdout",
     "output_type": "stream",
     "text": [
      "Mean delta +0.000042\n",
      "T-test: Ttest_1sampResult(statistic=5.050899427187507, pvalue=5.2256112597172847e-07)\n"
     ]
    },
    {
     "data": {
      "image/png": "[encoded data removed]",
      "text/plain": [
       "<matplotlib.figure.Figure at 0x7fc14a2daf98>"
      ]
     },
     "metadata": {},
     "output_type": "display_data"
    }
   ],
   "source": [
    "check_bayes(0.5 * valid_pred_4 + 0.5 * valid_pred_5, add_hacks=True)"
   ]
  },
  {
   "cell_type": "code",
   "execution_count": 91,
   "metadata": {},
   "outputs": [
    {
     "name": "stdout",
     "output_type": "stream",
     "text": [
      "Mean delta +0.000037\n",
      "T-test: Ttest_1sampResult(statistic=5.4804007001706889, pvalue=5.372842399304969e-08)\n"
     ]
    },
    {
     "data": {
      "image/png": "[encoded data removed]",
      "text/plain": [
       "<matplotlib.figure.Figure at 0x7fc14a042048>"
      ]
     },
     "metadata": {},
     "output_type": "display_data"
    }
   ],
   "source": [
    "check_bayes(0.5 * valid_pred_4 + 0.5 * valid_pred_5, add_hacks=False)"
   ]
  },
  {
   "cell_type": "code",
   "execution_count": 123,
   "metadata": {},
   "outputs": [
    {
     "name": "stdout",
     "output_type": "stream",
     "text": [
      "Mean delta +0.000129, mean score 0.933865\n",
      "T-test: Ttest_1sampResult(statistic=16.831938546577224, pvalue=3.6994356338562241e-56)\n"
     ]
    },
    {
     "data": {
      "image/png": "[encoded data removed]",
      "text/plain": [
       "<matplotlib.figure.Figure at 0x7fc18e049c18>"
      ]
     },
     "metadata": {},
     "output_type": "display_data"
    }
   ],
   "source": [
    "check_bayes(valid_pred_6, add_hacks=False)"
   ]
  },
  {
   "cell_type": "code",
   "execution_count": 124,
   "metadata": {},
   "outputs": [
    {
     "name": "stdout",
     "output_type": "stream",
     "text": [
      "Mean delta +0.000066, mean score 0.933802\n",
      "T-test: Ttest_1sampResult(statistic=6.7212430020446732, pvalue=3.0237809957733442e-11)\n"
     ]
    },
    {
     "data": {
      "image/png": "[encoded data removed]",
      "text/plain": [
       "<matplotlib.figure.Figure at 0x7fc14af4c2b0>"
      ]
     },
     "metadata": {},
     "output_type": "display_data"
    }
   ],
   "source": [
    "check_bayes(valid_pred_6, add_hacks=True)"
   ]
  },
  {
   "cell_type": "code",
   "execution_count": 127,
   "metadata": {},
   "outputs": [
    {
     "name": "stdout",
     "output_type": "stream",
     "text": [
      "Mean delta +0.000120, mean score 0.933917\n",
      "T-test: Ttest_1sampResult(statistic=14.79447581615702, pvalue=6.265094528634159e-45)\n"
     ]
    },
    {
     "data": {
      "image/png": "[encoded data removed]",
      "text/plain": [
       "<matplotlib.figure.Figure at 0x7fc150e46ba8>"
      ]
     },
     "metadata": {},
     "output_type": "display_data"
    }
   ],
   "source": [
    "check_bayes(sigmoid(logit(valid_pred_6) - 0.2), add_hacks=False)"
   ]
  },
  {
   "cell_type": "code",
   "execution_count": 129,
   "metadata": {},
   "outputs": [
    {
     "name": "stdout",
     "output_type": "stream",
     "text": [
      "Mean delta +0.000040, mean score 0.933791\n",
      "T-test: Ttest_1sampResult(statistic=4.9146973594311252, pvalue=1.0387449355800475e-06)\n"
     ]
    },
    {
     "data": {
      "image/png": "[encoded data removed]",
      "text/plain": [
       "<matplotlib.figure.Figure at 0x7fc149691e48>"
      ]
     },
     "metadata": {},
     "output_type": "display_data"
    }
   ],
   "source": [
    "check_bayes(sigmoid(logit(valid_pred_6) - 0.1), add_hacks=False)"
   ]
  },
  {
   "cell_type": "code",
   "execution_count": 151,
   "metadata": {},
   "outputs": [
    {
     "name": "stdout",
     "output_type": "stream",
     "text": [
      "Mean delta +0.000258, mean score 0.933907\n",
      "T-test: Ttest_1sampResult(statistic=30.075789389920125, pvalue=5.051045070133319e-142)\n"
     ]
    },
    {
     "data": {
      "image/png": "[encoded data removed]",
      "text/plain": [
       "<matplotlib.figure.Figure at 0x7fc1495c20b8>"
      ]
     },
     "metadata": {},
     "output_type": "display_data"
    }
   ],
   "source": [
    "check_bayes((0.7 * valid_pred_6 + 0.3 * valid_pred_7), add_hacks=False)"
   ]
  },
  {
   "cell_type": "code",
   "execution_count": 152,
   "metadata": {},
   "outputs": [
    {
     "name": "stdout",
     "output_type": "stream",
     "text": [
      "Mean delta +0.000325, mean score 0.933887\n",
      "T-test: Ttest_1sampResult(statistic=36.036042524086554, pvalue=7.1178065678254613e-183)\n"
     ]
    },
    {
     "data": {
      "image/png": "[encoded data removed]",
      "text/plain": [
       "<matplotlib.figure.Figure at 0x7fc1498d0128>"
      ]
     },
     "metadata": {},
     "output_type": "display_data"
    }
   ],
   "source": [
    "check_bayes((0.6 * valid_pred_6 + 0.4 * valid_pred_7), add_hacks=False)"
   ]
  },
  {
   "cell_type": "code",
   "execution_count": 155,
   "metadata": {},
   "outputs": [
    {
     "name": "stdout",
     "output_type": "stream",
     "text": [
      "Mean delta +0.000229, mean score 0.933863\n",
      "T-test: Ttest_1sampResult(statistic=26.759100498036595, pvalue=2.2536550759139873e-119)\n"
     ]
    },
    {
     "data": {
      "image/png": "[encoded data removed]",
      "text/plain": [
       "<matplotlib.figure.Figure at 0x7fc14bf26a20>"
      ]
     },
     "metadata": {},
     "output_type": "display_data"
    }
   ],
   "source": [
    "check_bayes(sigmoid(logit(0.7 * valid_pred_6 + 0.3 * valid_pred_7) + 0.05), add_hacks=False)"
   ]
  },
  {
   "cell_type": "code",
   "execution_count": 144,
   "metadata": {},
   "outputs": [
    {
     "name": "stdout",
     "output_type": "stream",
     "text": [
      "Mean delta +0.000196, mean score 0.933805\n",
      "T-test: Ttest_1sampResult(statistic=16.258816989914791, pvalue=6.4882446062694241e-53)\n"
     ]
    },
    {
     "data": {
      "image/png": "[encoded data removed]",
      "text/plain": [
       "<matplotlib.figure.Figure at 0x7fc151360e48>"
      ]
     },
     "metadata": {},
     "output_type": "display_data"
    }
   ],
   "source": [
    "check_bayes(0.5 * (valid_pred_6 + valid_pred_7), add_hacks=True)"
   ]
  },
  {
   "cell_type": "code",
   "execution_count": 34,
   "metadata": {},
   "outputs": [
    {
     "name": "stdout",
     "output_type": "stream",
     "text": [
      "Mean delta +0.000112\n",
      "T-test: Ttest_1sampResult(statistic=3.3712499186743745, pvalue=0.0010683301814363732)\n"
     ]
    },
    {
     "data": {
      "image/png": "[encoded data removed]",
      "text/plain": [
       "<matplotlib.figure.Figure at 0x10be50940>"
      ]
     },
     "metadata": {},
     "output_type": "display_data"
    }
   ],
   "source": [
    "deltas = []\n",
    "for _ in range(10):\n",
    "    for train_ids, valid_ids in KFold(n_splits=10, shuffle=True).split(valid_pred.index):\n",
    "        hack = valid_pred.iloc[valid_ids].copy()\n",
    "        hack[hack['cloudy'] > .7] *= .7\n",
    "        bayes = make_bayes_submission.get_df_prediction(hack)\n",
    "        delta = (f2_score(train_flat.iloc[valid_ids], bayes) -\n",
    "                 f2_score(train_flat.iloc[valid_ids], valid_pred.iloc[valid_ids] > threshold))\n",
    "        deltas.append(delta)\n",
    "plt.figure(figsize=(8, 4))\n",
    "plt.hist(deltas, bins=50);\n",
    "print('Mean delta {:+.6f}'.format(np.mean(deltas)))\n",
    "print('T-test: {}'.format(ttest_1samp(deltas, 0)))"
   ]
  },
  {
   "cell_type": "code",
   "execution_count": 6,
   "metadata": {
    "collapsed": true
   },
   "outputs": [],
   "source": [
    "bayes_shifted = make_bayes_submission.get_df_prediction(sigmoid(logit(valid_pred) + 0.1))"
   ]
  },
  {
   "cell_type": "code",
   "execution_count": 10,
   "metadata": {},
   "outputs": [
    {
     "name": "stdout",
     "output_type": "stream",
     "text": [
      "Mean delta +0.000154\n",
      "T-test: Ttest_1sampResult(statistic=28.651988829842661, pvalue=2.8791999077179275e-132)\n"
     ]
    },
    {
     "data": {
      "image/png": "[encoded data removed]",
      "text/plain": [
       "<matplotlib.figure.Figure at 0x11c899748>"
      ]
     },
     "metadata": {},
     "output_type": "display_data"
    }
   ],
   "source": [
    "deltas = []\n",
    "for _ in range(100):\n",
    "    for train_ids, valid_ids in KFold(n_splits=10, shuffle=True).split(valid_pred.index):\n",
    "        delta = (f2_score(train_flat.iloc[valid_ids], bayes_shifted.iloc[valid_ids]) -\n",
    "                 f2_score(train_flat.iloc[valid_ids], valid_pred.iloc[valid_ids] > threshold))\n",
    "        deltas.append(delta)\n",
    "plt.figure(figsize=(8, 4))\n",
    "plt.hist(deltas, bins=50);\n",
    "print('Mean delta {:+.6f}'.format(np.mean(deltas)))\n",
    "print('T-test: {}'.format(ttest_1samp(deltas, 0)))"
   ]
  },
  {
   "cell_type": "code",
   "execution_count": 119,
   "metadata": {
    "collapsed": true
   },
   "outputs": [],
   "source": [
    "hack = valid_pred.copy()\n",
    "for cls in hack.columns:\n",
    "    if cls != 'cloudy':\n",
    "        hack[cls][hack['cloudy'] > .8] *= .8\n",
    "bayes_shifted_hack = make_bayes_submission.get_df_prediction(hack)        "
   ]
  },
  {
   "cell_type": "code",
   "execution_count": 120,
   "metadata": {},
   "outputs": [
    {
     "name": "stdout",
     "output_type": "stream",
     "text": [
      "Mean delta +0.000139\n",
      "T-test: Ttest_1sampResult(statistic=17.250611410018571, pvalue=1.4431135265726424e-58)\n"
     ]
    },
    {
     "data": {
      "image/png": "[encoded data removed]",
      "text/plain": [
       "<matplotlib.figure.Figure at 0x10d91f2b0>"
      ]
     },
     "metadata": {},
     "output_type": "display_data"
    }
   ],
   "source": [
    "deltas = []\n",
    "for _ in range(100):\n",
    "    for train_ids, valid_ids in KFold(n_splits=10, shuffle=True).split(valid_pred.index):\n",
    "        delta = (f2_score(train_flat.iloc[valid_ids], bayes_shifted_hack.iloc[valid_ids]) -\n",
    "                 f2_score(train_flat.iloc[valid_ids], valid_pred.iloc[valid_ids] > threshold))\n",
    "        deltas.append(delta)\n",
    "plt.figure(figsize=(8, 4))\n",
    "plt.hist(deltas, bins=50);\n",
    "print('Mean delta {:+.6f}'.format(np.mean(deltas)))\n",
    "print('T-test: {}'.format(ttest_1samp(deltas, 0)))"
   ]
  },
  {
   "cell_type": "code",
   "execution_count": 161,
   "metadata": {
    "collapsed": true
   },
   "outputs": [],
   "source": [
    "test_pred = 0.6 * test_pred_6 + 0.4 * test_pred_7\n",
    "bayes_test = make_bayes_submission.get_df_prediction(test_pred)        "
   ]
  },
  {
   "cell_type": "code",
   "execution_count": 162,
   "metadata": {},
   "outputs": [
    {
     "data": {
      "text/html": [
       "<div>\n",
       "<style>\n",
       "    .dataframe thead tr:only-child th {\n",
       "        text-align: right;\n",
       "    }\n",
       "\n",
       "    .dataframe thead th {\n",
       "        text-align: left;\n",
       "    }\n",
       "\n",
       "    .dataframe tbody tr th {\n",
       "        vertical-align: top;\n",
       "    }\n",
       "</style>\n",
       "<table border=\"1\" class=\"dataframe\">\n",
       "  <thead>\n",
       "    <tr style=\"text-align: right;\">\n",
       "      <th></th>\n",
       "      <th>agriculture</th>\n",
       "      <th>artisinal_mine</th>\n",
       "      <th>bare_ground</th>\n",
       "      <th>blooming</th>\n",
       "      <th>blow_down</th>\n",
       "      <th>clear</th>\n",
       "      <th>cloudy</th>\n",
       "      <th>conventional_mine</th>\n",
       "      <th>cultivation</th>\n",
       "      <th>habitation</th>\n",
       "      <th>haze</th>\n",
       "      <th>partly_cloudy</th>\n",
       "      <th>primary</th>\n",
       "      <th>road</th>\n",
       "      <th>selective_logging</th>\n",
       "      <th>slash_burn</th>\n",
       "      <th>water</th>\n",
       "    </tr>\n",
       "    <tr>\n",
       "      <th>image_name</th>\n",
       "      <th></th>\n",
       "      <th></th>\n",
       "      <th></th>\n",
       "      <th></th>\n",
       "      <th></th>\n",
       "      <th></th>\n",
       "      <th></th>\n",
       "      <th></th>\n",
       "      <th></th>\n",
       "      <th></th>\n",
       "      <th></th>\n",
       "      <th></th>\n",
       "      <th></th>\n",
       "      <th></th>\n",
       "      <th></th>\n",
       "      <th></th>\n",
       "      <th></th>\n",
       "    </tr>\n",
       "  </thead>\n",
       "  <tbody>\n",
       "    <tr>\n",
       "      <th>test_0</th>\n",
       "      <td>0.0</td>\n",
       "      <td>0.0</td>\n",
       "      <td>0.0</td>\n",
       "      <td>0.0</td>\n",
       "      <td>0.0</td>\n",
       "      <td>1.0</td>\n",
       "      <td>0.0</td>\n",
       "      <td>0.0</td>\n",
       "      <td>0.0</td>\n",
       "      <td>0.0</td>\n",
       "      <td>0.0</td>\n",
       "      <td>0.0</td>\n",
       "      <td>1.0</td>\n",
       "      <td>0.0</td>\n",
       "      <td>0.0</td>\n",
       "      <td>0.0</td>\n",
       "      <td>0.0</td>\n",
       "    </tr>\n",
       "    <tr>\n",
       "      <th>test_1</th>\n",
       "      <td>0.0</td>\n",
       "      <td>0.0</td>\n",
       "      <td>0.0</td>\n",
       "      <td>0.0</td>\n",
       "      <td>0.0</td>\n",
       "      <td>1.0</td>\n",
       "      <td>0.0</td>\n",
       "      <td>0.0</td>\n",
       "      <td>0.0</td>\n",
       "      <td>0.0</td>\n",
       "      <td>0.0</td>\n",
       "      <td>0.0</td>\n",
       "      <td>1.0</td>\n",
       "      <td>0.0</td>\n",
       "      <td>0.0</td>\n",
       "      <td>0.0</td>\n",
       "      <td>0.0</td>\n",
       "    </tr>\n",
       "    <tr>\n",
       "      <th>test_2</th>\n",
       "      <td>0.0</td>\n",
       "      <td>0.0</td>\n",
       "      <td>0.0</td>\n",
       "      <td>0.0</td>\n",
       "      <td>0.0</td>\n",
       "      <td>0.0</td>\n",
       "      <td>0.0</td>\n",
       "      <td>0.0</td>\n",
       "      <td>0.0</td>\n",
       "      <td>0.0</td>\n",
       "      <td>0.0</td>\n",
       "      <td>1.0</td>\n",
       "      <td>1.0</td>\n",
       "      <td>0.0</td>\n",
       "      <td>0.0</td>\n",
       "      <td>0.0</td>\n",
       "      <td>0.0</td>\n",
       "    </tr>\n",
       "  </tbody>\n",
       "</table>\n",
       "</div>"
      ],
      "text/plain": [
       "            agriculture  artisinal_mine  bare_ground  blooming  blow_down  \\\n",
       "image_name                                                                  \n",
       "test_0              0.0             0.0          0.0       0.0        0.0   \n",
       "test_1              0.0             0.0          0.0       0.0        0.0   \n",
       "test_2              0.0             0.0          0.0       0.0        0.0   \n",
       "\n",
       "            clear  cloudy  conventional_mine  cultivation  habitation  haze  \\\n",
       "image_name                                                                    \n",
       "test_0        1.0     0.0                0.0          0.0         0.0   0.0   \n",
       "test_1        1.0     0.0                0.0          0.0         0.0   0.0   \n",
       "test_2        0.0     0.0                0.0          0.0         0.0   0.0   \n",
       "\n",
       "            partly_cloudy  primary  road  selective_logging  slash_burn  water  \n",
       "image_name                                                                      \n",
       "test_0                0.0      1.0   0.0                0.0         0.0    0.0  \n",
       "test_1                0.0      1.0   0.0                0.0         0.0    0.0  \n",
       "test_2                1.0      1.0   0.0                0.0         0.0    0.0  "
      ]
     },
     "execution_count": 162,
     "metadata": {},
     "output_type": "execute_result"
    }
   ],
   "source": [
    "bayes_test[:3]"
   ]
  },
  {
   "cell_type": "code",
   "execution_count": 121,
   "metadata": {
    "collapsed": true
   },
   "outputs": [],
   "source": [
    "hack_test = valid_pred.copy()\n",
    "for cls in hack_test.columns:\n",
    "    if cls != 'cloudy':\n",
    "        hack_test[cls][hack_test['cloudy'] > .8] *= .8\n",
    "hack_test = make_bayes_submission.get_df_prediction(hack_test)"
   ]
  },
  {
   "cell_type": "code",
   "execution_count": 163,
   "metadata": {
    "collapsed": true
   },
   "outputs": [],
   "source": [
    "out_df = pd.DataFrame([\n",
    "    {'tags': ' '.join(c for c in bayes_test.columns if row[c])\n",
    "     } for image_name, row in bayes_test.iterrows()],\n",
    "    index=bayes_test.index)"
   ]
  },
  {
   "cell_type": "code",
   "execution_count": 164,
   "metadata": {},
   "outputs": [
    {
     "data": {
      "text/html": [
       "<div>\n",
       "<style>\n",
       "    .dataframe thead tr:only-child th {\n",
       "        text-align: right;\n",
       "    }\n",
       "\n",
       "    .dataframe thead th {\n",
       "        text-align: left;\n",
       "    }\n",
       "\n",
       "    .dataframe tbody tr th {\n",
       "        vertical-align: top;\n",
       "    }\n",
       "</style>\n",
       "<table border=\"1\" class=\"dataframe\">\n",
       "  <thead>\n",
       "    <tr style=\"text-align: right;\">\n",
       "      <th></th>\n",
       "      <th>tags</th>\n",
       "    </tr>\n",
       "    <tr>\n",
       "      <th>image_name</th>\n",
       "      <th></th>\n",
       "    </tr>\n",
       "  </thead>\n",
       "  <tbody>\n",
       "    <tr>\n",
       "      <th>test_0</th>\n",
       "      <td>clear primary</td>\n",
       "    </tr>\n",
       "    <tr>\n",
       "      <th>test_1</th>\n",
       "      <td>clear primary</td>\n",
       "    </tr>\n",
       "    <tr>\n",
       "      <th>test_2</th>\n",
       "      <td>partly_cloudy primary</td>\n",
       "    </tr>\n",
       "    <tr>\n",
       "      <th>test_3</th>\n",
       "      <td>agriculture clear cultivation primary</td>\n",
       "    </tr>\n",
       "    <tr>\n",
       "      <th>test_4</th>\n",
       "      <td>cloudy partly_cloudy primary</td>\n",
       "    </tr>\n",
       "  </tbody>\n",
       "</table>\n",
       "</div>"
      ],
      "text/plain": [
       "                                             tags\n",
       "image_name                                       \n",
       "test_0                              clear primary\n",
       "test_1                              clear primary\n",
       "test_2                      partly_cloudy primary\n",
       "test_3      agriculture clear cultivation primary\n",
       "test_4               cloudy partly_cloudy primary"
      ]
     },
     "execution_count": 164,
     "metadata": {},
     "output_type": "execute_result"
    }
   ],
   "source": [
    "out_df[:5]"
   ]
  },
  {
   "cell_type": "code",
   "execution_count": 165,
   "metadata": {
    "collapsed": true
   },
   "outputs": [],
   "source": [
    "out_df.to_csv('../../07-20170720-232049-b7-albu-0.93374-03-albu-mean3_0.933493-bayes.csv', index_label='image_name')"
   ]
  },
  {
   "cell_type": "code",
   "execution_count": 166,
   "metadata": {},
   "outputs": [
    {
     "name": "stdout",
     "output_type": "stream",
     "text": [
      "image_name,tags\r\n",
      "test_0,clear primary\r\n",
      "test_1,clear primary\r\n",
      "test_2,partly_cloudy primary\r\n",
      "test_3,agriculture clear cultivation primary\r\n",
      "test_4,cloudy partly_cloudy primary\r\n",
      "test_5,clear primary\r\n",
      "test_6,agriculture clear cultivation habitation partly_cloudy primary\r\n",
      "test_7,agriculture clear habitation primary road\r\n",
      "test_8,clear primary\r\n"
     ]
    }
   ],
   "source": [
    "! head ../../07-20170720-232049-b7-albu-0.93374-03-albu-mean3_0.933493-bayes.csv"
   ]
  },
  {
   "cell_type": "code",
   "execution_count": 68,
   "metadata": {},
   "outputs": [
    {
     "data": {
      "text/html": [
       "<div>\n",
       "<style>\n",
       "    .dataframe thead tr:only-child th {\n",
       "        text-align: right;\n",
       "    }\n",
       "\n",
       "    .dataframe thead th {\n",
       "        text-align: left;\n",
       "    }\n",
       "\n",
       "    .dataframe tbody tr th {\n",
       "        vertical-align: top;\n",
       "    }\n",
       "</style>\n",
       "<table border=\"1\" class=\"dataframe\">\n",
       "  <thead>\n",
       "    <tr style=\"text-align: right;\">\n",
       "      <th></th>\n",
       "      <th>tags</th>\n",
       "    </tr>\n",
       "    <tr>\n",
       "      <th>image_name</th>\n",
       "      <th></th>\n",
       "    </tr>\n",
       "  </thead>\n",
       "  <tbody>\n",
       "    <tr>\n",
       "      <th>test_0</th>\n",
       "      <td>clear primary</td>\n",
       "    </tr>\n",
       "    <tr>\n",
       "      <th>test_1</th>\n",
       "      <td>clear primary</td>\n",
       "    </tr>\n",
       "    <tr>\n",
       "      <th>test_2</th>\n",
       "      <td>partly_cloudy primary</td>\n",
       "    </tr>\n",
       "  </tbody>\n",
       "</table>\n",
       "</div>"
      ],
      "text/plain": [
       "                             tags\n",
       "image_name                       \n",
       "test_0              clear primary\n",
       "test_1              clear primary\n",
       "test_2      partly_cloudy primary"
      ]
     },
     "execution_count": 68,
     "metadata": {},
     "output_type": "execute_result"
    }
   ],
   "source": [
    "submit = pd.read_csv('/Users/kostia/Downloads/20170720-005737-b6-albu-0.93359_weather_hack0406.csv', index_col=0)\n",
    "submit[:3]"
   ]
  },
  {
   "cell_type": "code",
   "execution_count": 99,
   "metadata": {},
   "outputs": [
    {
     "data": {
      "text/html": [
       "<div>\n",
       "<style>\n",
       "    .dataframe thead tr:only-child th {\n",
       "        text-align: right;\n",
       "    }\n",
       "\n",
       "    .dataframe thead th {\n",
       "        text-align: left;\n",
       "    }\n",
       "\n",
       "    .dataframe tbody tr th {\n",
       "        vertical-align: top;\n",
       "    }\n",
       "</style>\n",
       "<table border=\"1\" class=\"dataframe\">\n",
       "  <thead>\n",
       "    <tr style=\"text-align: right;\">\n",
       "      <th></th>\n",
       "      <th>tags</th>\n",
       "    </tr>\n",
       "    <tr>\n",
       "      <th>image_name</th>\n",
       "      <th></th>\n",
       "    </tr>\n",
       "  </thead>\n",
       "  <tbody>\n",
       "    <tr>\n",
       "      <th>test_99</th>\n",
       "      <td>clear cloudy water</td>\n",
       "    </tr>\n",
       "    <tr>\n",
       "      <th>test_171</th>\n",
       "      <td>clear cloudy water</td>\n",
       "    </tr>\n",
       "    <tr>\n",
       "      <th>test_208</th>\n",
       "      <td>clear cloudy water</td>\n",
       "    </tr>\n",
       "    <tr>\n",
       "      <th>test_265</th>\n",
       "      <td>agriculture cloudy partly_cloudy primary</td>\n",
       "    </tr>\n",
       "    <tr>\n",
       "      <th>test_316</th>\n",
       "      <td>cloudy partly_cloudy primary road water</td>\n",
       "    </tr>\n",
       "    <tr>\n",
       "      <th>test_436</th>\n",
       "      <td>clear cloudy water</td>\n",
       "    </tr>\n",
       "    <tr>\n",
       "      <th>test_476</th>\n",
       "      <td>cloudy partly_cloudy primary</td>\n",
       "    </tr>\n",
       "    <tr>\n",
       "      <th>test_558</th>\n",
       "      <td>agriculture cloudy partly_cloudy primary water</td>\n",
       "    </tr>\n",
       "    <tr>\n",
       "      <th>test_604</th>\n",
       "      <td>clear cloudy water</td>\n",
       "    </tr>\n",
       "    <tr>\n",
       "      <th>test_654</th>\n",
       "      <td>cloudy haze primary</td>\n",
       "    </tr>\n",
       "  </tbody>\n",
       "</table>\n",
       "</div>"
      ],
      "text/plain": [
       "                                                      tags\n",
       "image_name                                                \n",
       "test_99                                 clear cloudy water\n",
       "test_171                                clear cloudy water\n",
       "test_208                                clear cloudy water\n",
       "test_265          agriculture cloudy partly_cloudy primary\n",
       "test_316           cloudy partly_cloudy primary road water\n",
       "test_436                                clear cloudy water\n",
       "test_476                      cloudy partly_cloudy primary\n",
       "test_558    agriculture cloudy partly_cloudy primary water\n",
       "test_604                                clear cloudy water\n",
       "test_654                               cloudy haze primary"
      ]
     },
     "execution_count": 99,
     "metadata": {},
     "output_type": "execute_result"
    }
   ],
   "source": [
    "out_df[(out_df != submit.loc[out_df.index])['tags']][:10]"
   ]
  },
  {
   "cell_type": "code",
   "execution_count": 100,
   "metadata": {},
   "outputs": [
    {
     "data": {
      "text/html": [
       "<div>\n",
       "<style>\n",
       "    .dataframe thead tr:only-child th {\n",
       "        text-align: right;\n",
       "    }\n",
       "\n",
       "    .dataframe thead th {\n",
       "        text-align: left;\n",
       "    }\n",
       "\n",
       "    .dataframe tbody tr th {\n",
       "        vertical-align: top;\n",
       "    }\n",
       "</style>\n",
       "<table border=\"1\" class=\"dataframe\">\n",
       "  <thead>\n",
       "    <tr style=\"text-align: right;\">\n",
       "      <th></th>\n",
       "      <th>tags</th>\n",
       "    </tr>\n",
       "    <tr>\n",
       "      <th>image_name</th>\n",
       "      <th></th>\n",
       "    </tr>\n",
       "  </thead>\n",
       "  <tbody>\n",
       "    <tr>\n",
       "      <th>test_99</th>\n",
       "      <td>cloudy</td>\n",
       "    </tr>\n",
       "    <tr>\n",
       "      <th>test_171</th>\n",
       "      <td>clear cloudy</td>\n",
       "    </tr>\n",
       "    <tr>\n",
       "      <th>test_208</th>\n",
       "      <td>clear water</td>\n",
       "    </tr>\n",
       "    <tr>\n",
       "      <th>test_265</th>\n",
       "      <td>agriculture partly_cloudy primary</td>\n",
       "    </tr>\n",
       "    <tr>\n",
       "      <th>test_316</th>\n",
       "      <td>cloudy partly_cloudy primary road</td>\n",
       "    </tr>\n",
       "    <tr>\n",
       "      <th>test_436</th>\n",
       "      <td>cloudy</td>\n",
       "    </tr>\n",
       "    <tr>\n",
       "      <th>test_476</th>\n",
       "      <td>cloudy</td>\n",
       "    </tr>\n",
       "    <tr>\n",
       "      <th>test_558</th>\n",
       "      <td>cloudy partly_cloudy primary</td>\n",
       "    </tr>\n",
       "    <tr>\n",
       "      <th>test_604</th>\n",
       "      <td>cloudy</td>\n",
       "    </tr>\n",
       "    <tr>\n",
       "      <th>test_654</th>\n",
       "      <td>cloudy</td>\n",
       "    </tr>\n",
       "  </tbody>\n",
       "</table>\n",
       "</div>"
      ],
      "text/plain": [
       "                                         tags\n",
       "image_name                                   \n",
       "test_99                                cloudy\n",
       "test_171                         clear cloudy\n",
       "test_208                          clear water\n",
       "test_265    agriculture partly_cloudy primary\n",
       "test_316    cloudy partly_cloudy primary road\n",
       "test_436                               cloudy\n",
       "test_476                               cloudy\n",
       "test_558         cloudy partly_cloudy primary\n",
       "test_604                               cloudy\n",
       "test_654                               cloudy"
      ]
     },
     "execution_count": 100,
     "metadata": {},
     "output_type": "execute_result"
    }
   ],
   "source": [
    "submit[(out_df != submit.loc[out_df.index])['tags']][:10]"
   ]
  },
  {
   "cell_type": "code",
   "execution_count": 80,
   "metadata": {},
   "outputs": [
    {
     "data": {
      "text/plain": [
       "61191"
      ]
     },
     "execution_count": 80,
     "metadata": {},
     "output_type": "execute_result"
    }
   ],
   "source": [
    "len(out_df)"
   ]
  },
  {
   "cell_type": "code",
   "execution_count": 82,
   "metadata": {},
   "outputs": [
    {
     "data": {
      "text/plain": [
       "0.022895523851546806"
      ]
     },
     "execution_count": 82,
     "metadata": {},
     "output_type": "execute_result"
    }
   ],
   "source": [
    "1 - 59790 / 61191"
   ]
  },
  {
   "cell_type": "code",
   "execution_count": 85,
   "metadata": {},
   "outputs": [
    {
     "ename": "ValueError",
     "evalue": "Can only compare identically-labeled DataFrame objects",
     "output_type": "error",
     "traceback": [
      "\u001b[0;31m---------------------------------------------------------------------------\u001b[0m",
      "\u001b[0;31mValueError\u001b[0m                                Traceback (most recent call last)",
      "\u001b[0;32m<ipython-input-85-78bcd4510387>\u001b[0m in \u001b[0;36m<module>\u001b[0;34m()\u001b[0m\n\u001b[0;32m----> 1\u001b[0;31m \u001b[0;34m(\u001b[0m\u001b[0mout_df\u001b[0m \u001b[0;34m!=\u001b[0m \u001b[0mtest_pred\u001b[0m\u001b[0;34m)\u001b[0m\u001b[0;34m.\u001b[0m\u001b[0msum\u001b[0m\u001b[0;34m(\u001b[0m\u001b[0;34m)\u001b[0m\u001b[0;34m\u001b[0m\u001b[0m\n\u001b[0m",
      "\u001b[0;32m~/programming/ml/kaggle-planet-2017/venv/lib/python3.5/site-packages/pandas/core/ops.py\u001b[0m in \u001b[0;36mf\u001b[0;34m(self, other)\u001b[0m\n\u001b[1;32m   1295\u001b[0m     \u001b[0;32mdef\u001b[0m \u001b[0mf\u001b[0m\u001b[0;34m(\u001b[0m\u001b[0mself\u001b[0m\u001b[0;34m,\u001b[0m \u001b[0mother\u001b[0m\u001b[0;34m)\u001b[0m\u001b[0;34m:\u001b[0m\u001b[0;34m\u001b[0m\u001b[0m\n\u001b[1;32m   1296\u001b[0m         \u001b[0;32mif\u001b[0m \u001b[0misinstance\u001b[0m\u001b[0;34m(\u001b[0m\u001b[0mother\u001b[0m\u001b[0;34m,\u001b[0m \u001b[0mpd\u001b[0m\u001b[0;34m.\u001b[0m\u001b[0mDataFrame\u001b[0m\u001b[0;34m)\u001b[0m\u001b[0;34m:\u001b[0m  \u001b[0;31m# Another DataFrame\u001b[0m\u001b[0;34m\u001b[0m\u001b[0m\n\u001b[0;32m-> 1297\u001b[0;31m             \u001b[0;32mreturn\u001b[0m \u001b[0mself\u001b[0m\u001b[0;34m.\u001b[0m\u001b[0m_compare_frame\u001b[0m\u001b[0;34m(\u001b[0m\u001b[0mother\u001b[0m\u001b[0;34m,\u001b[0m \u001b[0mfunc\u001b[0m\u001b[0;34m,\u001b[0m \u001b[0mstr_rep\u001b[0m\u001b[0;34m)\u001b[0m\u001b[0;34m\u001b[0m\u001b[0m\n\u001b[0m\u001b[1;32m   1298\u001b[0m         \u001b[0;32melif\u001b[0m \u001b[0misinstance\u001b[0m\u001b[0;34m(\u001b[0m\u001b[0mother\u001b[0m\u001b[0;34m,\u001b[0m \u001b[0mABCSeries\u001b[0m\u001b[0;34m)\u001b[0m\u001b[0;34m:\u001b[0m\u001b[0;34m\u001b[0m\u001b[0m\n\u001b[1;32m   1299\u001b[0m             \u001b[0;32mreturn\u001b[0m \u001b[0mself\u001b[0m\u001b[0;34m.\u001b[0m\u001b[0m_combine_series_infer\u001b[0m\u001b[0;34m(\u001b[0m\u001b[0mother\u001b[0m\u001b[0;34m,\u001b[0m \u001b[0mfunc\u001b[0m\u001b[0;34m)\u001b[0m\u001b[0;34m\u001b[0m\u001b[0m\n",
      "\u001b[0;32m~/programming/ml/kaggle-planet-2017/venv/lib/python3.5/site-packages/pandas/core/frame.py\u001b[0m in \u001b[0;36m_compare_frame\u001b[0;34m(self, other, func, str_rep)\u001b[0m\n\u001b[1;32m   3570\u001b[0m     \u001b[0;32mdef\u001b[0m \u001b[0m_compare_frame\u001b[0m\u001b[0;34m(\u001b[0m\u001b[0mself\u001b[0m\u001b[0;34m,\u001b[0m \u001b[0mother\u001b[0m\u001b[0;34m,\u001b[0m \u001b[0mfunc\u001b[0m\u001b[0;34m,\u001b[0m \u001b[0mstr_rep\u001b[0m\u001b[0;34m)\u001b[0m\u001b[0;34m:\u001b[0m\u001b[0;34m\u001b[0m\u001b[0m\n\u001b[1;32m   3571\u001b[0m         \u001b[0;32mif\u001b[0m \u001b[0;32mnot\u001b[0m \u001b[0mself\u001b[0m\u001b[0;34m.\u001b[0m\u001b[0m_indexed_same\u001b[0m\u001b[0;34m(\u001b[0m\u001b[0mother\u001b[0m\u001b[0;34m)\u001b[0m\u001b[0;34m:\u001b[0m\u001b[0;34m\u001b[0m\u001b[0m\n\u001b[0;32m-> 3572\u001b[0;31m             raise ValueError('Can only compare identically-labeled '\n\u001b[0m\u001b[1;32m   3573\u001b[0m                              'DataFrame objects')\n\u001b[1;32m   3574\u001b[0m         \u001b[0;32mreturn\u001b[0m \u001b[0mself\u001b[0m\u001b[0;34m.\u001b[0m\u001b[0m_compare_frame_evaluate\u001b[0m\u001b[0;34m(\u001b[0m\u001b[0mother\u001b[0m\u001b[0;34m,\u001b[0m \u001b[0mfunc\u001b[0m\u001b[0;34m,\u001b[0m \u001b[0mstr_rep\u001b[0m\u001b[0;34m)\u001b[0m\u001b[0;34m\u001b[0m\u001b[0m\n",
      "\u001b[0;31mValueError\u001b[0m: Can only compare identically-labeled DataFrame objects"
     ]
    }
   ],
   "source": [
    "(out_df != test_pred).sum()"
   ]
  }
 ],
 "metadata": {
  "kernelspec": {
   "display_name": "Python 3",
   "language": "python",
   "name": "python3"
  },
  "language_info": {
   "codemirror_mode": {
    "name": "ipython",
    "version": 3
   },
   "file_extension": ".py",
   "mimetype": "text/x-python",
   "name": "python",
   "nbconvert_exporter": "python",
   "pygments_lexer": "ipython3",
   "version": "3.5.2"
  }
 },
 "nbformat": 4,
 "nbformat_minor": 2
}
