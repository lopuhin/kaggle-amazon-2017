{
 "cells": [
  {
   "cell_type": "code",
   "execution_count": 10,
   "metadata": {},
   "outputs": [],
   "source": [
    "import sys\n",
    "import pandas as pd\n",
    "import numpy as np\n",
    "from matplotlib import pyplot as plt\n",
    "from sklearn.model_selection import KFold\n",
    "from scipy.stats import ttest_1samp\n",
    "%matplotlib inline\n",
    "\n",
    "if '..' not in sys.path:\n",
    "    sys.path.append('..')\n",
    "import make_bayes_submission"
   ]
  },
  {
   "cell_type": "code",
   "execution_count": 2,
   "metadata": {},
   "outputs": [
    {
     "data": {
      "text/html": [
       "<div>\n",
       "<style>\n",
       "    .dataframe thead tr:only-child th {\n",
       "        text-align: right;\n",
       "    }\n",
       "\n",
       "    .dataframe thead th {\n",
       "        text-align: left;\n",
       "    }\n",
       "\n",
       "    .dataframe tbody tr th {\n",
       "        vertical-align: top;\n",
       "    }\n",
       "</style>\n",
       "<table border=\"1\" class=\"dataframe\">\n",
       "  <thead>\n",
       "    <tr style=\"text-align: right;\">\n",
       "      <th></th>\n",
       "      <th>agriculture</th>\n",
       "      <th>artisinal_mine</th>\n",
       "      <th>bare_ground</th>\n",
       "      <th>blooming</th>\n",
       "      <th>blow_down</th>\n",
       "      <th>clear</th>\n",
       "      <th>cloudy</th>\n",
       "      <th>conventional_mine</th>\n",
       "      <th>cultivation</th>\n",
       "      <th>habitation</th>\n",
       "      <th>haze</th>\n",
       "      <th>partly_cloudy</th>\n",
       "      <th>primary</th>\n",
       "      <th>road</th>\n",
       "      <th>selective_logging</th>\n",
       "      <th>slash_burn</th>\n",
       "      <th>water</th>\n",
       "    </tr>\n",
       "    <tr>\n",
       "      <th>b'image_name'</th>\n",
       "      <th></th>\n",
       "      <th></th>\n",
       "      <th></th>\n",
       "      <th></th>\n",
       "      <th></th>\n",
       "      <th></th>\n",
       "      <th></th>\n",
       "      <th></th>\n",
       "      <th></th>\n",
       "      <th></th>\n",
       "      <th></th>\n",
       "      <th></th>\n",
       "      <th></th>\n",
       "      <th></th>\n",
       "      <th></th>\n",
       "      <th></th>\n",
       "      <th></th>\n",
       "    </tr>\n",
       "  </thead>\n",
       "  <tbody>\n",
       "    <tr>\n",
       "      <th>train_0</th>\n",
       "      <td>0.002900</td>\n",
       "      <td>0.001370</td>\n",
       "      <td>0.001533</td>\n",
       "      <td>0.001599</td>\n",
       "      <td>0.001442</td>\n",
       "      <td>0.733193</td>\n",
       "      <td>0.001396</td>\n",
       "      <td>0.001365</td>\n",
       "      <td>0.002094</td>\n",
       "      <td>0.001792</td>\n",
       "      <td>0.828538</td>\n",
       "      <td>0.001803</td>\n",
       "      <td>0.998538</td>\n",
       "      <td>0.001924</td>\n",
       "      <td>0.001486</td>\n",
       "      <td>0.001427</td>\n",
       "      <td>0.003176</td>\n",
       "    </tr>\n",
       "    <tr>\n",
       "      <th>train_1</th>\n",
       "      <td>0.893066</td>\n",
       "      <td>0.002227</td>\n",
       "      <td>0.009441</td>\n",
       "      <td>0.001569</td>\n",
       "      <td>0.001566</td>\n",
       "      <td>0.998100</td>\n",
       "      <td>0.001370</td>\n",
       "      <td>0.001451</td>\n",
       "      <td>0.642272</td>\n",
       "      <td>0.023163</td>\n",
       "      <td>0.001569</td>\n",
       "      <td>0.001671</td>\n",
       "      <td>0.998555</td>\n",
       "      <td>0.704373</td>\n",
       "      <td>0.002417</td>\n",
       "      <td>0.009954</td>\n",
       "      <td>0.883210</td>\n",
       "    </tr>\n",
       "    <tr>\n",
       "      <th>train_2</th>\n",
       "      <td>0.002361</td>\n",
       "      <td>0.001377</td>\n",
       "      <td>0.001498</td>\n",
       "      <td>0.001468</td>\n",
       "      <td>0.001442</td>\n",
       "      <td>0.998310</td>\n",
       "      <td>0.001365</td>\n",
       "      <td>0.001356</td>\n",
       "      <td>0.001742</td>\n",
       "      <td>0.001737</td>\n",
       "      <td>0.001508</td>\n",
       "      <td>0.001479</td>\n",
       "      <td>0.998572</td>\n",
       "      <td>0.001655</td>\n",
       "      <td>0.001452</td>\n",
       "      <td>0.001411</td>\n",
       "      <td>0.001930</td>\n",
       "    </tr>\n",
       "  </tbody>\n",
       "</table>\n",
       "</div>"
      ],
      "text/plain": [
       "               agriculture  artisinal_mine  bare_ground  blooming  blow_down  \\\n",
       "b'image_name'                                                                  \n",
       "train_0           0.002900        0.001370     0.001533  0.001599   0.001442   \n",
       "train_1           0.893066        0.002227     0.009441  0.001569   0.001566   \n",
       "train_2           0.002361        0.001377     0.001498  0.001468   0.001442   \n",
       "\n",
       "                  clear    cloudy  conventional_mine  cultivation  habitation  \\\n",
       "b'image_name'                                                                   \n",
       "train_0        0.733193  0.001396           0.001365     0.002094    0.001792   \n",
       "train_1        0.998100  0.001370           0.001451     0.642272    0.023163   \n",
       "train_2        0.998310  0.001365           0.001356     0.001742    0.001737   \n",
       "\n",
       "                   haze  partly_cloudy   primary      road  selective_logging  \\\n",
       "b'image_name'                                                                   \n",
       "train_0        0.828538       0.001803  0.998538  0.001924           0.001486   \n",
       "train_1        0.001569       0.001671  0.998555  0.704373           0.002417   \n",
       "train_2        0.001508       0.001479  0.998572  0.001655           0.001452   \n",
       "\n",
       "               slash_burn     water  \n",
       "b'image_name'                        \n",
       "train_0          0.001427  0.003176  \n",
       "train_1          0.009954  0.883210  \n",
       "train_2          0.001411  0.001930  "
      ]
     },
     "execution_count": 2,
     "metadata": {},
     "output_type": "execute_result"
    }
   ],
   "source": [
    "valid_pred = pd.read_hdf('../../_data/20170718-003045-b2-albu-eval.h5')\n",
    "valid_pred[:3]"
   ]
  },
  {
   "cell_type": "code",
   "execution_count": 3,
   "metadata": {},
   "outputs": [
    {
     "data": {
      "text/html": [
       "<div>\n",
       "<style>\n",
       "    .dataframe thead tr:only-child th {\n",
       "        text-align: right;\n",
       "    }\n",
       "\n",
       "    .dataframe thead th {\n",
       "        text-align: left;\n",
       "    }\n",
       "\n",
       "    .dataframe tbody tr th {\n",
       "        vertical-align: top;\n",
       "    }\n",
       "</style>\n",
       "<table border=\"1\" class=\"dataframe\">\n",
       "  <thead>\n",
       "    <tr style=\"text-align: right;\">\n",
       "      <th></th>\n",
       "      <th>agriculture</th>\n",
       "      <th>artisinal_mine</th>\n",
       "      <th>bare_ground</th>\n",
       "      <th>blooming</th>\n",
       "      <th>blow_down</th>\n",
       "      <th>clear</th>\n",
       "      <th>cloudy</th>\n",
       "      <th>conventional_mine</th>\n",
       "      <th>cultivation</th>\n",
       "      <th>habitation</th>\n",
       "      <th>haze</th>\n",
       "      <th>partly_cloudy</th>\n",
       "      <th>primary</th>\n",
       "      <th>road</th>\n",
       "      <th>selective_logging</th>\n",
       "      <th>slash_burn</th>\n",
       "      <th>water</th>\n",
       "    </tr>\n",
       "    <tr>\n",
       "      <th>image_name</th>\n",
       "      <th></th>\n",
       "      <th></th>\n",
       "      <th></th>\n",
       "      <th></th>\n",
       "      <th></th>\n",
       "      <th></th>\n",
       "      <th></th>\n",
       "      <th></th>\n",
       "      <th></th>\n",
       "      <th></th>\n",
       "      <th></th>\n",
       "      <th></th>\n",
       "      <th></th>\n",
       "      <th></th>\n",
       "      <th></th>\n",
       "      <th></th>\n",
       "      <th></th>\n",
       "    </tr>\n",
       "  </thead>\n",
       "  <tbody>\n",
       "    <tr>\n",
       "      <th>train_0</th>\n",
       "      <td>0</td>\n",
       "      <td>0</td>\n",
       "      <td>0</td>\n",
       "      <td>0</td>\n",
       "      <td>0</td>\n",
       "      <td>0</td>\n",
       "      <td>0</td>\n",
       "      <td>0</td>\n",
       "      <td>0</td>\n",
       "      <td>0</td>\n",
       "      <td>1</td>\n",
       "      <td>0</td>\n",
       "      <td>1</td>\n",
       "      <td>0</td>\n",
       "      <td>0</td>\n",
       "      <td>0</td>\n",
       "      <td>0</td>\n",
       "    </tr>\n",
       "    <tr>\n",
       "      <th>train_1</th>\n",
       "      <td>1</td>\n",
       "      <td>0</td>\n",
       "      <td>0</td>\n",
       "      <td>0</td>\n",
       "      <td>0</td>\n",
       "      <td>1</td>\n",
       "      <td>0</td>\n",
       "      <td>0</td>\n",
       "      <td>0</td>\n",
       "      <td>0</td>\n",
       "      <td>0</td>\n",
       "      <td>0</td>\n",
       "      <td>1</td>\n",
       "      <td>0</td>\n",
       "      <td>0</td>\n",
       "      <td>0</td>\n",
       "      <td>1</td>\n",
       "    </tr>\n",
       "    <tr>\n",
       "      <th>train_2</th>\n",
       "      <td>0</td>\n",
       "      <td>0</td>\n",
       "      <td>0</td>\n",
       "      <td>0</td>\n",
       "      <td>0</td>\n",
       "      <td>1</td>\n",
       "      <td>0</td>\n",
       "      <td>0</td>\n",
       "      <td>0</td>\n",
       "      <td>0</td>\n",
       "      <td>0</td>\n",
       "      <td>0</td>\n",
       "      <td>1</td>\n",
       "      <td>0</td>\n",
       "      <td>0</td>\n",
       "      <td>0</td>\n",
       "      <td>0</td>\n",
       "    </tr>\n",
       "  </tbody>\n",
       "</table>\n",
       "</div>"
      ],
      "text/plain": [
       "            agriculture  artisinal_mine  bare_ground  blooming  blow_down  \\\n",
       "image_name                                                                  \n",
       "train_0               0               0            0         0          0   \n",
       "train_1               1               0            0         0          0   \n",
       "train_2               0               0            0         0          0   \n",
       "\n",
       "            clear  cloudy  conventional_mine  cultivation  habitation  haze  \\\n",
       "image_name                                                                    \n",
       "train_0         0       0                  0            0           0     1   \n",
       "train_1         1       0                  0            0           0     0   \n",
       "train_2         1       0                  0            0           0     0   \n",
       "\n",
       "            partly_cloudy  primary  road  selective_logging  slash_burn  water  \n",
       "image_name                                                                      \n",
       "train_0                 0        1     0                  0           0      0  \n",
       "train_1                 0        1     0                  0           0      1  \n",
       "train_2                 0        1     0                  0           0      0  "
      ]
     },
     "execution_count": 3,
     "metadata": {},
     "output_type": "execute_result"
    }
   ],
   "source": [
    "train_flat = pd.read_csv('../../_data/train_flat.csv', index_col=0)\n",
    "train_flat[:3]"
   ]
  },
  {
   "cell_type": "code",
   "execution_count": 4,
   "metadata": {
    "collapsed": true
   },
   "outputs": [],
   "source": [
    "def f2_score(y_true, y_pred, eps=1e-7) -> float:\n",
    "    # same as fbeta_score(y_true, y_pred, beta=2, average='samples')\n",
    "    # but faster\n",
    "    if isinstance(y_true, pd.DataFrame):\n",
    "        y_true = y_true.as_matrix()\n",
    "    if isinstance(y_pred, pd.DataFrame):\n",
    "        y_pred = y_pred.as_matrix()\n",
    "    tp = (y_true * y_pred).sum(axis=1)\n",
    "    r = tp / y_true.sum(axis=1)\n",
    "    p = tp / (y_pred.sum(axis=1) + eps)\n",
    "    beta2 = 4\n",
    "    f2 = (1 + beta2) * p * r / (beta2 * p + r + eps)\n",
    "    return f2.mean()"
   ]
  },
  {
   "cell_type": "code",
   "execution_count": 5,
   "metadata": {},
   "outputs": [
    {
     "data": {
      "text/plain": [
       "0.93320946748926459"
      ]
     },
     "execution_count": 5,
     "metadata": {},
     "output_type": "execute_result"
    }
   ],
   "source": [
    "threshold = 0.2\n",
    "original_score = f2_score(train_flat, valid_pred > threshold)\n",
    "original_score"
   ]
  },
  {
   "cell_type": "code",
   "execution_count": 6,
   "metadata": {},
   "outputs": [
    {
     "name": "stdout",
     "output_type": "stream",
     "text": [
      "0.1843 0.0000410\n",
      "0.1864 0.0000193\n",
      "0.1884 0.0000343\n",
      "0.1904 0.0000257\n",
      "0.1924 0.0000119\n",
      "0.1944 0.0000136\n",
      "0.1965 0.0000053\n",
      "0.1985 0.0000172\n",
      "0.2025 0.0000241\n",
      "0.2045 0.0000299\n",
      "0.2066 0.0000045\n",
      "0.2086 0.0000028\n",
      "0.2106 0.0000230\n",
      "0.2126 0.0000483\n",
      "0.2146 0.0000828\n",
      "0.2167 0.0000746\n",
      "0.2187 0.0000912\n",
      "0.2207 0.0000779\n",
      "0.2227 0.0000897\n",
      "0.2247 0.0000957\n",
      "0.2268 0.0000996\n",
      "0.2288 0.0001164\n",
      "0.2308 0.0001355\n",
      "0.2328 0.0000900\n",
      "0.2348 0.0000952\n",
      "0.2369 0.0000947\n",
      "0.2389 0.0000948\n",
      "0.2409 0.0001003\n",
      "0.2429 0.0000654\n",
      "0.2449 0.0000510\n",
      "0.2470 0.0000434\n",
      "0.2490 0.0000276\n",
      "0.2510 0.0000738\n",
      "0.2530 0.0000541\n",
      "0.2551 0.0000281\n",
      "0.2571 0.0000102\n",
      "0.2591 0.0000067\n",
      "0.2611 0.0000272\n",
      "0.2631 0.0000308\n",
      "0.2652 0.0000841\n",
      "0.2672 0.0000997\n",
      "0.2692 0.0001009\n",
      "0.2712 0.0000774\n",
      "0.2732 0.0000874\n",
      "0.2753 0.0001148\n",
      "0.2773 0.0001300\n",
      "0.2793 0.0001601\n",
      "0.2813 0.0001655\n",
      "0.2833 0.0001904\n",
      "0.2854 0.0001598\n",
      "0.2874 0.0001481\n",
      "0.2894 0.0001529\n",
      "0.2914 0.0001551\n",
      "0.2934 0.0001690\n",
      "0.2955 0.0001085\n",
      "0.2975 0.0000623\n",
      "0.2995 0.0000323\n",
      "0.3015 0.0000003\n",
      "0.3076 0.0000161\n"
     ]
    }
   ],
   "source": [
    "for th in np.linspace(0.15, 0.35, 100):\n",
    "    score = f2_score(train_flat.as_matrix(), (valid_pred > th).as_matrix())\n",
    "    if score > original_score:\n",
    "        print('{:.4f} {:.7f}'.format(th, score - original_score))"
   ]
  },
  {
   "cell_type": "code",
   "execution_count": 25,
   "metadata": {},
   "outputs": [
    {
     "name": "stdout",
     "output_type": "stream",
     "text": [
      "Mean delta +0.00010\n",
      "T-test: Ttest_1sampResult(statistic=16.942542831576787, pvalue=8.6080777760104783e-57)\n"
     ]
    },
    {
     "data": {
      "image/png": "[encoded data removed]",
      "text/plain": [
       "<matplotlib.figure.Figure at 0x113d8c7b8>"
      ]
     },
     "metadata": {},
     "output_type": "display_data"
    }
   ],
   "source": [
    "deltas = []\n",
    "for _ in range(100):\n",
    "    for train_ids, valid_ids in KFold(n_splits=10, shuffle=True).split(valid_pred.index):\n",
    "        hack = valid_pred.iloc[valid_ids].copy()\n",
    "        hack[hack['cloudy'] > .7] *= .7\n",
    "        delta = (f2_score(train_flat.iloc[valid_ids], hack > threshold) -\n",
    "                 f2_score(train_flat.iloc[valid_ids], valid_pred.iloc[valid_ids] > threshold))\n",
    "        deltas.append(delta)\n",
    "        # print('{:+.5f}'.format(delta))\n",
    "plt.figure(figsize=(8, 4))\n",
    "plt.hist(deltas, bins=50);\n",
    "print('Mean delta {:+.5f}'.format(np.mean(deltas)))\n",
    "print('T-test: {}'.format(ttest_1samp(deltas, 0)))"
   ]
  },
  {
   "cell_type": "code",
   "execution_count": 8,
   "metadata": {},
   "outputs": [
    {
     "data": {
      "image/png": "[encoded data removed]",
      "text/plain": [
       "<matplotlib.figure.Figure at 0x109bf65f8>"
      ]
     },
     "metadata": {},
     "output_type": "display_data"
    }
   ],
   "source": [
    "plt.hist(hack.as_matrix().sum(axis=1), bins=30);"
   ]
  },
  {
   "cell_type": "code",
   "execution_count": 11,
   "metadata": {
    "collapsed": true
   },
   "outputs": [],
   "source": [
    "bayes_valid = make_bayes_submission.get_df_prediction(valid_pred)"
   ]
  },
  {
   "cell_type": "code",
   "execution_count": 36,
   "metadata": {},
   "outputs": [
    {
     "name": "stdout",
     "output_type": "stream",
     "text": [
      "0.933267, 0.000057\n"
     ]
    }
   ],
   "source": [
    "new_score = f2_score(train_flat, bayes_valid)\n",
    "print('{:.6f}, {:.6f}'.format(new_score, new_score - original_score))"
   ]
  },
  {
   "cell_type": "code",
   "execution_count": 37,
   "metadata": {},
   "outputs": [
    {
     "name": "stdout",
     "output_type": "stream",
     "text": [
      "0.933244, 0.000035\n"
     ]
    }
   ],
   "source": [
    "new_score = f2_score(train_flat, make_bayes_submission.get_df_prediction(valid_pred, min_p=0.02, max_p=0.7))\n",
    "print('{:.6f}, {:.6f}'.format(new_score, new_score - original_score))"
   ]
  },
  {
   "cell_type": "code",
   "execution_count": 45,
   "metadata": {},
   "outputs": [
    {
     "name": "stdout",
     "output_type": "stream",
     "text": [
      "0.933270, 0.000061\n"
     ]
    }
   ],
   "source": [
    "new_score = f2_score(train_flat, make_bayes_submission.get_df_prediction(valid_pred, min_p=0.03, max_p=0.5))\n",
    "print('{:.6f}, {:.6f}'.format(new_score, new_score - original_score))"
   ]
  },
  {
   "cell_type": "code",
   "execution_count": 32,
   "metadata": {},
   "outputs": [
    {
     "name": "stdout",
     "output_type": "stream",
     "text": [
      "Mean delta +0.000057\n",
      "T-test: Ttest_1sampResult(statistic=6.1884754633871157, pvalue=8.8523569279878356e-10)\n"
     ]
    },
    {
     "data": {
      "image/png": "[encoded data removed]",
      "text/plain": [
       "<matplotlib.figure.Figure at 0x110137d68>"
      ]
     },
     "metadata": {},
     "output_type": "display_data"
    }
   ],
   "source": [
    "deltas = []\n",
    "for _ in range(100):\n",
    "    for train_ids, valid_ids in KFold(n_splits=10, shuffle=True).split(valid_pred.index):\n",
    "        bayes = make_bayes_submission.get_df_prediction(valid_pred.iloc[valid_ids])\n",
    "        delta = (f2_score(train_flat.iloc[valid_ids], bayes) -\n",
    "                 f2_score(train_flat.iloc[valid_ids], valid_pred.iloc[valid_ids] > threshold))\n",
    "        deltas.append(delta)\n",
    "plt.figure(figsize=(8, 4))\n",
    "plt.hist(deltas, bins=50);\n",
    "print('Mean delta {:+.6f}'.format(np.mean(deltas)))\n",
    "print('T-test: {}'.format(ttest_1samp(deltas, 0)))"
   ]
  },
  {
   "cell_type": "code",
   "execution_count": 34,
   "metadata": {},
   "outputs": [
    {
     "name": "stdout",
     "output_type": "stream",
     "text": [
      "Mean delta +0.000112\n",
      "T-test: Ttest_1sampResult(statistic=3.3712499186743745, pvalue=0.0010683301814363732)\n"
     ]
    },
    {
     "data": {
      "image/png": "[encoded data removed]",
      "text/plain": [
       "<matplotlib.figure.Figure at 0x10be50940>"
      ]
     },
     "metadata": {},
     "output_type": "display_data"
    }
   ],
   "source": [
    "deltas = []\n",
    "for _ in range(10):\n",
    "    for train_ids, valid_ids in KFold(n_splits=10, shuffle=True).split(valid_pred.index):\n",
    "        hack = valid_pred.iloc[valid_ids].copy()\n",
    "        hack[hack['cloudy'] > .7] *= .7\n",
    "        bayes = make_bayes_submission.get_df_prediction(hack)\n",
    "        delta = (f2_score(train_flat.iloc[valid_ids], bayes) -\n",
    "                 f2_score(train_flat.iloc[valid_ids], valid_pred.iloc[valid_ids] > threshold))\n",
    "        deltas.append(delta)\n",
    "plt.figure(figsize=(8, 4))\n",
    "plt.hist(deltas, bins=50);\n",
    "print('Mean delta {:+.6f}'.format(np.mean(deltas)))\n",
    "print('T-test: {}'.format(ttest_1samp(deltas, 0)))"
   ]
  }
 ],
 "metadata": {
  "kernelspec": {
   "display_name": "Python 3",
   "language": "python",
   "name": "python3"
  },
  "language_info": {
   "codemirror_mode": {
    "name": "ipython",
    "version": 3
   },
   "file_extension": ".py",
   "mimetype": "text/x-python",
   "name": "python",
   "nbconvert_exporter": "python",
   "pygments_lexer": "ipython3",
   "version": "3.5.1"
  }
 },
 "nbformat": 4,
 "nbformat_minor": 2
}
