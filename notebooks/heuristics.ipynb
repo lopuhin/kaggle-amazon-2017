{
 "cells": [
  {
   "cell_type": "code",
   "execution_count": 1,
   "metadata": {
    "collapsed": true
   },
   "outputs": [],
   "source": [
    "import sys\n",
    "import pandas as pd\n",
    "import numpy as np\n",
    "from matplotlib import pyplot as plt\n",
    "from sklearn.model_selection import KFold\n",
    "from scipy.stats import ttest_1samp\n",
    "%matplotlib inline\n",
    "\n",
    "if '..' not in sys.path:\n",
    "    sys.path.append('..')\n",
    "import make_bayes_submission\n",
    "from make_submission import sigmoid, logit"
   ]
  },
  {
   "cell_type": "code",
   "execution_count": 21,
   "metadata": {},
   "outputs": [
    {
     "data": {
      "text/html": [
       "<div>\n",
       "<style>\n",
       "    .dataframe thead tr:only-child th {\n",
       "        text-align: right;\n",
       "    }\n",
       "\n",
       "    .dataframe thead th {\n",
       "        text-align: left;\n",
       "    }\n",
       "\n",
       "    .dataframe tbody tr th {\n",
       "        vertical-align: top;\n",
       "    }\n",
       "</style>\n",
       "<table border=\"1\" class=\"dataframe\">\n",
       "  <thead>\n",
       "    <tr style=\"text-align: right;\">\n",
       "      <th></th>\n",
       "      <th>agriculture</th>\n",
       "      <th>artisinal_mine</th>\n",
       "      <th>bare_ground</th>\n",
       "      <th>blooming</th>\n",
       "      <th>blow_down</th>\n",
       "      <th>clear</th>\n",
       "      <th>cloudy</th>\n",
       "      <th>conventional_mine</th>\n",
       "      <th>cultivation</th>\n",
       "      <th>habitation</th>\n",
       "      <th>haze</th>\n",
       "      <th>partly_cloudy</th>\n",
       "      <th>primary</th>\n",
       "      <th>road</th>\n",
       "      <th>selective_logging</th>\n",
       "      <th>slash_burn</th>\n",
       "      <th>water</th>\n",
       "    </tr>\n",
       "    <tr>\n",
       "      <th>image_name</th>\n",
       "      <th></th>\n",
       "      <th></th>\n",
       "      <th></th>\n",
       "      <th></th>\n",
       "      <th></th>\n",
       "      <th></th>\n",
       "      <th></th>\n",
       "      <th></th>\n",
       "      <th></th>\n",
       "      <th></th>\n",
       "      <th></th>\n",
       "      <th></th>\n",
       "      <th></th>\n",
       "      <th></th>\n",
       "      <th></th>\n",
       "      <th></th>\n",
       "      <th></th>\n",
       "    </tr>\n",
       "  </thead>\n",
       "  <tbody>\n",
       "    <tr>\n",
       "      <th>train_0</th>\n",
       "      <td>0</td>\n",
       "      <td>0</td>\n",
       "      <td>0</td>\n",
       "      <td>0</td>\n",
       "      <td>0</td>\n",
       "      <td>0</td>\n",
       "      <td>0</td>\n",
       "      <td>0</td>\n",
       "      <td>0</td>\n",
       "      <td>0</td>\n",
       "      <td>1</td>\n",
       "      <td>0</td>\n",
       "      <td>1</td>\n",
       "      <td>0</td>\n",
       "      <td>0</td>\n",
       "      <td>0</td>\n",
       "      <td>0</td>\n",
       "    </tr>\n",
       "    <tr>\n",
       "      <th>train_1</th>\n",
       "      <td>1</td>\n",
       "      <td>0</td>\n",
       "      <td>0</td>\n",
       "      <td>0</td>\n",
       "      <td>0</td>\n",
       "      <td>1</td>\n",
       "      <td>0</td>\n",
       "      <td>0</td>\n",
       "      <td>0</td>\n",
       "      <td>0</td>\n",
       "      <td>0</td>\n",
       "      <td>0</td>\n",
       "      <td>1</td>\n",
       "      <td>0</td>\n",
       "      <td>0</td>\n",
       "      <td>0</td>\n",
       "      <td>1</td>\n",
       "    </tr>\n",
       "    <tr>\n",
       "      <th>train_2</th>\n",
       "      <td>0</td>\n",
       "      <td>0</td>\n",
       "      <td>0</td>\n",
       "      <td>0</td>\n",
       "      <td>0</td>\n",
       "      <td>1</td>\n",
       "      <td>0</td>\n",
       "      <td>0</td>\n",
       "      <td>0</td>\n",
       "      <td>0</td>\n",
       "      <td>0</td>\n",
       "      <td>0</td>\n",
       "      <td>1</td>\n",
       "      <td>0</td>\n",
       "      <td>0</td>\n",
       "      <td>0</td>\n",
       "      <td>0</td>\n",
       "    </tr>\n",
       "  </tbody>\n",
       "</table>\n",
       "</div>"
      ],
      "text/plain": [
       "            agriculture  artisinal_mine  bare_ground  blooming  blow_down  \\\n",
       "image_name                                                                  \n",
       "train_0               0               0            0         0          0   \n",
       "train_1               1               0            0         0          0   \n",
       "train_2               0               0            0         0          0   \n",
       "\n",
       "            clear  cloudy  conventional_mine  cultivation  habitation  haze  \\\n",
       "image_name                                                                    \n",
       "train_0         0       0                  0            0           0     1   \n",
       "train_1         1       0                  0            0           0     0   \n",
       "train_2         1       0                  0            0           0     0   \n",
       "\n",
       "            partly_cloudy  primary  road  selective_logging  slash_burn  water  \n",
       "image_name                                                                      \n",
       "train_0                 0        1     0                  0           0      0  \n",
       "train_1                 0        1     0                  0           0      1  \n",
       "train_2                 0        1     0                  0           0      0  "
      ]
     },
     "execution_count": 21,
     "metadata": {},
     "output_type": "execute_result"
    }
   ],
   "source": [
    "train_flat = pd.read_csv('../../_data/train_flat.csv', index_col=0)\n",
    "train_flat[:3]"
   ]
  },
  {
   "cell_type": "code",
   "execution_count": 46,
   "metadata": {},
   "outputs": [
    {
     "data": {
      "text/html": [
       "<div>\n",
       "<style>\n",
       "    .dataframe thead tr:only-child th {\n",
       "        text-align: right;\n",
       "    }\n",
       "\n",
       "    .dataframe thead th {\n",
       "        text-align: left;\n",
       "    }\n",
       "\n",
       "    .dataframe tbody tr th {\n",
       "        vertical-align: top;\n",
       "    }\n",
       "</style>\n",
       "<table border=\"1\" class=\"dataframe\">\n",
       "  <thead>\n",
       "    <tr style=\"text-align: right;\">\n",
       "      <th></th>\n",
       "      <th>agriculture</th>\n",
       "      <th>artisinal_mine</th>\n",
       "      <th>bare_ground</th>\n",
       "      <th>blooming</th>\n",
       "      <th>blow_down</th>\n",
       "      <th>clear</th>\n",
       "      <th>cloudy</th>\n",
       "      <th>conventional_mine</th>\n",
       "      <th>cultivation</th>\n",
       "      <th>habitation</th>\n",
       "      <th>haze</th>\n",
       "      <th>partly_cloudy</th>\n",
       "      <th>primary</th>\n",
       "      <th>road</th>\n",
       "      <th>selective_logging</th>\n",
       "      <th>slash_burn</th>\n",
       "      <th>water</th>\n",
       "    </tr>\n",
       "    <tr>\n",
       "      <th>image_name</th>\n",
       "      <th></th>\n",
       "      <th></th>\n",
       "      <th></th>\n",
       "      <th></th>\n",
       "      <th></th>\n",
       "      <th></th>\n",
       "      <th></th>\n",
       "      <th></th>\n",
       "      <th></th>\n",
       "      <th></th>\n",
       "      <th></th>\n",
       "      <th></th>\n",
       "      <th></th>\n",
       "      <th></th>\n",
       "      <th></th>\n",
       "      <th></th>\n",
       "      <th></th>\n",
       "    </tr>\n",
       "  </thead>\n",
       "  <tbody>\n",
       "    <tr>\n",
       "      <th>train_0</th>\n",
       "      <td>0.003930</td>\n",
       "      <td>0.004211</td>\n",
       "      <td>0.002263</td>\n",
       "      <td>0.001794</td>\n",
       "      <td>0.002070</td>\n",
       "      <td>0.591027</td>\n",
       "      <td>0.006670</td>\n",
       "      <td>0.001795</td>\n",
       "      <td>0.002431</td>\n",
       "      <td>0.002176</td>\n",
       "      <td>0.683836</td>\n",
       "      <td>0.002359</td>\n",
       "      <td>0.997151</td>\n",
       "      <td>0.002328</td>\n",
       "      <td>0.002150</td>\n",
       "      <td>0.001753</td>\n",
       "      <td>0.003885</td>\n",
       "    </tr>\n",
       "    <tr>\n",
       "      <th>train_1</th>\n",
       "      <td>0.818843</td>\n",
       "      <td>0.005387</td>\n",
       "      <td>0.014422</td>\n",
       "      <td>0.001886</td>\n",
       "      <td>0.001836</td>\n",
       "      <td>0.997251</td>\n",
       "      <td>0.003316</td>\n",
       "      <td>0.002329</td>\n",
       "      <td>0.455737</td>\n",
       "      <td>0.028945</td>\n",
       "      <td>0.002248</td>\n",
       "      <td>0.002191</td>\n",
       "      <td>0.997231</td>\n",
       "      <td>0.500173</td>\n",
       "      <td>0.004191</td>\n",
       "      <td>0.016922</td>\n",
       "      <td>0.818798</td>\n",
       "    </tr>\n",
       "    <tr>\n",
       "      <th>train_2</th>\n",
       "      <td>0.003150</td>\n",
       "      <td>0.003586</td>\n",
       "      <td>0.002302</td>\n",
       "      <td>0.001734</td>\n",
       "      <td>0.001651</td>\n",
       "      <td>0.997664</td>\n",
       "      <td>0.004536</td>\n",
       "      <td>0.001653</td>\n",
       "      <td>0.001856</td>\n",
       "      <td>0.002268</td>\n",
       "      <td>0.001843</td>\n",
       "      <td>0.002075</td>\n",
       "      <td>0.997267</td>\n",
       "      <td>0.002243</td>\n",
       "      <td>0.002193</td>\n",
       "      <td>0.002039</td>\n",
       "      <td>0.002790</td>\n",
       "    </tr>\n",
       "  </tbody>\n",
       "</table>\n",
       "</div>"
      ],
      "text/plain": [
       "            agriculture  artisinal_mine  bare_ground  blooming  blow_down  \\\n",
       "image_name                                                                  \n",
       "train_0        0.003930        0.004211     0.002263  0.001794   0.002070   \n",
       "train_1        0.818843        0.005387     0.014422  0.001886   0.001836   \n",
       "train_2        0.003150        0.003586     0.002302  0.001734   0.001651   \n",
       "\n",
       "               clear    cloudy  conventional_mine  cultivation  habitation  \\\n",
       "image_name                                                                   \n",
       "train_0     0.591027  0.006670           0.001795     0.002431    0.002176   \n",
       "train_1     0.997251  0.003316           0.002329     0.455737    0.028945   \n",
       "train_2     0.997664  0.004536           0.001653     0.001856    0.002268   \n",
       "\n",
       "                haze  partly_cloudy   primary      road  selective_logging  \\\n",
       "image_name                                                                   \n",
       "train_0     0.683836       0.002359  0.997151  0.002328           0.002150   \n",
       "train_1     0.002248       0.002191  0.997231  0.500173           0.004191   \n",
       "train_2     0.001843       0.002075  0.997267  0.002243           0.002193   \n",
       "\n",
       "            slash_burn     water  \n",
       "image_name                        \n",
       "train_0       0.001753  0.003885  \n",
       "train_1       0.016922  0.818798  \n",
       "train_2       0.002039  0.002790  "
      ]
     },
     "execution_count": 46,
     "metadata": {},
     "output_type": "execute_result"
    }
   ],
   "source": [
    "valid_pred = pd.read_hdf('../../_data/20170720-005737-b6-albu-0.93359-eval.h5').loc[train_flat.index]\n",
    "valid_pred = valid_pred.loc[train_flat.index]\n",
    "valid_pred[:3]"
   ]
  },
  {
   "cell_type": "code",
   "execution_count": 35,
   "metadata": {
    "collapsed": true
   },
   "outputs": [],
   "source": [
    "def f2_score(y_true, y_pred, eps=1e-7) -> float:\n",
    "    # same as fbeta_score(y_true, y_pred, beta=2, average='samples')\n",
    "    # but faster\n",
    "    if isinstance(y_true, pd.DataFrame):\n",
    "        y_true = y_true.as_matrix()\n",
    "    if isinstance(y_pred, pd.DataFrame):\n",
    "        y_pred = y_pred.as_matrix()\n",
    "    tp = (y_true * y_pred).sum(axis=1)\n",
    "    r = tp / y_true.sum(axis=1)\n",
    "    p = tp / (y_pred.sum(axis=1) + eps)\n",
    "    beta2 = 4\n",
    "    f2 = (1 + beta2) * p * r / (beta2 * p + r + eps)\n",
    "    return f2.mean()"
   ]
  },
  {
   "cell_type": "code",
   "execution_count": 52,
   "metadata": {},
   "outputs": [
    {
     "data": {
      "text/plain": [
       "0.93359010922228391"
      ]
     },
     "execution_count": 52,
     "metadata": {},
     "output_type": "execute_result"
    }
   ],
   "source": [
    "threshold = 0.2\n",
    "original_score = f2_score(train_flat, valid_pred > threshold)\n",
    "original_score"
   ]
  },
  {
   "cell_type": "code",
   "execution_count": 40,
   "metadata": {},
   "outputs": [],
   "source": [
    "for th in np.linspace(0.15, 0.35, 100):\n",
    "    score = f2_score(train_flat, valid_pred > th)\n",
    "    if score > original_score:\n",
    "        print('{:.4f} {:.7f}'.format(th, score - original_score))"
   ]
  },
  {
   "cell_type": "code",
   "execution_count": 51,
   "metadata": {},
   "outputs": [
    {
     "name": "stdout",
     "output_type": "stream",
     "text": [
      "best th 0.281, valid delta +0.000344\n",
      "best th 0.289, valid delta +0.000473\n",
      "best th 0.318, valid delta +0.000399\n",
      "best th 0.293, valid delta -0.000855\n",
      "best th 0.289, valid delta -0.000245\n",
      "best th 0.328, valid delta -0.000125\n",
      "best th 0.318, valid delta -0.000073\n",
      "best th 0.289, valid delta +0.000283\n",
      "best th 0.269, valid delta -0.000257\n",
      "best th 0.289, valid delta -0.000085\n",
      "Mean delta -0.00001, mean threshold 0.296\n",
      "T-test: Ttest_1sampResult(statistic=-0.10965614595531323, pvalue=0.91508821866584966)\n"
     ]
    },
    {
     "data": {
      "image/png": "[encoded data removed]",
      "text/plain": [
       "<matplotlib.figure.Figure at 0x10cec5048>"
      ]
     },
     "metadata": {},
     "output_type": "display_data"
    }
   ],
   "source": [
    "deltas = []\n",
    "thresholds = []\n",
    "for train_ids, valid_ids in KFold(n_splits=10, shuffle=True).split(valid_pred.index):\n",
    "    best_score = 0\n",
    "    best_th = 0.2\n",
    "    for th in np.linspace(0.15, 0.35, 100):\n",
    "        score = f2_score(train_flat.iloc[train_ids], valid_pred.iloc[train_ids] > th)\n",
    "        if score > best_score:\n",
    "            best_score = score\n",
    "            best_th = th\n",
    "    delta = (f2_score(train_flat.iloc[valid_ids], valid_pred.iloc[valid_ids] > best_th) -\n",
    "             f2_score(train_flat.iloc[valid_ids], valid_pred.iloc[valid_ids] > 0.2))\n",
    "    deltas.append(delta)\n",
    "    thresholds.append(best_th)\n",
    "    print('best th {:.3f}, valid delta {:+.6f}'.format(best_th, delta))\n",
    "    # print('{:+.5f}'.format(delta))\n",
    "plt.figure(figsize=(8, 4))\n",
    "plt.hist(deltas, bins=50);\n",
    "print('Mean delta {:+.5f}, mean threshold {:.3f}'.format(np.mean(deltas), np.mean(thresholds)))\n",
    "print('T-test: {}'.format(ttest_1samp(deltas, 0)))"
   ]
  },
  {
   "cell_type": "code",
   "execution_count": 124,
   "metadata": {},
   "outputs": [
    {
     "name": "stdout",
     "output_type": "stream",
     "text": [
      "Mean delta +0.000132\n",
      "T-test: Ttest_1sampResult(statistic=19.028434315192772, pvalue=3.9469942484758796e-69)\n"
     ]
    },
    {
     "data": {
      "image/png": "[encoded data removed]",
      "text/plain": [
       "<matplotlib.figure.Figure at 0x10b640898>"
      ]
     },
     "metadata": {},
     "output_type": "display_data"
    }
   ],
   "source": [
    "deltas = []\n",
    "for _ in range(100):\n",
    "    for train_ids, valid_ids in KFold(n_splits=10, shuffle=True).split(valid_pred.index):\n",
    "        hack = valid_pred.iloc[valid_ids].copy()\n",
    "        hack[hack['cloudy'] > .6] *= .6\n",
    "        delta = (f2_score(train_flat.iloc[valid_ids], hack > threshold) -\n",
    "                 f2_score(train_flat.iloc[valid_ids], valid_pred.iloc[valid_ids] > threshold))\n",
    "        deltas.append(delta)\n",
    "        # print('{:+.5f}'.format(delta))\n",
    "plt.figure(figsize=(8, 4))\n",
    "plt.hist(deltas, bins=50);\n",
    "print('Mean delta {:+.6f}'.format(np.mean(deltas)))\n",
    "print('T-test: {}'.format(ttest_1samp(deltas, 0)))"
   ]
  },
  {
   "cell_type": "code",
   "execution_count": 28,
   "metadata": {},
   "outputs": [
    {
     "data": {
      "image/png": "[encoded data removed]",
      "text/plain": [
       "<matplotlib.figure.Figure at 0x11cac8208>"
      ]
     },
     "metadata": {},
     "output_type": "display_data"
    }
   ],
   "source": [
    "plt.hist(hack.as_matrix().sum(axis=1), bins=30);"
   ]
  },
  {
   "cell_type": "code",
   "execution_count": 53,
   "metadata": {
    "collapsed": true
   },
   "outputs": [],
   "source": [
    "bayes_valid = make_bayes_submission.get_df_prediction(valid_pred)"
   ]
  },
  {
   "cell_type": "code",
   "execution_count": 54,
   "metadata": {},
   "outputs": [
    {
     "name": "stdout",
     "output_type": "stream",
     "text": [
      "0.933658, 0.000068\n"
     ]
    }
   ],
   "source": [
    "new_score = f2_score(train_flat, bayes_valid)\n",
    "print('{:.6f}, {:.6f}'.format(new_score, new_score - original_score))"
   ]
  },
  {
   "cell_type": "code",
   "execution_count": 55,
   "metadata": {},
   "outputs": [
    {
     "name": "stdout",
     "output_type": "stream",
     "text": [
      "alpha=0.05, score=0.933632, delta=0.000042\n",
      "alpha=0.10, score=0.933638, delta=0.000048\n",
      "alpha=0.15, score=0.933538, delta=-0.000052\n"
     ]
    }
   ],
   "source": [
    "for alpha in [0.05, 0.1, 0.15]:\n",
    "    new_score = f2_score(\n",
    "        train_flat,\n",
    "        make_bayes_submission.get_df_prediction(valid_pred * (1 + alpha)))\n",
    "    print('alpha={:.2f}, score={:.6f}, delta={:.6f}'.format(alpha, new_score, new_score - original_score))"
   ]
  },
  {
   "cell_type": "code",
   "execution_count": 35,
   "metadata": {},
   "outputs": [
    {
     "name": "stdout",
     "output_type": "stream",
     "text": [
      "delta=-0.05, score=0.933657, delta=0.000066\n",
      "delta=-0.10, score=0.933619, delta=0.000027\n",
      "delta=0.05, score=0.933533, delta=-0.000058\n"
     ]
    }
   ],
   "source": [
    "for delta in [-0.03, -0.01, 0.01, 0.03]:\n",
    "    new_score = f2_score(\n",
    "        train_flat,\n",
    "        make_bayes_submission.get_df_prediction(sigmoid(logit(valid_pred) + delta)))\n",
    "    print('delta={:.2f}, score={:.6f}, delta={:.6f}'.format(delta, new_score, new_score - original_score))"
   ]
  },
  {
   "cell_type": "code",
   "execution_count": 45,
   "metadata": {},
   "outputs": [
    {
     "name": "stdout",
     "output_type": "stream",
     "text": [
      "0.933270, 0.000061\n"
     ]
    }
   ],
   "source": [
    "new_score = f2_score(train_flat, make_bayes_submission.get_df_prediction(valid_pred, min_p=0.03, max_p=0.5))\n",
    "print('{:.6f}, {:.6f}'.format(new_score, new_score - original_score))"
   ]
  },
  {
   "cell_type": "code",
   "execution_count": 32,
   "metadata": {},
   "outputs": [
    {
     "name": "stdout",
     "output_type": "stream",
     "text": [
      "Mean delta +0.000057\n",
      "T-test: Ttest_1sampResult(statistic=6.1884754633871157, pvalue=8.8523569279878356e-10)\n"
     ]
    },
    {
     "data": {
      "image/png": "[encoded data removed]",
      "text/plain": [
       "<matplotlib.figure.Figure at 0x110137d68>"
      ]
     },
     "metadata": {},
     "output_type": "display_data"
    }
   ],
   "source": [
    "deltas = []\n",
    "for _ in range(100):\n",
    "    for train_ids, valid_ids in KFold(n_splits=10, shuffle=True).split(valid_pred.index):\n",
    "        bayes = make_bayes_submission.get_df_prediction(valid_pred.iloc[valid_ids])\n",
    "        delta = (f2_score(train_flat.iloc[valid_ids], bayes) -\n",
    "                 f2_score(train_flat.iloc[valid_ids], valid_pred.iloc[valid_ids] > threshold))\n",
    "        deltas.append(delta)\n",
    "plt.figure(figsize=(8, 4))\n",
    "plt.hist(deltas, bins=50);\n",
    "print('Mean delta {:+.6f}'.format(np.mean(deltas)))\n",
    "print('T-test: {}'.format(ttest_1samp(deltas, 0)))"
   ]
  },
  {
   "cell_type": "code",
   "execution_count": 34,
   "metadata": {},
   "outputs": [
    {
     "name": "stdout",
     "output_type": "stream",
     "text": [
      "Mean delta +0.000112\n",
      "T-test: Ttest_1sampResult(statistic=3.3712499186743745, pvalue=0.0010683301814363732)\n"
     ]
    },
    {
     "data": {
      "image/png": "[encoded data removed]",
      "text/plain": [
       "<matplotlib.figure.Figure at 0x10be50940>"
      ]
     },
     "metadata": {},
     "output_type": "display_data"
    }
   ],
   "source": [
    "deltas = []\n",
    "for _ in range(10):\n",
    "    for train_ids, valid_ids in KFold(n_splits=10, shuffle=True).split(valid_pred.index):\n",
    "        hack = valid_pred.iloc[valid_ids].copy()\n",
    "        hack[hack['cloudy'] > .7] *= .7\n",
    "        bayes = make_bayes_submission.get_df_prediction(hack)\n",
    "        delta = (f2_score(train_flat.iloc[valid_ids], bayes) -\n",
    "                 f2_score(train_flat.iloc[valid_ids], valid_pred.iloc[valid_ids] > threshold))\n",
    "        deltas.append(delta)\n",
    "plt.figure(figsize=(8, 4))\n",
    "plt.hist(deltas, bins=50);\n",
    "print('Mean delta {:+.6f}'.format(np.mean(deltas)))\n",
    "print('T-test: {}'.format(ttest_1samp(deltas, 0)))"
   ]
  },
  {
   "cell_type": "code",
   "execution_count": 6,
   "metadata": {
    "collapsed": true
   },
   "outputs": [],
   "source": [
    "bayes_shifted = make_bayes_submission.get_df_prediction(sigmoid(logit(valid_pred) + 0.1))"
   ]
  },
  {
   "cell_type": "code",
   "execution_count": 10,
   "metadata": {},
   "outputs": [
    {
     "name": "stdout",
     "output_type": "stream",
     "text": [
      "Mean delta +0.000154\n",
      "T-test: Ttest_1sampResult(statistic=28.651988829842661, pvalue=2.8791999077179275e-132)\n"
     ]
    },
    {
     "data": {
      "image/png": "[encoded data removed]",
      "text/plain": [
       "<matplotlib.figure.Figure at 0x11c899748>"
      ]
     },
     "metadata": {},
     "output_type": "display_data"
    }
   ],
   "source": [
    "deltas = []\n",
    "for _ in range(100):\n",
    "    for train_ids, valid_ids in KFold(n_splits=10, shuffle=True).split(valid_pred.index):\n",
    "        delta = (f2_score(train_flat.iloc[valid_ids], bayes_shifted.iloc[valid_ids]) -\n",
    "                 f2_score(train_flat.iloc[valid_ids], valid_pred.iloc[valid_ids] > threshold))\n",
    "        deltas.append(delta)\n",
    "plt.figure(figsize=(8, 4))\n",
    "plt.hist(deltas, bins=50);\n",
    "print('Mean delta {:+.6f}'.format(np.mean(deltas)))\n",
    "print('T-test: {}'.format(ttest_1samp(deltas, 0)))"
   ]
  },
  {
   "cell_type": "code",
   "execution_count": 119,
   "metadata": {
    "collapsed": true
   },
   "outputs": [],
   "source": [
    "hack = valid_pred.copy()\n",
    "for cls in hack.columns:\n",
    "    if cls != 'cloudy':\n",
    "        hack[cls][hack['cloudy'] > .8] *= .8\n",
    "bayes_shifted_hack = make_bayes_submission.get_df_prediction(hack)        "
   ]
  },
  {
   "cell_type": "code",
   "execution_count": 120,
   "metadata": {},
   "outputs": [
    {
     "name": "stdout",
     "output_type": "stream",
     "text": [
      "Mean delta +0.000139\n",
      "T-test: Ttest_1sampResult(statistic=17.250611410018571, pvalue=1.4431135265726424e-58)\n"
     ]
    },
    {
     "data": {
      "image/png": "[encoded data removed]",
      "text/plain": [
       "<matplotlib.figure.Figure at 0x10d91f2b0>"
      ]
     },
     "metadata": {},
     "output_type": "display_data"
    }
   ],
   "source": [
    "deltas = []\n",
    "for _ in range(100):\n",
    "    for train_ids, valid_ids in KFold(n_splits=10, shuffle=True).split(valid_pred.index):\n",
    "        delta = (f2_score(train_flat.iloc[valid_ids], bayes_shifted_hack.iloc[valid_ids]) -\n",
    "                 f2_score(train_flat.iloc[valid_ids], valid_pred.iloc[valid_ids] > threshold))\n",
    "        deltas.append(delta)\n",
    "plt.figure(figsize=(8, 4))\n",
    "plt.hist(deltas, bins=50);\n",
    "print('Mean delta {:+.6f}'.format(np.mean(deltas)))\n",
    "print('T-test: {}'.format(ttest_1samp(deltas, 0)))"
   ]
  },
  {
   "cell_type": "code",
   "execution_count": 101,
   "metadata": {},
   "outputs": [
    {
     "data": {
      "text/html": [
       "<div>\n",
       "<style>\n",
       "    .dataframe thead tr:only-child th {\n",
       "        text-align: right;\n",
       "    }\n",
       "\n",
       "    .dataframe thead th {\n",
       "        text-align: left;\n",
       "    }\n",
       "\n",
       "    .dataframe tbody tr th {\n",
       "        vertical-align: top;\n",
       "    }\n",
       "</style>\n",
       "<table border=\"1\" class=\"dataframe\">\n",
       "  <thead>\n",
       "    <tr style=\"text-align: right;\">\n",
       "      <th></th>\n",
       "      <th>agriculture</th>\n",
       "      <th>artisinal_mine</th>\n",
       "      <th>bare_ground</th>\n",
       "      <th>blooming</th>\n",
       "      <th>blow_down</th>\n",
       "      <th>clear</th>\n",
       "      <th>cloudy</th>\n",
       "      <th>conventional_mine</th>\n",
       "      <th>cultivation</th>\n",
       "      <th>habitation</th>\n",
       "      <th>haze</th>\n",
       "      <th>partly_cloudy</th>\n",
       "      <th>primary</th>\n",
       "      <th>road</th>\n",
       "      <th>selective_logging</th>\n",
       "      <th>slash_burn</th>\n",
       "      <th>water</th>\n",
       "    </tr>\n",
       "    <tr>\n",
       "      <th>image_name</th>\n",
       "      <th></th>\n",
       "      <th></th>\n",
       "      <th></th>\n",
       "      <th></th>\n",
       "      <th></th>\n",
       "      <th></th>\n",
       "      <th></th>\n",
       "      <th></th>\n",
       "      <th></th>\n",
       "      <th></th>\n",
       "      <th></th>\n",
       "      <th></th>\n",
       "      <th></th>\n",
       "      <th></th>\n",
       "      <th></th>\n",
       "      <th></th>\n",
       "      <th></th>\n",
       "    </tr>\n",
       "  </thead>\n",
       "  <tbody>\n",
       "    <tr>\n",
       "      <th>test_0</th>\n",
       "      <td>0.004249</td>\n",
       "      <td>0.004020</td>\n",
       "      <td>0.002376</td>\n",
       "      <td>0.024152</td>\n",
       "      <td>0.001545</td>\n",
       "      <td>0.996132</td>\n",
       "      <td>0.004403</td>\n",
       "      <td>0.001392</td>\n",
       "      <td>0.002579</td>\n",
       "      <td>0.002318</td>\n",
       "      <td>0.006539</td>\n",
       "      <td>0.002092</td>\n",
       "      <td>0.997258</td>\n",
       "      <td>0.002250</td>\n",
       "      <td>0.002649</td>\n",
       "      <td>0.001739</td>\n",
       "      <td>0.003148</td>\n",
       "    </tr>\n",
       "    <tr>\n",
       "      <th>test_1</th>\n",
       "      <td>0.017300</td>\n",
       "      <td>0.004036</td>\n",
       "      <td>0.002536</td>\n",
       "      <td>0.018544</td>\n",
       "      <td>0.029022</td>\n",
       "      <td>0.997545</td>\n",
       "      <td>0.004417</td>\n",
       "      <td>0.001398</td>\n",
       "      <td>0.011012</td>\n",
       "      <td>0.002550</td>\n",
       "      <td>0.001860</td>\n",
       "      <td>0.002161</td>\n",
       "      <td>0.997224</td>\n",
       "      <td>0.002481</td>\n",
       "      <td>0.009337</td>\n",
       "      <td>0.001798</td>\n",
       "      <td>0.003468</td>\n",
       "    </tr>\n",
       "    <tr>\n",
       "      <th>test_2</th>\n",
       "      <td>0.009258</td>\n",
       "      <td>0.004022</td>\n",
       "      <td>0.002338</td>\n",
       "      <td>0.001726</td>\n",
       "      <td>0.001536</td>\n",
       "      <td>0.003710</td>\n",
       "      <td>0.004437</td>\n",
       "      <td>0.001400</td>\n",
       "      <td>0.003209</td>\n",
       "      <td>0.002218</td>\n",
       "      <td>0.001828</td>\n",
       "      <td>0.996449</td>\n",
       "      <td>0.997256</td>\n",
       "      <td>0.003019</td>\n",
       "      <td>0.002166</td>\n",
       "      <td>0.001774</td>\n",
       "      <td>0.013507</td>\n",
       "    </tr>\n",
       "  </tbody>\n",
       "</table>\n",
       "</div>"
      ],
      "text/plain": [
       "            agriculture  artisinal_mine  bare_ground  blooming  blow_down  \\\n",
       "image_name                                                                  \n",
       "test_0         0.004249        0.004020     0.002376  0.024152   0.001545   \n",
       "test_1         0.017300        0.004036     0.002536  0.018544   0.029022   \n",
       "test_2         0.009258        0.004022     0.002338  0.001726   0.001536   \n",
       "\n",
       "               clear    cloudy  conventional_mine  cultivation  habitation  \\\n",
       "image_name                                                                   \n",
       "test_0      0.996132  0.004403           0.001392     0.002579    0.002318   \n",
       "test_1      0.997545  0.004417           0.001398     0.011012    0.002550   \n",
       "test_2      0.003710  0.004437           0.001400     0.003209    0.002218   \n",
       "\n",
       "                haze  partly_cloudy   primary      road  selective_logging  \\\n",
       "image_name                                                                   \n",
       "test_0      0.006539       0.002092  0.997258  0.002250           0.002649   \n",
       "test_1      0.001860       0.002161  0.997224  0.002481           0.009337   \n",
       "test_2      0.001828       0.996449  0.997256  0.003019           0.002166   \n",
       "\n",
       "            slash_burn     water  \n",
       "image_name                        \n",
       "test_0        0.001739  0.003148  \n",
       "test_1        0.001798  0.003468  \n",
       "test_2        0.001774  0.013507  "
      ]
     },
     "execution_count": 101,
     "metadata": {},
     "output_type": "execute_result"
    }
   ],
   "source": [
    "test_pred = pd.read_hdf('../../_data/20170720-005737-b6-albu-0.93359-test.h5')\n",
    "test_pred[:3]"
   ]
  },
  {
   "cell_type": "code",
   "execution_count": 57,
   "metadata": {
    "collapsed": true
   },
   "outputs": [],
   "source": [
    "bayes_test = make_bayes_submission.get_df_prediction(test_pred)        "
   ]
  },
  {
   "cell_type": "code",
   "execution_count": 60,
   "metadata": {},
   "outputs": [
    {
     "data": {
      "text/html": [
       "<div>\n",
       "<style>\n",
       "    .dataframe thead tr:only-child th {\n",
       "        text-align: right;\n",
       "    }\n",
       "\n",
       "    .dataframe thead th {\n",
       "        text-align: left;\n",
       "    }\n",
       "\n",
       "    .dataframe tbody tr th {\n",
       "        vertical-align: top;\n",
       "    }\n",
       "</style>\n",
       "<table border=\"1\" class=\"dataframe\">\n",
       "  <thead>\n",
       "    <tr style=\"text-align: right;\">\n",
       "      <th></th>\n",
       "      <th>agriculture</th>\n",
       "      <th>artisinal_mine</th>\n",
       "      <th>bare_ground</th>\n",
       "      <th>blooming</th>\n",
       "      <th>blow_down</th>\n",
       "      <th>clear</th>\n",
       "      <th>cloudy</th>\n",
       "      <th>conventional_mine</th>\n",
       "      <th>cultivation</th>\n",
       "      <th>habitation</th>\n",
       "      <th>haze</th>\n",
       "      <th>partly_cloudy</th>\n",
       "      <th>primary</th>\n",
       "      <th>road</th>\n",
       "      <th>selective_logging</th>\n",
       "      <th>slash_burn</th>\n",
       "      <th>water</th>\n",
       "    </tr>\n",
       "    <tr>\n",
       "      <th>image_name</th>\n",
       "      <th></th>\n",
       "      <th></th>\n",
       "      <th></th>\n",
       "      <th></th>\n",
       "      <th></th>\n",
       "      <th></th>\n",
       "      <th></th>\n",
       "      <th></th>\n",
       "      <th></th>\n",
       "      <th></th>\n",
       "      <th></th>\n",
       "      <th></th>\n",
       "      <th></th>\n",
       "      <th></th>\n",
       "      <th></th>\n",
       "      <th></th>\n",
       "      <th></th>\n",
       "    </tr>\n",
       "  </thead>\n",
       "  <tbody>\n",
       "    <tr>\n",
       "      <th>test_0</th>\n",
       "      <td>0.0</td>\n",
       "      <td>0.0</td>\n",
       "      <td>0.0</td>\n",
       "      <td>0.0</td>\n",
       "      <td>0.0</td>\n",
       "      <td>1.0</td>\n",
       "      <td>0.0</td>\n",
       "      <td>0.0</td>\n",
       "      <td>0.0</td>\n",
       "      <td>0.0</td>\n",
       "      <td>0.0</td>\n",
       "      <td>0.0</td>\n",
       "      <td>1.0</td>\n",
       "      <td>0.0</td>\n",
       "      <td>0.0</td>\n",
       "      <td>0.0</td>\n",
       "      <td>0.0</td>\n",
       "    </tr>\n",
       "    <tr>\n",
       "      <th>test_1</th>\n",
       "      <td>0.0</td>\n",
       "      <td>0.0</td>\n",
       "      <td>0.0</td>\n",
       "      <td>0.0</td>\n",
       "      <td>0.0</td>\n",
       "      <td>1.0</td>\n",
       "      <td>0.0</td>\n",
       "      <td>0.0</td>\n",
       "      <td>0.0</td>\n",
       "      <td>0.0</td>\n",
       "      <td>0.0</td>\n",
       "      <td>0.0</td>\n",
       "      <td>1.0</td>\n",
       "      <td>0.0</td>\n",
       "      <td>0.0</td>\n",
       "      <td>0.0</td>\n",
       "      <td>0.0</td>\n",
       "    </tr>\n",
       "    <tr>\n",
       "      <th>test_2</th>\n",
       "      <td>0.0</td>\n",
       "      <td>0.0</td>\n",
       "      <td>0.0</td>\n",
       "      <td>0.0</td>\n",
       "      <td>0.0</td>\n",
       "      <td>0.0</td>\n",
       "      <td>0.0</td>\n",
       "      <td>0.0</td>\n",
       "      <td>0.0</td>\n",
       "      <td>0.0</td>\n",
       "      <td>0.0</td>\n",
       "      <td>1.0</td>\n",
       "      <td>1.0</td>\n",
       "      <td>0.0</td>\n",
       "      <td>0.0</td>\n",
       "      <td>0.0</td>\n",
       "      <td>0.0</td>\n",
       "    </tr>\n",
       "  </tbody>\n",
       "</table>\n",
       "</div>"
      ],
      "text/plain": [
       "            agriculture  artisinal_mine  bare_ground  blooming  blow_down  \\\n",
       "image_name                                                                  \n",
       "test_0              0.0             0.0          0.0       0.0        0.0   \n",
       "test_1              0.0             0.0          0.0       0.0        0.0   \n",
       "test_2              0.0             0.0          0.0       0.0        0.0   \n",
       "\n",
       "            clear  cloudy  conventional_mine  cultivation  habitation  haze  \\\n",
       "image_name                                                                    \n",
       "test_0        1.0     0.0                0.0          0.0         0.0   0.0   \n",
       "test_1        1.0     0.0                0.0          0.0         0.0   0.0   \n",
       "test_2        0.0     0.0                0.0          0.0         0.0   0.0   \n",
       "\n",
       "            partly_cloudy  primary  road  selective_logging  slash_burn  water  \n",
       "image_name                                                                      \n",
       "test_0                0.0      1.0   0.0                0.0         0.0    0.0  \n",
       "test_1                0.0      1.0   0.0                0.0         0.0    0.0  \n",
       "test_2                1.0      1.0   0.0                0.0         0.0    0.0  "
      ]
     },
     "execution_count": 60,
     "metadata": {},
     "output_type": "execute_result"
    }
   ],
   "source": [
    "bayes_test[:3]"
   ]
  },
  {
   "cell_type": "code",
   "execution_count": 121,
   "metadata": {
    "collapsed": true
   },
   "outputs": [],
   "source": [
    "hack_test = valid_pred.copy()\n",
    "for cls in hack_test.columns:\n",
    "    if cls != 'cloudy':\n",
    "        hack_test[cls][hack_test['cloudy'] > .8] *= .8\n",
    "hack_test = make_bayes_submission.get_df_prediction(hack_test)"
   ]
  },
  {
   "cell_type": "code",
   "execution_count": 122,
   "metadata": {
    "collapsed": true
   },
   "outputs": [],
   "source": [
    "out_df = pd.DataFrame([\n",
    "    {'tags': ' '.join(c for c in hack_test.columns if row[c])\n",
    "     } for image_name, row in hack_test.iterrows()],\n",
    "    index=hack_test.index)"
   ]
  },
  {
   "cell_type": "code",
   "execution_count": 123,
   "metadata": {},
   "outputs": [
    {
     "data": {
      "text/html": [
       "<div>\n",
       "<style>\n",
       "    .dataframe thead tr:only-child th {\n",
       "        text-align: right;\n",
       "    }\n",
       "\n",
       "    .dataframe thead th {\n",
       "        text-align: left;\n",
       "    }\n",
       "\n",
       "    .dataframe tbody tr th {\n",
       "        vertical-align: top;\n",
       "    }\n",
       "</style>\n",
       "<table border=\"1\" class=\"dataframe\">\n",
       "  <thead>\n",
       "    <tr style=\"text-align: right;\">\n",
       "      <th></th>\n",
       "      <th>tags</th>\n",
       "    </tr>\n",
       "    <tr>\n",
       "      <th>image_name</th>\n",
       "      <th></th>\n",
       "    </tr>\n",
       "  </thead>\n",
       "  <tbody>\n",
       "    <tr>\n",
       "      <th>train_0</th>\n",
       "      <td>clear haze primary</td>\n",
       "    </tr>\n",
       "    <tr>\n",
       "      <th>train_1</th>\n",
       "      <td>agriculture clear cultivation primary road water</td>\n",
       "    </tr>\n",
       "    <tr>\n",
       "      <th>train_2</th>\n",
       "      <td>clear primary</td>\n",
       "    </tr>\n",
       "    <tr>\n",
       "      <th>train_3</th>\n",
       "      <td>clear primary</td>\n",
       "    </tr>\n",
       "    <tr>\n",
       "      <th>train_4</th>\n",
       "      <td>agriculture clear cultivation habitation prima...</td>\n",
       "    </tr>\n",
       "    <tr>\n",
       "      <th>train_5</th>\n",
       "      <td>haze primary road water</td>\n",
       "    </tr>\n",
       "    <tr>\n",
       "      <th>train_6</th>\n",
       "      <td>agriculture clear cultivation primary water</td>\n",
       "    </tr>\n",
       "    <tr>\n",
       "      <th>train_7</th>\n",
       "      <td>cloudy haze primary</td>\n",
       "    </tr>\n",
       "    <tr>\n",
       "      <th>train_8</th>\n",
       "      <td>agriculture clear cultivation primary</td>\n",
       "    </tr>\n",
       "    <tr>\n",
       "      <th>train_9</th>\n",
       "      <td>agriculture clear primary road</td>\n",
       "    </tr>\n",
       "  </tbody>\n",
       "</table>\n",
       "</div>"
      ],
      "text/plain": [
       "                                                         tags\n",
       "image_name                                                   \n",
       "train_0                                    clear haze primary\n",
       "train_1      agriculture clear cultivation primary road water\n",
       "train_2                                         clear primary\n",
       "train_3                                         clear primary\n",
       "train_4     agriculture clear cultivation habitation prima...\n",
       "train_5                               haze primary road water\n",
       "train_6           agriculture clear cultivation primary water\n",
       "train_7                                   cloudy haze primary\n",
       "train_8                 agriculture clear cultivation primary\n",
       "train_9                        agriculture clear primary road"
      ]
     },
     "execution_count": 123,
     "metadata": {},
     "output_type": "execute_result"
    }
   ],
   "source": [
    "out_df[:10]"
   ]
  },
  {
   "cell_type": "code",
   "execution_count": 125,
   "metadata": {
    "collapsed": true
   },
   "outputs": [],
   "source": [
    "out_df.to_csv('../../20170720-005737-b6-albu-0.93359-weather0808-bayes-test.csv', index_label='image_name')"
   ]
  },
  {
   "cell_type": "code",
   "execution_count": 126,
   "metadata": {},
   "outputs": [
    {
     "name": "stdout",
     "output_type": "stream",
     "text": [
      "image_name,tags\r\n",
      "train_0,clear haze primary\r\n",
      "train_1,agriculture clear cultivation primary road water\r\n",
      "train_2,clear primary\r\n",
      "train_3,clear primary\r\n",
      "train_4,agriculture clear cultivation habitation primary road water\r\n",
      "train_5,haze primary road water\r\n",
      "train_6,agriculture clear cultivation primary water\r\n",
      "train_7,cloudy haze primary\r\n",
      "train_8,agriculture clear cultivation primary\r\n"
     ]
    }
   ],
   "source": [
    "! head ../../20170720-005737-b6-albu-0.93359-weather0808-bayes-test.csv"
   ]
  },
  {
   "cell_type": "code",
   "execution_count": 68,
   "metadata": {},
   "outputs": [
    {
     "data": {
      "text/html": [
       "<div>\n",
       "<style>\n",
       "    .dataframe thead tr:only-child th {\n",
       "        text-align: right;\n",
       "    }\n",
       "\n",
       "    .dataframe thead th {\n",
       "        text-align: left;\n",
       "    }\n",
       "\n",
       "    .dataframe tbody tr th {\n",
       "        vertical-align: top;\n",
       "    }\n",
       "</style>\n",
       "<table border=\"1\" class=\"dataframe\">\n",
       "  <thead>\n",
       "    <tr style=\"text-align: right;\">\n",
       "      <th></th>\n",
       "      <th>tags</th>\n",
       "    </tr>\n",
       "    <tr>\n",
       "      <th>image_name</th>\n",
       "      <th></th>\n",
       "    </tr>\n",
       "  </thead>\n",
       "  <tbody>\n",
       "    <tr>\n",
       "      <th>test_0</th>\n",
       "      <td>clear primary</td>\n",
       "    </tr>\n",
       "    <tr>\n",
       "      <th>test_1</th>\n",
       "      <td>clear primary</td>\n",
       "    </tr>\n",
       "    <tr>\n",
       "      <th>test_2</th>\n",
       "      <td>partly_cloudy primary</td>\n",
       "    </tr>\n",
       "  </tbody>\n",
       "</table>\n",
       "</div>"
      ],
      "text/plain": [
       "                             tags\n",
       "image_name                       \n",
       "test_0              clear primary\n",
       "test_1              clear primary\n",
       "test_2      partly_cloudy primary"
      ]
     },
     "execution_count": 68,
     "metadata": {},
     "output_type": "execute_result"
    }
   ],
   "source": [
    "submit = pd.read_csv('/Users/kostia/Downloads/20170720-005737-b6-albu-0.93359_weather_hack0406.csv', index_col=0)\n",
    "submit[:3]"
   ]
  },
  {
   "cell_type": "code",
   "execution_count": 99,
   "metadata": {},
   "outputs": [
    {
     "data": {
      "text/html": [
       "<div>\n",
       "<style>\n",
       "    .dataframe thead tr:only-child th {\n",
       "        text-align: right;\n",
       "    }\n",
       "\n",
       "    .dataframe thead th {\n",
       "        text-align: left;\n",
       "    }\n",
       "\n",
       "    .dataframe tbody tr th {\n",
       "        vertical-align: top;\n",
       "    }\n",
       "</style>\n",
       "<table border=\"1\" class=\"dataframe\">\n",
       "  <thead>\n",
       "    <tr style=\"text-align: right;\">\n",
       "      <th></th>\n",
       "      <th>tags</th>\n",
       "    </tr>\n",
       "    <tr>\n",
       "      <th>image_name</th>\n",
       "      <th></th>\n",
       "    </tr>\n",
       "  </thead>\n",
       "  <tbody>\n",
       "    <tr>\n",
       "      <th>test_99</th>\n",
       "      <td>clear cloudy water</td>\n",
       "    </tr>\n",
       "    <tr>\n",
       "      <th>test_171</th>\n",
       "      <td>clear cloudy water</td>\n",
       "    </tr>\n",
       "    <tr>\n",
       "      <th>test_208</th>\n",
       "      <td>clear cloudy water</td>\n",
       "    </tr>\n",
       "    <tr>\n",
       "      <th>test_265</th>\n",
       "      <td>agriculture cloudy partly_cloudy primary</td>\n",
       "    </tr>\n",
       "    <tr>\n",
       "      <th>test_316</th>\n",
       "      <td>cloudy partly_cloudy primary road water</td>\n",
       "    </tr>\n",
       "    <tr>\n",
       "      <th>test_436</th>\n",
       "      <td>clear cloudy water</td>\n",
       "    </tr>\n",
       "    <tr>\n",
       "      <th>test_476</th>\n",
       "      <td>cloudy partly_cloudy primary</td>\n",
       "    </tr>\n",
       "    <tr>\n",
       "      <th>test_558</th>\n",
       "      <td>agriculture cloudy partly_cloudy primary water</td>\n",
       "    </tr>\n",
       "    <tr>\n",
       "      <th>test_604</th>\n",
       "      <td>clear cloudy water</td>\n",
       "    </tr>\n",
       "    <tr>\n",
       "      <th>test_654</th>\n",
       "      <td>cloudy haze primary</td>\n",
       "    </tr>\n",
       "  </tbody>\n",
       "</table>\n",
       "</div>"
      ],
      "text/plain": [
       "                                                      tags\n",
       "image_name                                                \n",
       "test_99                                 clear cloudy water\n",
       "test_171                                clear cloudy water\n",
       "test_208                                clear cloudy water\n",
       "test_265          agriculture cloudy partly_cloudy primary\n",
       "test_316           cloudy partly_cloudy primary road water\n",
       "test_436                                clear cloudy water\n",
       "test_476                      cloudy partly_cloudy primary\n",
       "test_558    agriculture cloudy partly_cloudy primary water\n",
       "test_604                                clear cloudy water\n",
       "test_654                               cloudy haze primary"
      ]
     },
     "execution_count": 99,
     "metadata": {},
     "output_type": "execute_result"
    }
   ],
   "source": [
    "out_df[(out_df != submit.loc[out_df.index])['tags']][:10]"
   ]
  },
  {
   "cell_type": "code",
   "execution_count": 100,
   "metadata": {},
   "outputs": [
    {
     "data": {
      "text/html": [
       "<div>\n",
       "<style>\n",
       "    .dataframe thead tr:only-child th {\n",
       "        text-align: right;\n",
       "    }\n",
       "\n",
       "    .dataframe thead th {\n",
       "        text-align: left;\n",
       "    }\n",
       "\n",
       "    .dataframe tbody tr th {\n",
       "        vertical-align: top;\n",
       "    }\n",
       "</style>\n",
       "<table border=\"1\" class=\"dataframe\">\n",
       "  <thead>\n",
       "    <tr style=\"text-align: right;\">\n",
       "      <th></th>\n",
       "      <th>tags</th>\n",
       "    </tr>\n",
       "    <tr>\n",
       "      <th>image_name</th>\n",
       "      <th></th>\n",
       "    </tr>\n",
       "  </thead>\n",
       "  <tbody>\n",
       "    <tr>\n",
       "      <th>test_99</th>\n",
       "      <td>cloudy</td>\n",
       "    </tr>\n",
       "    <tr>\n",
       "      <th>test_171</th>\n",
       "      <td>clear cloudy</td>\n",
       "    </tr>\n",
       "    <tr>\n",
       "      <th>test_208</th>\n",
       "      <td>clear water</td>\n",
       "    </tr>\n",
       "    <tr>\n",
       "      <th>test_265</th>\n",
       "      <td>agriculture partly_cloudy primary</td>\n",
       "    </tr>\n",
       "    <tr>\n",
       "      <th>test_316</th>\n",
       "      <td>cloudy partly_cloudy primary road</td>\n",
       "    </tr>\n",
       "    <tr>\n",
       "      <th>test_436</th>\n",
       "      <td>cloudy</td>\n",
       "    </tr>\n",
       "    <tr>\n",
       "      <th>test_476</th>\n",
       "      <td>cloudy</td>\n",
       "    </tr>\n",
       "    <tr>\n",
       "      <th>test_558</th>\n",
       "      <td>cloudy partly_cloudy primary</td>\n",
       "    </tr>\n",
       "    <tr>\n",
       "      <th>test_604</th>\n",
       "      <td>cloudy</td>\n",
       "    </tr>\n",
       "    <tr>\n",
       "      <th>test_654</th>\n",
       "      <td>cloudy</td>\n",
       "    </tr>\n",
       "  </tbody>\n",
       "</table>\n",
       "</div>"
      ],
      "text/plain": [
       "                                         tags\n",
       "image_name                                   \n",
       "test_99                                cloudy\n",
       "test_171                         clear cloudy\n",
       "test_208                          clear water\n",
       "test_265    agriculture partly_cloudy primary\n",
       "test_316    cloudy partly_cloudy primary road\n",
       "test_436                               cloudy\n",
       "test_476                               cloudy\n",
       "test_558         cloudy partly_cloudy primary\n",
       "test_604                               cloudy\n",
       "test_654                               cloudy"
      ]
     },
     "execution_count": 100,
     "metadata": {},
     "output_type": "execute_result"
    }
   ],
   "source": [
    "submit[(out_df != submit.loc[out_df.index])['tags']][:10]"
   ]
  },
  {
   "cell_type": "code",
   "execution_count": 80,
   "metadata": {},
   "outputs": [
    {
     "data": {
      "text/plain": [
       "61191"
      ]
     },
     "execution_count": 80,
     "metadata": {},
     "output_type": "execute_result"
    }
   ],
   "source": [
    "len(out_df)"
   ]
  },
  {
   "cell_type": "code",
   "execution_count": 82,
   "metadata": {},
   "outputs": [
    {
     "data": {
      "text/plain": [
       "0.022895523851546806"
      ]
     },
     "execution_count": 82,
     "metadata": {},
     "output_type": "execute_result"
    }
   ],
   "source": [
    "1 - 59790 / 61191"
   ]
  },
  {
   "cell_type": "code",
   "execution_count": 85,
   "metadata": {},
   "outputs": [
    {
     "ename": "ValueError",
     "evalue": "Can only compare identically-labeled DataFrame objects",
     "output_type": "error",
     "traceback": [
      "\u001b[0;31m---------------------------------------------------------------------------\u001b[0m",
      "\u001b[0;31mValueError\u001b[0m                                Traceback (most recent call last)",
      "\u001b[0;32m<ipython-input-85-78bcd4510387>\u001b[0m in \u001b[0;36m<module>\u001b[0;34m()\u001b[0m\n\u001b[0;32m----> 1\u001b[0;31m \u001b[0;34m(\u001b[0m\u001b[0mout_df\u001b[0m \u001b[0;34m!=\u001b[0m \u001b[0mtest_pred\u001b[0m\u001b[0;34m)\u001b[0m\u001b[0;34m.\u001b[0m\u001b[0msum\u001b[0m\u001b[0;34m(\u001b[0m\u001b[0;34m)\u001b[0m\u001b[0;34m\u001b[0m\u001b[0m\n\u001b[0m",
      "\u001b[0;32m~/programming/ml/kaggle-planet-2017/venv/lib/python3.5/site-packages/pandas/core/ops.py\u001b[0m in \u001b[0;36mf\u001b[0;34m(self, other)\u001b[0m\n\u001b[1;32m   1295\u001b[0m     \u001b[0;32mdef\u001b[0m \u001b[0mf\u001b[0m\u001b[0;34m(\u001b[0m\u001b[0mself\u001b[0m\u001b[0;34m,\u001b[0m \u001b[0mother\u001b[0m\u001b[0;34m)\u001b[0m\u001b[0;34m:\u001b[0m\u001b[0;34m\u001b[0m\u001b[0m\n\u001b[1;32m   1296\u001b[0m         \u001b[0;32mif\u001b[0m \u001b[0misinstance\u001b[0m\u001b[0;34m(\u001b[0m\u001b[0mother\u001b[0m\u001b[0;34m,\u001b[0m \u001b[0mpd\u001b[0m\u001b[0;34m.\u001b[0m\u001b[0mDataFrame\u001b[0m\u001b[0;34m)\u001b[0m\u001b[0;34m:\u001b[0m  \u001b[0;31m# Another DataFrame\u001b[0m\u001b[0;34m\u001b[0m\u001b[0m\n\u001b[0;32m-> 1297\u001b[0;31m             \u001b[0;32mreturn\u001b[0m \u001b[0mself\u001b[0m\u001b[0;34m.\u001b[0m\u001b[0m_compare_frame\u001b[0m\u001b[0;34m(\u001b[0m\u001b[0mother\u001b[0m\u001b[0;34m,\u001b[0m \u001b[0mfunc\u001b[0m\u001b[0;34m,\u001b[0m \u001b[0mstr_rep\u001b[0m\u001b[0;34m)\u001b[0m\u001b[0;34m\u001b[0m\u001b[0m\n\u001b[0m\u001b[1;32m   1298\u001b[0m         \u001b[0;32melif\u001b[0m \u001b[0misinstance\u001b[0m\u001b[0;34m(\u001b[0m\u001b[0mother\u001b[0m\u001b[0;34m,\u001b[0m \u001b[0mABCSeries\u001b[0m\u001b[0;34m)\u001b[0m\u001b[0;34m:\u001b[0m\u001b[0;34m\u001b[0m\u001b[0m\n\u001b[1;32m   1299\u001b[0m             \u001b[0;32mreturn\u001b[0m \u001b[0mself\u001b[0m\u001b[0;34m.\u001b[0m\u001b[0m_combine_series_infer\u001b[0m\u001b[0;34m(\u001b[0m\u001b[0mother\u001b[0m\u001b[0;34m,\u001b[0m \u001b[0mfunc\u001b[0m\u001b[0;34m)\u001b[0m\u001b[0;34m\u001b[0m\u001b[0m\n",
      "\u001b[0;32m~/programming/ml/kaggle-planet-2017/venv/lib/python3.5/site-packages/pandas/core/frame.py\u001b[0m in \u001b[0;36m_compare_frame\u001b[0;34m(self, other, func, str_rep)\u001b[0m\n\u001b[1;32m   3570\u001b[0m     \u001b[0;32mdef\u001b[0m \u001b[0m_compare_frame\u001b[0m\u001b[0;34m(\u001b[0m\u001b[0mself\u001b[0m\u001b[0;34m,\u001b[0m \u001b[0mother\u001b[0m\u001b[0;34m,\u001b[0m \u001b[0mfunc\u001b[0m\u001b[0;34m,\u001b[0m \u001b[0mstr_rep\u001b[0m\u001b[0;34m)\u001b[0m\u001b[0;34m:\u001b[0m\u001b[0;34m\u001b[0m\u001b[0m\n\u001b[1;32m   3571\u001b[0m         \u001b[0;32mif\u001b[0m \u001b[0;32mnot\u001b[0m \u001b[0mself\u001b[0m\u001b[0;34m.\u001b[0m\u001b[0m_indexed_same\u001b[0m\u001b[0;34m(\u001b[0m\u001b[0mother\u001b[0m\u001b[0;34m)\u001b[0m\u001b[0;34m:\u001b[0m\u001b[0;34m\u001b[0m\u001b[0m\n\u001b[0;32m-> 3572\u001b[0;31m             raise ValueError('Can only compare identically-labeled '\n\u001b[0m\u001b[1;32m   3573\u001b[0m                              'DataFrame objects')\n\u001b[1;32m   3574\u001b[0m         \u001b[0;32mreturn\u001b[0m \u001b[0mself\u001b[0m\u001b[0;34m.\u001b[0m\u001b[0m_compare_frame_evaluate\u001b[0m\u001b[0;34m(\u001b[0m\u001b[0mother\u001b[0m\u001b[0;34m,\u001b[0m \u001b[0mfunc\u001b[0m\u001b[0;34m,\u001b[0m \u001b[0mstr_rep\u001b[0m\u001b[0;34m)\u001b[0m\u001b[0;34m\u001b[0m\u001b[0m\n",
      "\u001b[0;31mValueError\u001b[0m: Can only compare identically-labeled DataFrame objects"
     ]
    }
   ],
   "source": [
    "(out_df != test_pred).sum()"
   ]
  }
 ],
 "metadata": {
  "kernelspec": {
   "display_name": "Python 3",
   "language": "python",
   "name": "python3"
  },
  "language_info": {
   "codemirror_mode": {
    "name": "ipython",
    "version": 3
   },
   "file_extension": ".py",
   "mimetype": "text/x-python",
   "name": "python",
   "nbconvert_exporter": "python",
   "pygments_lexer": "ipython3",
   "version": "3.5.1"
  }
 },
 "nbformat": 4,
 "nbformat_minor": 2
}
