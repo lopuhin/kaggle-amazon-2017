{
 "cells": [
  {
   "cell_type": "code",
   "execution_count": 72,
   "metadata": {
    "collapsed": true
   },
   "outputs": [],
   "source": [
    "import pandas as pd\n",
    "import numpy as np\n",
    "from matplotlib import pyplot as plt\n",
    "from sklearn.model_selection import KFold\n",
    "from scipy.stats import ttest_1samp\n",
    "%matplotlib inline"
   ]
  },
  {
   "cell_type": "code",
   "execution_count": 2,
   "metadata": {},
   "outputs": [
    {
     "data": {
      "text/html": [
       "<div>\n",
       "<style>\n",
       "    .dataframe thead tr:only-child th {\n",
       "        text-align: right;\n",
       "    }\n",
       "\n",
       "    .dataframe thead th {\n",
       "        text-align: left;\n",
       "    }\n",
       "\n",
       "    .dataframe tbody tr th {\n",
       "        vertical-align: top;\n",
       "    }\n",
       "</style>\n",
       "<table border=\"1\" class=\"dataframe\">\n",
       "  <thead>\n",
       "    <tr style=\"text-align: right;\">\n",
       "      <th></th>\n",
       "      <th>agriculture</th>\n",
       "      <th>artisinal_mine</th>\n",
       "      <th>bare_ground</th>\n",
       "      <th>blooming</th>\n",
       "      <th>blow_down</th>\n",
       "      <th>clear</th>\n",
       "      <th>cloudy</th>\n",
       "      <th>conventional_mine</th>\n",
       "      <th>cultivation</th>\n",
       "      <th>habitation</th>\n",
       "      <th>haze</th>\n",
       "      <th>partly_cloudy</th>\n",
       "      <th>primary</th>\n",
       "      <th>road</th>\n",
       "      <th>selective_logging</th>\n",
       "      <th>slash_burn</th>\n",
       "      <th>water</th>\n",
       "    </tr>\n",
       "    <tr>\n",
       "      <th>b'image_name'</th>\n",
       "      <th></th>\n",
       "      <th></th>\n",
       "      <th></th>\n",
       "      <th></th>\n",
       "      <th></th>\n",
       "      <th></th>\n",
       "      <th></th>\n",
       "      <th></th>\n",
       "      <th></th>\n",
       "      <th></th>\n",
       "      <th></th>\n",
       "      <th></th>\n",
       "      <th></th>\n",
       "      <th></th>\n",
       "      <th></th>\n",
       "      <th></th>\n",
       "      <th></th>\n",
       "    </tr>\n",
       "  </thead>\n",
       "  <tbody>\n",
       "    <tr>\n",
       "      <th>train_0</th>\n",
       "      <td>0.002900</td>\n",
       "      <td>0.001370</td>\n",
       "      <td>0.001533</td>\n",
       "      <td>0.001599</td>\n",
       "      <td>0.001442</td>\n",
       "      <td>0.733193</td>\n",
       "      <td>0.001396</td>\n",
       "      <td>0.001365</td>\n",
       "      <td>0.002094</td>\n",
       "      <td>0.001792</td>\n",
       "      <td>0.828538</td>\n",
       "      <td>0.001803</td>\n",
       "      <td>0.998538</td>\n",
       "      <td>0.001924</td>\n",
       "      <td>0.001486</td>\n",
       "      <td>0.001427</td>\n",
       "      <td>0.003176</td>\n",
       "    </tr>\n",
       "    <tr>\n",
       "      <th>train_1</th>\n",
       "      <td>0.893066</td>\n",
       "      <td>0.002227</td>\n",
       "      <td>0.009441</td>\n",
       "      <td>0.001569</td>\n",
       "      <td>0.001566</td>\n",
       "      <td>0.998100</td>\n",
       "      <td>0.001370</td>\n",
       "      <td>0.001451</td>\n",
       "      <td>0.642272</td>\n",
       "      <td>0.023163</td>\n",
       "      <td>0.001569</td>\n",
       "      <td>0.001671</td>\n",
       "      <td>0.998555</td>\n",
       "      <td>0.704373</td>\n",
       "      <td>0.002417</td>\n",
       "      <td>0.009954</td>\n",
       "      <td>0.883210</td>\n",
       "    </tr>\n",
       "    <tr>\n",
       "      <th>train_2</th>\n",
       "      <td>0.002361</td>\n",
       "      <td>0.001377</td>\n",
       "      <td>0.001498</td>\n",
       "      <td>0.001468</td>\n",
       "      <td>0.001442</td>\n",
       "      <td>0.998310</td>\n",
       "      <td>0.001365</td>\n",
       "      <td>0.001356</td>\n",
       "      <td>0.001742</td>\n",
       "      <td>0.001737</td>\n",
       "      <td>0.001508</td>\n",
       "      <td>0.001479</td>\n",
       "      <td>0.998572</td>\n",
       "      <td>0.001655</td>\n",
       "      <td>0.001452</td>\n",
       "      <td>0.001411</td>\n",
       "      <td>0.001930</td>\n",
       "    </tr>\n",
       "  </tbody>\n",
       "</table>\n",
       "</div>"
      ],
      "text/plain": [
       "               agriculture  artisinal_mine  bare_ground  blooming  blow_down  \\\n",
       "b'image_name'                                                                  \n",
       "train_0           0.002900        0.001370     0.001533  0.001599   0.001442   \n",
       "train_1           0.893066        0.002227     0.009441  0.001569   0.001566   \n",
       "train_2           0.002361        0.001377     0.001498  0.001468   0.001442   \n",
       "\n",
       "                  clear    cloudy  conventional_mine  cultivation  habitation  \\\n",
       "b'image_name'                                                                   \n",
       "train_0        0.733193  0.001396           0.001365     0.002094    0.001792   \n",
       "train_1        0.998100  0.001370           0.001451     0.642272    0.023163   \n",
       "train_2        0.998310  0.001365           0.001356     0.001742    0.001737   \n",
       "\n",
       "                   haze  partly_cloudy   primary      road  selective_logging  \\\n",
       "b'image_name'                                                                   \n",
       "train_0        0.828538       0.001803  0.998538  0.001924           0.001486   \n",
       "train_1        0.001569       0.001671  0.998555  0.704373           0.002417   \n",
       "train_2        0.001508       0.001479  0.998572  0.001655           0.001452   \n",
       "\n",
       "               slash_burn     water  \n",
       "b'image_name'                        \n",
       "train_0          0.001427  0.003176  \n",
       "train_1          0.009954  0.883210  \n",
       "train_2          0.001411  0.001930  "
      ]
     },
     "execution_count": 2,
     "metadata": {},
     "output_type": "execute_result"
    }
   ],
   "source": [
    "valid_pred = pd.read_hdf('../../_data/20170718-003045-b2-albu-eval.h5')\n",
    "valid_pred[:3]"
   ]
  },
  {
   "cell_type": "code",
   "execution_count": 9,
   "metadata": {},
   "outputs": [
    {
     "data": {
      "text/html": [
       "<div>\n",
       "<style>\n",
       "    .dataframe thead tr:only-child th {\n",
       "        text-align: right;\n",
       "    }\n",
       "\n",
       "    .dataframe thead th {\n",
       "        text-align: left;\n",
       "    }\n",
       "\n",
       "    .dataframe tbody tr th {\n",
       "        vertical-align: top;\n",
       "    }\n",
       "</style>\n",
       "<table border=\"1\" class=\"dataframe\">\n",
       "  <thead>\n",
       "    <tr style=\"text-align: right;\">\n",
       "      <th></th>\n",
       "      <th>agriculture</th>\n",
       "      <th>artisinal_mine</th>\n",
       "      <th>bare_ground</th>\n",
       "      <th>blooming</th>\n",
       "      <th>blow_down</th>\n",
       "      <th>clear</th>\n",
       "      <th>cloudy</th>\n",
       "      <th>conventional_mine</th>\n",
       "      <th>cultivation</th>\n",
       "      <th>habitation</th>\n",
       "      <th>haze</th>\n",
       "      <th>partly_cloudy</th>\n",
       "      <th>primary</th>\n",
       "      <th>road</th>\n",
       "      <th>selective_logging</th>\n",
       "      <th>slash_burn</th>\n",
       "      <th>water</th>\n",
       "    </tr>\n",
       "    <tr>\n",
       "      <th>image_name</th>\n",
       "      <th></th>\n",
       "      <th></th>\n",
       "      <th></th>\n",
       "      <th></th>\n",
       "      <th></th>\n",
       "      <th></th>\n",
       "      <th></th>\n",
       "      <th></th>\n",
       "      <th></th>\n",
       "      <th></th>\n",
       "      <th></th>\n",
       "      <th></th>\n",
       "      <th></th>\n",
       "      <th></th>\n",
       "      <th></th>\n",
       "      <th></th>\n",
       "      <th></th>\n",
       "    </tr>\n",
       "  </thead>\n",
       "  <tbody>\n",
       "    <tr>\n",
       "      <th>train_0</th>\n",
       "      <td>0</td>\n",
       "      <td>0</td>\n",
       "      <td>0</td>\n",
       "      <td>0</td>\n",
       "      <td>0</td>\n",
       "      <td>0</td>\n",
       "      <td>0</td>\n",
       "      <td>0</td>\n",
       "      <td>0</td>\n",
       "      <td>0</td>\n",
       "      <td>1</td>\n",
       "      <td>0</td>\n",
       "      <td>1</td>\n",
       "      <td>0</td>\n",
       "      <td>0</td>\n",
       "      <td>0</td>\n",
       "      <td>0</td>\n",
       "    </tr>\n",
       "    <tr>\n",
       "      <th>train_1</th>\n",
       "      <td>1</td>\n",
       "      <td>0</td>\n",
       "      <td>0</td>\n",
       "      <td>0</td>\n",
       "      <td>0</td>\n",
       "      <td>1</td>\n",
       "      <td>0</td>\n",
       "      <td>0</td>\n",
       "      <td>0</td>\n",
       "      <td>0</td>\n",
       "      <td>0</td>\n",
       "      <td>0</td>\n",
       "      <td>1</td>\n",
       "      <td>0</td>\n",
       "      <td>0</td>\n",
       "      <td>0</td>\n",
       "      <td>1</td>\n",
       "    </tr>\n",
       "    <tr>\n",
       "      <th>train_2</th>\n",
       "      <td>0</td>\n",
       "      <td>0</td>\n",
       "      <td>0</td>\n",
       "      <td>0</td>\n",
       "      <td>0</td>\n",
       "      <td>1</td>\n",
       "      <td>0</td>\n",
       "      <td>0</td>\n",
       "      <td>0</td>\n",
       "      <td>0</td>\n",
       "      <td>0</td>\n",
       "      <td>0</td>\n",
       "      <td>1</td>\n",
       "      <td>0</td>\n",
       "      <td>0</td>\n",
       "      <td>0</td>\n",
       "      <td>0</td>\n",
       "    </tr>\n",
       "  </tbody>\n",
       "</table>\n",
       "</div>"
      ],
      "text/plain": [
       "            agriculture  artisinal_mine  bare_ground  blooming  blow_down  \\\n",
       "image_name                                                                  \n",
       "train_0               0               0            0         0          0   \n",
       "train_1               1               0            0         0          0   \n",
       "train_2               0               0            0         0          0   \n",
       "\n",
       "            clear  cloudy  conventional_mine  cultivation  habitation  haze  \\\n",
       "image_name                                                                    \n",
       "train_0         0       0                  0            0           0     1   \n",
       "train_1         1       0                  0            0           0     0   \n",
       "train_2         1       0                  0            0           0     0   \n",
       "\n",
       "            partly_cloudy  primary  road  selective_logging  slash_burn  water  \n",
       "image_name                                                                      \n",
       "train_0                 0        1     0                  0           0      0  \n",
       "train_1                 0        1     0                  0           0      1  \n",
       "train_2                 0        1     0                  0           0      0  "
      ]
     },
     "execution_count": 9,
     "metadata": {},
     "output_type": "execute_result"
    }
   ],
   "source": [
    "train_flat = pd.read_csv('../../_data/train_flat.csv', index_col=0)\n",
    "train_flat[:3]"
   ]
  },
  {
   "cell_type": "code",
   "execution_count": 18,
   "metadata": {
    "collapsed": true
   },
   "outputs": [],
   "source": [
    "def f2_score(y_true, y_pred, eps=1e-7) -> float:\n",
    "    # same as fbeta_score(y_true, y_pred, beta=2, average='samples')\n",
    "    # but faster\n",
    "    if isinstance(y_true, pd.DataFrame):\n",
    "        y_true = y_true.as_matrix()\n",
    "    if isinstance(y_pred, pd.DataFrame):\n",
    "        y_pred = y_pred.as_matrix()\n",
    "    tp = (y_true * y_pred).sum(axis=1)\n",
    "    r = tp / y_true.sum(axis=1)\n",
    "    p = tp / (y_pred.sum(axis=1) + eps)\n",
    "    beta2 = 4\n",
    "    f2 = (1 + beta2) * p * r / (beta2 * p + r + eps)\n",
    "    return f2.mean()"
   ]
  },
  {
   "cell_type": "code",
   "execution_count": 19,
   "metadata": {},
   "outputs": [
    {
     "data": {
      "text/plain": [
       "0.93320946748926459"
      ]
     },
     "execution_count": 19,
     "metadata": {},
     "output_type": "execute_result"
    }
   ],
   "source": [
    "threshold = 0.2\n",
    "original_score = f2_score(train_flat, valid_pred > threshold)\n",
    "original_score"
   ]
  },
  {
   "cell_type": "code",
   "execution_count": null,
   "metadata": {
    "collapsed": true
   },
   "outputs": [],
   "source": [
    "for th in np.linspace(0.15, 0.35, 100):\n",
    "    score = f2_score(train_flat.as_matrix(), (valid_pred > th).as_matrix())\n",
    "    if score > original_score:\n",
    "        print('{:.4f} {:.7f}'.format(th, score - original_score))"
   ]
  },
  {
   "cell_type": "code",
   "execution_count": 102,
   "metadata": {},
   "outputs": [
    {
     "name": "stdout",
     "output_type": "stream",
     "text": [
      "Mean delta +0.00010\n",
      "T-test: Ttest_1sampResult(statistic=1.9254977191996936, pvalue=0.054450719519534577)\n"
     ]
    },
    {
     "data": {
      "image/png": "[encoded data removed]",
      "text/plain": [
       "<matplotlib.figure.Figure at 0x11703fef0>"
      ]
     },
     "metadata": {},
     "output_type": "display_data"
    }
   ],
   "source": [
    "deltas = []\n",
    "for _ in range(100):\n",
    "    for train_ids, valid_ids in KFold(n_splits=10, shuffle=True).split(valid_pred.index):\n",
    "        hack = valid_pred.iloc[valid_ids].copy()\n",
    "        hack[hack['cloudy'] > .7] *= .7\n",
    "        delta = f2_score(train_flat.iloc[valid_ids], hack > threshold) - original_score\n",
    "        deltas.append(delta)\n",
    "        # print('{:+.5f}'.format(delta))\n",
    "plt.figure(figsize=(8, 4))\n",
    "plt.hist(deltas, bins=50);\n",
    "print('Mean delta {:+.5f}'.format(np.mean(deltas)))\n",
    "print('T-test: {}'.format(ttest_1samp(deltas, 0)))"
   ]
  },
  {
   "cell_type": "code",
   "execution_count": 37,
   "metadata": {},
   "outputs": [
    {
     "data": {
      "image/png": "[encoded data removed]",
      "text/plain": [
       "<matplotlib.figure.Figure at 0x11346a198>"
      ]
     },
     "metadata": {},
     "output_type": "display_data"
    }
   ],
   "source": [
    "plt.hist(hack.as_matrix().sum(axis=1), bins=30);"
   ]
  }
 ],
 "metadata": {
  "kernelspec": {
   "display_name": "Python 3",
   "language": "python",
   "name": "python3"
  },
  "language_info": {
   "codemirror_mode": {
    "name": "ipython",
    "version": 3
   },
   "file_extension": ".py",
   "mimetype": "text/x-python",
   "name": "python",
   "nbconvert_exporter": "python",
   "pygments_lexer": "ipython3",
   "version": "3.5.1"
  }
 },
 "nbformat": 4,
 "nbformat_minor": 2
}
